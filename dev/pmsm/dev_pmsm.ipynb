{
 "cells": [
  {
   "cell_type": "code",
   "execution_count": null,
   "id": "e47b0ce0-780e-4a2a-8834-3962729f79f8",
   "metadata": {
    "scrolled": true
   },
   "outputs": [],
   "source": [
    "%load_ext autoreload\n",
    "%autoreload 2\n",
    "%reload_ext line_profiler"
   ]
  },
  {
   "cell_type": "code",
   "execution_count": null,
   "id": "432bea73-ca2f-4368-b797-a7d20708ba69",
   "metadata": {},
   "outputs": [],
   "source": [
    "import os\n",
    "os.environ['CUDA_VISIBLE_DEVICES'] = '1'\n",
    "os.environ[\"XLA_PYTHON_CLIENT_PREALLOCATE\"]=\"false\"\n",
    "\n",
    "import pathlib\n",
    "from functools import partial\n",
    "\n",
    "import time\n",
    "from tqdm.notebook import tqdm\n",
    "import numpy as np\n",
    "import matplotlib.pyplot as plt\n",
    "import matplotlib as mpl\n",
    "mpl.rcParams['text.usetex'] = True\n",
    "mpl.rcParams.update({'font.size': 10 * 2.54})\n",
    "mpl.rcParams['text.latex.preamble']=r\"\\usepackage{bm}\"\n",
    "import plotly.express as px\n",
    "import plotly.graph_objects as go"
   ]
  },
  {
   "cell_type": "code",
   "execution_count": null,
   "id": "dabdf089-62e0-49f1-aeda-1efdd59505ed",
   "metadata": {},
   "outputs": [],
   "source": [
    "import jax\n",
    "import jax.numpy as jnp\n",
    "# jax.config.update(\"jax_enable_x64\", True)\n",
    "gpus = jax.devices()\n",
    "jax.config.update(\"jax_default_device\", gpus[0])\n",
    "# jax.config.update('jax_platform_name', 'cpu')\n",
    "import chex\n",
    "\n",
    "import diffrax\n",
    "import equinox as eqx\n",
    "import optax\n",
    "\n",
    "from haiku import PRNGSequence"
   ]
  },
  {
   "cell_type": "code",
   "execution_count": null,
   "id": "e7a6bd50-20e8-45ec-bcaa-ccaa22482799",
   "metadata": {},
   "outputs": [],
   "source": [
    "import exciting_environments as excenvs\n",
    "\n",
    "import dmpe\n",
    "from dmpe.models import NeuralEulerODEPendulum, NeuralODEPendulum, NeuralEulerODE, NeuralEulerODECartpole\n",
    "from dmpe.models.model_utils import simulate_ahead_with_env\n",
    "from dmpe.models.model_training import ModelTrainer\n",
    "from dmpe.excitation import loss_function, Exciter\n",
    "\n",
    "from dmpe.utils.density_estimation import (\n",
    "    update_density_estimate_single_observation, update_density_estimate_multiple_observations, DensityEstimate, select_bandwidth, build_grid\n",
    ")\n",
    "from dmpe.utils.signals import aprbs\n",
    "from dmpe.evaluation.plotting_utils import (\n",
    "    plot_sequence, append_predictions_to_sequence_plot, plot_sequence_and_prediction, plot_model_performance,\n",
    "    plot_2d_kde_as_contourf, plot_2d_kde_as_surface, plot_feature_combinations\n",
    ")\n",
    "from dmpe.evaluation.experiment_utils import (\n",
    "    get_experiment_ids, load_experiment_results, quick_eval, evaluate_experiment_metrics, evaluate_algorithm_metrics, evaluate_metrics\n",
    ")"
   ]
  },
  {
   "cell_type": "code",
   "execution_count": null,
   "id": "8a3469e2-edb3-4599-a4a5-8a6a024bf4aa",
   "metadata": {},
   "outputs": [],
   "source": [
    "i_d = np.linspace(-1, 0, 1000)\n",
    "i_q = np.sqrt(1**2 - i_d**2)\n",
    "\n",
    "i_d = (i_d + 0.5) * 2\n",
    "\n",
    "plt.plot(i_d, i_q, \"k\")\n",
    "plt.plot(i_d, -i_q, \"k\")\n",
    "plt.plot(np.ones(2), np.array([-1, 1]), \"k\")\n",
    "plt.show()"
   ]
  },
  {
   "cell_type": "markdown",
   "id": "ffe4ed9b-89a3-409d-92a6-6d97891b6783",
   "metadata": {},
   "source": [
    "---"
   ]
  },
  {
   "cell_type": "code",
   "execution_count": null,
   "id": "bfdfeafb-18c0-406e-8d7a-9a299eea0f2c",
   "metadata": {},
   "outputs": [],
   "source": [
    "# setup PRNG\n",
    "key = jax.random.PRNGKey(seed=222)\n",
    "\n",
    "data_key, model_key, loader_key, expl_key, key = jax.random.split(key, 5)\n",
    "data_rng = PRNGSequence(data_key)"
   ]
  },
  {
   "cell_type": "code",
   "execution_count": null,
   "id": "246ba0f6-71f1-4c27-a658-af465664f9cc",
   "metadata": {},
   "outputs": [],
   "source": [
    "from exciting_environments.pmsm.pmsm_env import PMSM"
   ]
  },
  {
   "cell_type": "code",
   "execution_count": null,
   "id": "c0025c91-3a05-4663-b153-19cb84ff0648",
   "metadata": {},
   "outputs": [],
   "source": [
    "class ExcitingPMSM(PMSM):\n",
    "\n",
    "    def generate_observation(self, system_state, env_properties):\n",
    "        physical_constraints = env_properties.physical_constraints\n",
    "\n",
    "        eps = system_state.physical_state.epsilon\n",
    "        cos_eps = jnp.cos(eps)\n",
    "        sin_eps = jnp.sin(eps)\n",
    "        \n",
    "        obs = jnp.hstack(\n",
    "            (\n",
    "                (system_state.physical_state.i_d + (physical_constraints.i_d * 0.5)) / (physical_constraints.i_d * 0.5),\n",
    "                system_state.physical_state.i_q / physical_constraints.i_q,\n",
    "                # cos_eps,\n",
    "                # sin_eps,\n",
    "            )\n",
    "        )\n",
    "        return obs\n",
    "\n",
    "    def init_state(self, env_properties, rng=None, vmap_helper=None):\n",
    "        \"\"\"Returns default initial state for all batches.\"\"\"\n",
    "        phys = self.PhysicalState(\n",
    "            u_d_buffer=0.0,\n",
    "            u_q_buffer=0.0,\n",
    "            epsilon=0.0,\n",
    "            i_d=-env_properties.physical_constraints.i_d / 2,\n",
    "            i_q=0.0,\n",
    "            torque=0.0,\n",
    "            omega_el=2 * jnp.pi * 3 * 1000 / 60,\n",
    "        )\n",
    "        subkey = jnp.nan\n",
    "        additions = None  # self.Optional(something=jnp.zeros(self.batch_size))\n",
    "        ref = self.PhysicalState(\n",
    "            u_d_buffer=jnp.nan,\n",
    "            u_q_buffer=jnp.nan,\n",
    "            epsilon=jnp.nan,\n",
    "            i_d=jnp.nan,\n",
    "            i_q=jnp.nan,\n",
    "            torque=jnp.nan,\n",
    "            omega_el=jnp.nan,\n",
    "        )\n",
    "        return self.State(physical_state=phys, PRNGKey=subkey, additions=additions, reference=ref)"
   ]
  },
  {
   "cell_type": "code",
   "execution_count": null,
   "id": "06c16ecd-087b-4cbf-95e7-0e73de6acd0d",
   "metadata": {},
   "outputs": [],
   "source": [
    "batch_size=1\n",
    "\n",
    "env = ExcitingPMSM(\n",
    "    batch_size=batch_size,\n",
    "    saturated=True,\n",
    "    LUT_motor_name=\"BRUSA\",\n",
    "    static_params = {\n",
    "        \"p\": 3,\n",
    "        \"r_s\": 15e-3,\n",
    "        \"l_d\": jnp.nan,\n",
    "        \"l_q\": jnp.nan,\n",
    "        \"psi_p\": jnp.nan,\n",
    "        \"deadtime\": 0,\n",
    "    },\n",
    "    solver=diffrax.Euler()\n",
    ")"
   ]
  },
  {
   "cell_type": "code",
   "execution_count": null,
   "id": "b1483bde-71b2-49ff-a0af-5574b90ea87f",
   "metadata": {},
   "outputs": [],
   "source": [
    "obs, state = env.vmap_reset()\n",
    "\n",
    "n_steps = 99\n",
    "actions = jnp.concatenate([aprbs(n_steps, batch_size, 1, 10, next(data_rng)), aprbs(n_steps, batch_size, 1, 10, next(data_rng))], axis=-1)\n",
    "\n",
    "observations = [obs[..., 0:2]]\n",
    "\n",
    "for i in range(actions.shape[1]):\n",
    "   \n",
    "    obs, state = env.vmap_step(state, actions[:, i,:])\n",
    "    observations.append(obs[...,0:2])"
   ]
  },
  {
   "cell_type": "code",
   "execution_count": null,
   "id": "a29c6ace-b88f-4ffc-9ee7-7b404940f99d",
   "metadata": {},
   "outputs": [],
   "source": [
    "plot_sequence(np.concatenate(observations), np.concatenate(actions), env.tau, obs_labels=env.obs_description[:2], action_labels=['u_d', 'u_q'])"
   ]
  },
  {
   "cell_type": "code",
   "execution_count": null,
   "id": "9b94ea73-12fc-494c-bf4d-ad0a4f19ff68",
   "metadata": {},
   "outputs": [],
   "source": [
    "from dmpe.algorithms import excite_with_dmpe, default_dmpe, default_dmpe_parameterization\n",
    "from dmpe.models.models import NeuralEulerODEPMSM"
   ]
  },
  {
   "cell_type": "code",
   "execution_count": null,
   "id": "0790dcea-bc07-4758-a88a-ede14ed272f2",
   "metadata": {},
   "outputs": [],
   "source": [
    "def test(a, b, penalty_order=1):\n",
    "    a = (a - 1)/ 2\n",
    "    return jax.nn.relu(a**2 + b**2 - 0.8**2)**penalty_order"
   ]
  },
  {
   "cell_type": "code",
   "execution_count": null,
   "id": "2d4d271b-da38-4d40-9e2f-2e267a22c34a",
   "metadata": {},
   "outputs": [],
   "source": [
    "extend = 1.5\n",
    "\n",
    "xx, yy = np.meshgrid(np.linspace(-extend, extend, 100), np.linspace(-extend, extend, 100))\n",
    "zz = test(xx, yy)"
   ]
  },
  {
   "cell_type": "code",
   "execution_count": null,
   "id": "c04afc3b-61f0-42af-b84f-9548b22714e5",
   "metadata": {
    "scrolled": true
   },
   "outputs": [],
   "source": [
    "fig = plt.figure(figsize=(6, 6))\n",
    "axs = fig.add_subplot(111, projection=\"3d\")\n",
    "\n",
    "_ = axs.plot_surface(\n",
    "    xx,\n",
    "    yy,\n",
    "    zz,\n",
    "    antialiased=False,\n",
    "    alpha=0.8,\n",
    "    cmap=plt.cm.coolwarm,\n",
    ")"
   ]
  },
  {
   "cell_type": "code",
   "execution_count": null,
   "id": "1be693d8-9f46-48aa-985c-231f17ed3d3a",
   "metadata": {},
   "outputs": [],
   "source": [
    "from dmpe.excitation.excitation_utils import soft_penalty"
   ]
  },
  {
   "cell_type": "code",
   "execution_count": null,
   "id": "0c4edf1e-d3cf-498b-a233-7d9b81bc1289",
   "metadata": {},
   "outputs": [],
   "source": [
    "def PMSM_penalty(observations, actions, penalty_order=2):\n",
    "\n",
    "    action_penalty = soft_penalty(actions, a_max=1, penalty_order=1)\n",
    "\n",
    "    physical_i_d = observations[..., 0] * (env.env_properties.physical_constraints.i_d * 0.5) - (env.env_properties.physical_constraints.i_d * 0.5)\n",
    "    physical_i_q = observations[..., 1] * env.env_properties.physical_constraints.i_q\n",
    "\n",
    "    a = physical_i_d / 250\n",
    "    b = physical_i_q / 250\n",
    "    \n",
    "    obs_penalty = jax.nn.relu(a**2 + b**2 - 0.9)\n",
    "    obs_penalty = jnp.sum(obs_penalty) \n",
    "    i_d_penalty = jnp.sum(jax.nn.relu(a))\n",
    "    \n",
    "    return (obs_penalty + i_d_penalty + action_penalty) * 1e3"
   ]
  },
  {
   "cell_type": "code",
   "execution_count": null,
   "id": "b7fd7080-345b-4a56-829f-57357af493cb",
   "metadata": {},
   "outputs": [],
   "source": [
    "# exp_params, init_actions, loader_key, expl_key = default_dmpe_parameterization(env, seed=0, featurize=None, model_class=NeuralEulerODEPMSM)"
   ]
  },
  {
   "cell_type": "code",
   "execution_count": null,
   "id": "69fafc1d-47c6-47bb-98b1-6509916a4d24",
   "metadata": {},
   "outputs": [],
   "source": [
    "seed = 63463473\n",
    "\n",
    "alg_params = dict(\n",
    "    bandwidth=jnp.nan,\n",
    "    n_prediction_steps=5,\n",
    "    points_per_dim=21,\n",
    "    action_lr=1e-2,\n",
    "    n_opt_steps=100,\n",
    "    consider_action_distribution=True,\n",
    "    penalty_function=PMSM_penalty,\n",
    "    target_distribution=None,\n",
    "    clip_action=False,\n",
    "    n_starts=3,\n",
    "    reuse_proposed_actions=True,\n",
    ")\n",
    "\n",
    "\n",
    "# alg_params[\"bandwidth\"] = float(\n",
    "#     select_bandwidth(\n",
    "#         delta_x=2,\n",
    "#         dim=env.physical_state_dim + env.action_dim,\n",
    "#         n_g=alg_params[\"points_per_dim\"],\n",
    "#         percentage=0.3,\n",
    "#     )\n",
    "# )\n",
    "\n",
    "dim = 4 if alg_params[\"consider_action_distribution\"] else 2\n",
    "points_per_dim = alg_params[\"points_per_dim\"]\n",
    "target_distribution = (np.ones(shape=[points_per_dim for _ in range(dim)]) ** dim)[..., None]\n",
    "xx, yy = np.meshgrid(np.linspace(-1, 0, points_per_dim), np.linspace(-1, 1, points_per_dim))\n",
    "target_distribution[xx**2 + yy**2 > 1] = 0\n",
    "target_distribution = target_distribution / jnp.sum(target_distribution)\n",
    "alg_params[\"target_distribution\"] = jnp.array(target_distribution.reshape(-1, 1))\n",
    "\n",
    "\n",
    "alg_params[\"bandwidth\"] = float(\n",
    "    select_bandwidth(\n",
    "        delta_x=2,\n",
    "        dim=dim,\n",
    "        n_g=alg_params[\"points_per_dim\"],\n",
    "        percentage=0.3,\n",
    "    )\n",
    ")\n",
    "print(\"bw\", alg_params[\"bandwidth\"])\n",
    "\n",
    "\n",
    "model_trainer_params = dict(\n",
    "    start_learning=alg_params[\"n_prediction_steps\"],\n",
    "    training_batch_size=128,\n",
    "    n_train_steps=1,\n",
    "    sequence_length=alg_params[\"n_prediction_steps\"],\n",
    "    featurize=lambda x: x,\n",
    "    model_lr=1e-4,\n",
    ")\n",
    "model_params = dict(obs_dim=2, action_dim=env.action_dim, width_size=128, depth=3, key=None)\n",
    "\n",
    "exp_params = dict(\n",
    "    seed=seed,\n",
    "    n_time_steps=1_000,\n",
    "    model_class=NeuralEulerODEPMSM,\n",
    "    env_params=None,\n",
    "    alg_params=alg_params,\n",
    "    model_trainer_params=model_trainer_params,\n",
    "    model_params=model_params,\n",
    ")"
   ]
  },
  {
   "cell_type": "code",
   "execution_count": null,
   "id": "58dd2547-181d-4605-9d56-3864b3a76fbe",
   "metadata": {},
   "outputs": [],
   "source": [
    "alg_params[\"bandwidth\"] = 0.07"
   ]
  },
  {
   "cell_type": "code",
   "execution_count": null,
   "id": "32636ef2-6e19-4ec9-8f7b-1f81bac2907e",
   "metadata": {},
   "outputs": [],
   "source": []
  },
  {
   "cell_type": "code",
   "execution_count": null,
   "id": "9358dda8-5cf6-496f-8346-a2add512561d",
   "metadata": {},
   "outputs": [],
   "source": [
    "x_g = build_grid(dim, low=-1, high=1, points_per_dim=exp_params[\"alg_params\"][\"points_per_dim\"])\n",
    "constr_func = lambda x_g: PMSM_penalty(x_g[..., None, :2], x_g[..., None, 2:])\n",
    "valid_grid_point = jax.vmap(constr_func, in_axes=0)(x_g) == 0\n",
    "constrained_data_points = x_g[jnp.where(valid_grid_point == True)]\n",
    "constrained_data_points.shape"
   ]
  },
  {
   "cell_type": "code",
   "execution_count": null,
   "id": "58d598ca-a141-41d8-828c-480094f0ea75",
   "metadata": {},
   "outputs": [],
   "source": [
    "fig = plot_feature_combinations(\n",
    "    constrained_data_points,\n",
    "    labels=[\"$\\\\tilde{i}_d$\", \"$\\\\tilde{i}_q$\", \"$\\\\tilde{u}_d$\", \"$\\\\tilde{u}_q$\"],\n",
    "    mode=\"contourf\",\n",
    "    points_per_dim=alg_params[\"points_per_dim\"],\n",
    "    bandwidth=alg_params[\"bandwidth\"]\n",
    ");"
   ]
  },
  {
   "cell_type": "code",
   "execution_count": null,
   "id": "33b12769-efdf-447f-83fd-e34fc0a149d6",
   "metadata": {},
   "outputs": [],
   "source": [
    "target_distribution = DensityEstimate.from_dataset(\n",
    "    constrained_data_points[None],\n",
    "    points_per_dim=alg_params[\"points_per_dim\"],\n",
    "    bandwidth=alg_params[\"bandwidth\"],\n",
    ")\n",
    "\n",
    "exp_params[\"alg_params\"][\"target_distribution\"] = target_distribution.p[0]"
   ]
  },
  {
   "cell_type": "code",
   "execution_count": null,
   "id": "339193a2-6e55-4554-82f2-10987936c855",
   "metadata": {},
   "outputs": [],
   "source": [
    "# helper_density_estimate = DensityEstimate.from_dataset(\n",
    "#     jnp.concatenate([observations[0:-1, :2], actions], axis=-1)[None],\n",
    "#     points_per_dim=alg_params[\"points_per_dim\"],\n",
    "#     bandwidth=alg_params[\"bandwidth\"],\n",
    "# )\n",
    "# exp_params[\"alg_params\"][\"target_distribution\"] = (\n",
    "#     exp_params[\"alg_params\"][\"target_distribution\"] \n",
    "#     + (exp_params[\"alg_params\"][\"target_distribution\"] - helper_density_estimate.p[0])\n",
    "# )\n",
    "# exp_params[\"alg_params\"][\"target_distribution\"] = jax.nn.relu(exp_params[\"alg_params\"][\"target_distribution\"])"
   ]
  },
  {
   "cell_type": "code",
   "execution_count": null,
   "id": "cf4ee52b-b607-41ca-8140-6a3fc20740dd",
   "metadata": {},
   "outputs": [],
   "source": [
    "key = jax.random.PRNGKey(seed=exp_params[\"seed\"])\n",
    "data_key, model_key, loader_key, expl_key, key = jax.random.split(key, 5)\n",
    "\n",
    "data_rng = PRNGSequence(data_key)\n",
    "exp_params[\"model_params\"][\"key\"] = model_key\n",
    "\n",
    "# initial guess\n",
    "proposed_actions = jnp.hstack(\n",
    "    [\n",
    "        aprbs(alg_params[\"n_prediction_steps\"], env.batch_size, 1, 10, next(data_rng))[0]\n",
    "        for _ in range(env.action_dim)\n",
    "    ]\n",
    ")"
   ]
  },
  {
   "cell_type": "code",
   "execution_count": null,
   "id": "d5338ca8-364d-4090-bd17-4828ea6b1eab",
   "metadata": {},
   "outputs": [],
   "source": [
    "observations, actions, model, density_estimate, losses, proposed_actions = excite_with_dmpe(\n",
    "    env, exp_params, proposed_actions, loader_key, expl_key, plot_every=1000\n",
    ")"
   ]
  },
  {
   "cell_type": "code",
   "execution_count": null,
   "id": "cb3f5cb5-5a0b-451b-8e12-4c98ad4ab8a6",
   "metadata": {},
   "outputs": [],
   "source": [
    "physical_i_d = observations[..., 0] * (env.env_properties.physical_constraints.i_d * 0.5) - (env.env_properties.physical_constraints.i_d * 0.5)\n",
    "physical_i_q = observations[..., 1] * env.env_properties.physical_constraints.i_q"
   ]
  },
  {
   "cell_type": "code",
   "execution_count": null,
   "id": "b4ce73c0-f58c-4648-ad9b-2b833ce3a653",
   "metadata": {},
   "outputs": [],
   "source": [
    "fig, axs = plot_sequence(\n",
    "    observations=jnp.vstack([physical_i_d, physical_i_q]).T,\n",
    "    actions=(actions * jnp.hstack([env.env_properties.action_constraints.u_d, env.env_properties.action_constraints.u_q])),\n",
    "    tau=env.tau,\n",
    "    obs_labels=[\"i_d\", \"i_q\"],\n",
    "    action_labels=[\"u_d\", \"u_q\"]\n",
    ")\n",
    "# t = jnp.linspace(0, observations.shape[0] - 1, observations.shape[0]) * env.tau\n",
    "# axs[0].plot(t, np.ones(observations.shape[0]) * env.env_properties.physical_constraints.i_d)\n",
    "# axs[0].plot(t, -np.ones(observations.shape[0]) * env.env_properties.physical_constraints.i_d)\n",
    "\n",
    "axs[1].set_xlim(-270,0)\n",
    "axs[1].set_ylim(-270, 270)\n",
    "# t = t[:-1]\n",
    "# axs[2].plot(t, np.ones(actions.shape[0]) * env.env_properties.action_constraints.u_d)\n",
    "# axs[2].plot(t, -np.ones(actions.shape[0]) * env.env_properties.action_constraints.u_d)\n",
    "\n",
    "plt.show()"
   ]
  },
  {
   "cell_type": "code",
   "execution_count": null,
   "id": "5449df8a-0297-419c-93d3-7c15cb2cecea",
   "metadata": {},
   "outputs": [],
   "source": [
    "fig = plot_feature_combinations(\n",
    "    jnp.concatenate([observations[0:-1], actions], axis=-1),\n",
    "    labels=[\"$\\\\tilde{i}_d$\", \"$\\\\tilde{i}_q$\", \"$\\\\tilde{u}_d$\", \"$\\\\tilde{u}_q$\"],\n",
    "    mode=\"contourf\",\n",
    "    bandwidth=0.05\n",
    ");\n",
    "plt.show()\n",
    "# plt.savefig(\"results/plots/focus_both.pdf\") if alg_params[\"consider_action_distribution\"] else plt.savefig(\"results/plots/focus_obs.pdf\")"
   ]
  },
  {
   "cell_type": "code",
   "execution_count": null,
   "id": "de90f89f-fb75-40d5-9af5-91e75a84d873",
   "metadata": {},
   "outputs": [],
   "source": [
    "fig = plot_feature_combinations(\n",
    "    jnp.concatenate([observations[0:-1], actions], axis=-1),\n",
    "    labels=[\"$\\\\tilde{i}_d$\", \"$\\\\tilde{i}_q$\", \"$\\\\tilde{u}_d$\", \"$\\\\tilde{u}_q$\"]\n",
    ");\n",
    "# plt.savefig(\"results/plots/focus_both.pdf\") if alg_params[\"consider_action_distribution\"] else plt.savefig(\"results/plots/focus_obs.pdf\")"
   ]
  },
  {
   "cell_type": "code",
   "execution_count": null,
   "id": "f42da06f-c318-4c08-9581-f6234ff2d52c",
   "metadata": {},
   "outputs": [],
   "source": [
    "np.save(\"results/pmsm_dmpe_observations.npy\", observations)\n",
    "np.save(\"results/pmsm_dmpe_actions.npy\", actions)"
   ]
  },
  {
   "cell_type": "code",
   "execution_count": null,
   "id": "60dcb917-046f-47f5-b9e1-84ff395fdb3f",
   "metadata": {},
   "outputs": [],
   "source": [
    "raise"
   ]
  },
  {
   "cell_type": "markdown",
   "id": "a0f985e5-66e5-4c6f-8a8e-f937abc94c08",
   "metadata": {},
   "source": [
    "### PM-DMPE:"
   ]
  },
  {
   "cell_type": "code",
   "execution_count": null,
   "id": "902f6eea-5eac-4c00-a2dc-b5f14a97d840",
   "metadata": {},
   "outputs": [],
   "source": [
    "from dmpe.models.model_utils import ModelEnvWrapperPMSM"
   ]
  },
  {
   "cell_type": "code",
   "execution_count": null,
   "id": "3623066c-6ef7-4a1e-9149-d96d58dc85e0",
   "metadata": {},
   "outputs": [],
   "source": [
    "seed = 41152145125\n",
    "\n",
    "alg_params = dict(\n",
    "    bandwidth=jnp.nan,\n",
    "    n_prediction_steps=3,\n",
    "    points_per_dim=21,\n",
    "    action_lr=1e-2,\n",
    "    n_opt_steps=50,\n",
    "    consider_action_distribution=True,\n",
    "    penalty_function=PMSM_penalty,\n",
    "    target_distribution=None,\n",
    "    clip_action=False,\n",
    "    n_starts=5,\n",
    "    reuse_proposed_actions=True,\n",
    ")\n",
    "\n",
    "\n",
    "# alg_params[\"bandwidth\"] = float(\n",
    "#     select_bandwidth(\n",
    "#         delta_x=2,\n",
    "#         dim=env.physical_state_dim + env.action_dim,\n",
    "#         n_g=alg_params[\"points_per_dim\"],\n",
    "#         percentage=0.3,\n",
    "#     )\n",
    "# )\n",
    "\n",
    "\n",
    "dim = 4 if alg_params[\"consider_action_distribution\"] else 2\n",
    "points_per_dim = alg_params[\"points_per_dim\"]\n",
    "target_distribution = (np.ones(shape=[points_per_dim for _ in range(dim)]) ** dim)[..., None]\n",
    "xx, yy = np.meshgrid(np.linspace(-1, 0, points_per_dim), np.linspace(-1, 1, points_per_dim))\n",
    "# target_distribution[yy > 0.3] = (yy[yy > 0.3] * 5 + 1).flatten()[..., None, None, None]\n",
    "# target_distribution[yy > 0] = (yy[yy > 0] * 5 + 1).flatten()[..., None]\n",
    "target_distribution[xx**2 + yy**2 > 0.9] = 0\n",
    "# target_distribution[yy < 0] = 0\n",
    "target_distribution = target_distribution / jnp.sum(target_distribution)\n",
    "alg_params[\"target_distribution\"] = jnp.array(target_distribution.reshape(-1, 1))\n",
    "\n",
    "\n",
    "alg_params[\"bandwidth\"] = float(\n",
    "    select_bandwidth(\n",
    "        delta_x=2,\n",
    "        dim=dim,\n",
    "        n_g=alg_params[\"points_per_dim\"],\n",
    "        percentage=0.05,\n",
    "    )\n",
    ")\n",
    "\n",
    "exp_params = dict(\n",
    "    seed=int(1),\n",
    "    n_time_steps=5_000,\n",
    "    model_class=None,\n",
    "    env_params=None,\n",
    "    alg_params=alg_params,\n",
    "    model_trainer_params=None,\n",
    "    model_params=None,\n",
    "    model_env_wrapper=ModelEnvWrapperPMSM,\n",
    ")"
   ]
  },
  {
   "cell_type": "code",
   "execution_count": null,
   "id": "965122f6-aba3-49d3-8a3a-079b6c1ae6ae",
   "metadata": {},
   "outputs": [],
   "source": [
    "fig = plt.figure(figsize=(6, 6))\n",
    "ax = fig.add_subplot(111)\n",
    "ax.imshow(target_distribution[:, :, 0, 0, 0])\n",
    "ax.invert_yaxis()"
   ]
  },
  {
   "cell_type": "code",
   "execution_count": null,
   "id": "2e559e46-ae0b-41e8-a544-ec613bb2749f",
   "metadata": {},
   "outputs": [],
   "source": [
    "alg_params[\"bandwidth\"]"
   ]
  },
  {
   "cell_type": "code",
   "execution_count": null,
   "id": "22b6bc25-4253-4d9b-bcb4-459de75e0dcf",
   "metadata": {},
   "outputs": [],
   "source": [
    "env"
   ]
  },
  {
   "cell_type": "code",
   "execution_count": null,
   "id": "6810c066-5765-4958-96ad-8906705fd614",
   "metadata": {},
   "outputs": [],
   "source": [
    "key = jax.random.PRNGKey(seed=exp_params[\"seed\"])\n",
    "data_key, _, _, expl_key, key = jax.random.split(key, 5)\n",
    "data_rng = PRNGSequence(data_key)\n",
    "\n",
    "proposed_actions = jnp.hstack(\n",
    "    [\n",
    "        aprbs(alg_params[\"n_prediction_steps\"], env.batch_size, 1, 10, next(data_rng))[0]\n",
    "        for _ in range(env.action_dim)\n",
    "    ]\n",
    ")\n",
    "# run excitation algorithm\n",
    "observations, actions, model, density_estimate, losses, proposed_actions = excite_with_dmpe(\n",
    "    env,\n",
    "    exp_params,\n",
    "    proposed_actions,\n",
    "    None,\n",
    "    expl_key,\n",
    "    plot_every=10,\n",
    ")"
   ]
  },
  {
   "cell_type": "code",
   "execution_count": null,
   "id": "9fa261bd-a0ec-49ef-9397-109db38a9a53",
   "metadata": {},
   "outputs": [],
   "source": [
    "%debug"
   ]
  },
  {
   "cell_type": "code",
   "execution_count": null,
   "id": "37c61f4d-02f6-4c57-b5c9-094b4ee33c34",
   "metadata": {},
   "outputs": [],
   "source": [
    "fig = plot_feature_combinations(jnp.concatenate([observations[0:-1], actions], axis=-1), labels=[\"i_d\", \"i_q\", \"u_d\", \"u_q\"], mode=\"contourf\");\n",
    "plt.savefig(\"focus_both_contourf.png\") if alg_params[\"consider_action_distribution\"] else plt.savefig(\"focus_obs_contourf.png\")"
   ]
  },
  {
   "cell_type": "code",
   "execution_count": null,
   "id": "66e26cb0-5be5-46f5-b46c-dd6e459faa2e",
   "metadata": {},
   "outputs": [],
   "source": [
    "fig = plot_feature_combinations(jnp.concatenate([observations[0:-1], actions], axis=-1), labels=[\"i_d\", \"i_q\", \"u_d\", \"u_q\"]);\n",
    "plt.savefig(\"focus_both.png\") if alg_params[\"consider_action_distribution\"] else plt.savefig(\"focus_obs.png\")"
   ]
  },
  {
   "cell_type": "code",
   "execution_count": null,
   "id": "132173c7-5f51-4660-8773-280e06a37f63",
   "metadata": {},
   "outputs": [],
   "source": [
    "raise"
   ]
  },
  {
   "cell_type": "code",
   "execution_count": null,
   "id": "215c6aa7-9e98-42e7-8bb6-1590c961a9bb",
   "metadata": {},
   "outputs": [],
   "source": [
    "physical_i_d = observations[..., 0] * (env.env_properties.physical_constraints.i_d * 0.5) - (env.env_properties.physical_constraints.i_d * 0.5)\n",
    "physical_i_q = observations[..., 1] * env.env_properties.physical_constraints.i_q"
   ]
  },
  {
   "cell_type": "code",
   "execution_count": null,
   "id": "5941adad-9d5f-4a21-8ee1-1a6faf29df52",
   "metadata": {},
   "outputs": [],
   "source": [
    "fig, axs = plot_sequence(\n",
    "    observations=jnp.vstack([physical_i_d, physical_i_q]).T,\n",
    "    actions=actions * jnp.hstack([env.env_properties.action_constraints.u_d, env.env_properties.action_constraints.u_q]),\n",
    "    tau=env.tau,\n",
    "    obs_labels=[\"i_d\", \"i_q\"],\n",
    "    action_labels=[\"u_d\", \"u_q\"]\n",
    ")\n",
    "t = jnp.linspace(0, observations.shape[0] - 1, observations.shape[0]) * env.tau\n",
    "axs[0].plot(t, np.ones(observations.shape[0]) * env.env_properties.physical_constraints.i_d)\n",
    "axs[0].plot(t, -np.ones(observations.shape[0]) * env.env_properties.physical_constraints.i_d)\n",
    "\n",
    "\n",
    "t = t[:-1]\n",
    "axs[2].plot(t, np.ones(actions.shape[0]) * env.env_properties.action_constraints.u_d)\n",
    "axs[2].plot(t, -np.ones(actions.shape[0]) * env.env_properties.action_constraints.u_d)\n",
    "\n",
    "plt.savefig(\"test_200vdc.png\")"
   ]
  },
  {
   "cell_type": "code",
   "execution_count": null,
   "id": "764c83d5-552c-4f00-b7fd-9dd404be2384",
   "metadata": {},
   "outputs": [],
   "source": [
    "from dmpe.evaluation.plotting_utils import plot_2d_kde_as_contourf, plot_2d_kde_as_surface"
   ]
  },
  {
   "cell_type": "code",
   "execution_count": null,
   "id": "529241e1-0f0a-4917-9e63-98f127486202",
   "metadata": {},
   "outputs": [],
   "source": [
    "obs_density = DensityEstimate.from_dataset(observations, actions=actions, use_actions=False, points_per_dim=100, bandwidth=exp_params[\"alg_params\"][\"bandwidth\"])\n",
    "obs_labels = [\"i_d\", \"i_q\"]\n",
    "plot_2d_kde_as_contourf(obs_density.p, obs_density.x_g, obs_labels)\n",
    "\n",
    "plt.savefig(\"-\".join(obs_labels) + \".png\")"
   ]
  },
  {
   "cell_type": "code",
   "execution_count": null,
   "id": "0bcac1f2-fa41-4731-9c47-859d86d2b57b",
   "metadata": {},
   "outputs": [],
   "source": [
    "act_density = DensityEstimate.from_dataset(actions, actions=observations, use_actions=False, points_per_dim=100, bandwidth=exp_params[\"alg_params\"][\"bandwidth\"])\n",
    "\n",
    "obs_labels = [\"u_d\", \"u_q\"]\n",
    "plot_2d_kde_as_contourf(act_density.p, act_density.x_g, obs_labels)\n",
    "\n",
    "plt.savefig(\"-\".join(obs_labels) + \".png\")"
   ]
  },
  {
   "cell_type": "code",
   "execution_count": null,
   "id": "95ec80a2-2769-43ae-b2fb-a6797ba10c59",
   "metadata": {},
   "outputs": [],
   "source": [
    "density_estimate_test =  DensityEstimate.from_dataset(jnp.concatenate([observations[:-1, 0][..., None], actions[..., 0][..., None]], axis=-1), actions=actions, use_actions=False, points_per_dim=100, bandwidth=exp_params[\"alg_params\"][\"bandwidth\"])\n",
    "\n",
    "obs_labels = [\"i_d\", \"u_d\"]\n",
    "plot_2d_kde_as_contourf(density_estimate_test.p, density_estimate_test.x_g, obs_labels)\n",
    "\n",
    "plt.savefig(\"-\".join(obs_labels) + \".png\")"
   ]
  },
  {
   "cell_type": "code",
   "execution_count": null,
   "id": "ba88235a-3ecd-468a-939b-80809e2c7986",
   "metadata": {},
   "outputs": [],
   "source": [
    "density_estimate_test =  DensityEstimate.from_dataset(jnp.concatenate([observations[:-1, 1][..., None], actions[..., 1][..., None]], axis=-1), actions=actions, use_actions=False, points_per_dim=100, bandwidth=exp_params[\"alg_params\"][\"bandwidth\"])\n",
    "\n",
    "obs_labels = [\"i_q\", \"u_q\"]\n",
    "plot_2d_kde_as_contourf(density_estimate_test.p, density_estimate_test.x_g, obs_labels)\n",
    "\n",
    "plt.savefig(\"-\".join(obs_labels) + \".png\")"
   ]
  },
  {
   "cell_type": "code",
   "execution_count": null,
   "id": "61324d2b-9ee1-4203-8b62-3bf3c56898aa",
   "metadata": {},
   "outputs": [],
   "source": [
    "density_estimate_test =  DensityEstimate.from_dataset(jnp.concatenate([observations[:-1, 0][..., None], actions[..., 1][..., None]], axis=-1), actions=actions, use_actions=False, points_per_dim=100, bandwidth=exp_params[\"alg_params\"][\"bandwidth\"])\n",
    "\n",
    "obs_labels = [\"i_d\", \"u_q\"]\n",
    "plot_2d_kde_as_contourf(density_estimate_test.p, density_estimate_test.x_g, obs_labels)\n",
    "\n",
    "plt.savefig(\"-\".join(obs_labels) + \".png\")"
   ]
  },
  {
   "cell_type": "code",
   "execution_count": null,
   "id": "a38db605-7252-467d-8ce2-203b0ef59629",
   "metadata": {},
   "outputs": [],
   "source": [
    "density_estimate_test =  DensityEstimate.from_dataset(jnp.concatenate([observations[:-1, 1][..., None], actions[..., 0][..., None]], axis=-1), actions=actions, use_actions=False, points_per_dim=100, bandwidth=exp_params[\"alg_params\"][\"bandwidth\"])\n",
    "\n",
    "obs_labels = [\"i_q\", \"u_d\"]\n",
    "plot_2d_kde_as_contourf(density_estimate_test.p, density_estimate_test.x_g, obs_labels)\n",
    "\n",
    "plt.savefig(\"-\".join(obs_labels) + \".png\")"
   ]
  },
  {
   "cell_type": "code",
   "execution_count": null,
   "id": "17a0b174-bb9d-4643-a545-a79d37e587c1",
   "metadata": {},
   "outputs": [],
   "source": [
    "%debug"
   ]
  },
  {
   "cell_type": "markdown",
   "id": "e6430898-3567-4f65-abba-a0cf9da76c65",
   "metadata": {},
   "source": [
    "---"
   ]
  },
  {
   "cell_type": "code",
   "execution_count": null,
   "id": "550ab932-5723-47c9-a1a6-d177aa26343f",
   "metadata": {},
   "outputs": [],
   "source": [
    "raise"
   ]
  },
  {
   "cell_type": "code",
   "execution_count": null,
   "id": "fccc22d0-f557-4014-b523-3f1cd9a86e4e",
   "metadata": {},
   "outputs": [],
   "source": [
    "from copy import deepcopy"
   ]
  },
  {
   "cell_type": "code",
   "execution_count": null,
   "id": "2829a51e-396a-4d82-91ee-565e18f888ed",
   "metadata": {},
   "outputs": [],
   "source": [
    "from dmpe.models.model_utils import simulate_ahead_with_env"
   ]
  },
  {
   "cell_type": "code",
   "execution_count": null,
   "id": "e00d0087-1213-40e0-81fa-553d5b6f0131",
   "metadata": {},
   "outputs": [],
   "source": [
    "L = 20\n",
    "\n",
    "obs, state = env.reset()\n",
    "\n",
    "model_predictions = []\n",
    "env_predictions = []\n",
    "sim_ahead_predictions = []\n",
    "\n",
    "for i in range(100):\n",
    "\n",
    "    model_pred_observations = model(obs[0, :2], actions[i:i+L, :], env.tau)\n",
    "    model_predictions.append(model_pred_observations)\n",
    "\n",
    "    sim_ahead_predictions.append(jax.vmap(simulate_ahead_with_env, in_axes=(None, None, 0, None))(env, obs[0, :2], state, actions[i:i+L, :])[0][0])\n",
    "\n",
    "    _state = deepcopy(state)\n",
    "    env_obs = [obs[..., 0:2]]\n",
    "    for j in range(L):\n",
    "        obs, _state = env.vmap_step(_state, actions[i+j, :][None])\n",
    "        env_obs.append(obs[..., 0:2])\n",
    "\n",
    "    obs, state = env.vmap_step(state, actions[i, :][None])\n",
    "    \n",
    "    \n",
    "    env_predictions.append(jnp.vstack(env_obs))\n",
    "\n",
    "\n",
    "env_predictions = jnp.stack(env_predictions)\n",
    "model_predictions = jnp.stack(model_predictions)\n",
    "sim_ahead_predictions = jnp.stack(sim_ahead_predictions)"
   ]
  },
  {
   "cell_type": "code",
   "execution_count": null,
   "id": "c144cf8f-e6e7-4c5c-a5b1-31a870ecb8b7",
   "metadata": {},
   "outputs": [],
   "source": [
    "env.reset()"
   ]
  },
  {
   "cell_type": "code",
   "execution_count": null,
   "id": "772438c3-3a8d-4c8c-ab62-c452155258f6",
   "metadata": {},
   "outputs": [],
   "source": [
    "1476.5486"
   ]
  },
  {
   "cell_type": "code",
   "execution_count": null,
   "id": "09879af1-cab7-4360-8f9d-827d0f4b4487",
   "metadata": {},
   "outputs": [],
   "source": [
    "2 * jnp.pi * 3 * 4700 / 60,"
   ]
  },
  {
   "cell_type": "code",
   "execution_count": null,
   "id": "97f413db-66ee-459c-8d55-1fb674b2dff0",
   "metadata": {
    "scrolled": true
   },
   "outputs": [],
   "source": [
    "for i in range(L):\n",
    "    plt.plot(env_predictions[i, ...], label=[\"env_i_d\", \"env_i_q\"])\n",
    "    plt.plot(model_predictions[i, ...], label=[\"model_i_d\", \"model_i_q\"])\n",
    "    plt.plot(sim_ahead_predictions[i, ...], label=[\"sim_ahead_i_d\", \"sim_ahead_i_q\"])\n",
    "    plt.legend()\n",
    "    plt.show()"
   ]
  },
  {
   "cell_type": "code",
   "execution_count": null,
   "id": "0d49a935-1078-463e-8d02-35f75d8e182e",
   "metadata": {},
   "outputs": [],
   "source": [
    "model_predictions[0, ...]"
   ]
  },
  {
   "cell_type": "code",
   "execution_count": null,
   "id": "edcfc84f-1922-455e-8783-10a8efc1fd7d",
   "metadata": {
    "scrolled": true
   },
   "outputs": [],
   "source": [
    "jnp.stack(env_predictions)\n",
    "jnp.stack(model_predictions)"
   ]
  },
  {
   "cell_type": "code",
   "execution_count": null,
   "id": "064e0dd9-5127-4033-8cc5-cb5b5e129441",
   "metadata": {},
   "outputs": [],
   "source": []
  },
  {
   "cell_type": "code",
   "execution_count": null,
   "id": "f4cb6a28-87e6-4b2d-adb4-b8d47eb7a77c",
   "metadata": {},
   "outputs": [],
   "source": [
    "state.physical_state.omega_el"
   ]
  },
  {
   "cell_type": "code",
   "execution_count": null,
   "id": "27580feb-dffc-4b40-be95-8bc61c62fbfb",
   "metadata": {},
   "outputs": [],
   "source": [
    "2 * jnp.pi * 3 * 4700 / 60,"
   ]
  },
  {
   "cell_type": "code",
   "execution_count": null,
   "id": "712e2b24-7e32-47f1-8b21-c175d73051b1",
   "metadata": {},
   "outputs": [],
   "source": [
    "1476.5486 * 60 / (2* jnp.pi * 3)"
   ]
  },
  {
   "cell_type": "code",
   "execution_count": null,
   "id": "5e592693-994b-4e74-8a6d-e98738d364dd",
   "metadata": {},
   "outputs": [],
   "source": []
  },
  {
   "cell_type": "code",
   "execution_count": null,
   "id": "673a32d9-e95b-4c7c-b214-ab1ed2be66da",
   "metadata": {},
   "outputs": [],
   "source": []
  },
  {
   "cell_type": "code",
   "execution_count": null,
   "id": "907533cd-b985-4dc8-86f0-3315d692097f",
   "metadata": {},
   "outputs": [],
   "source": []
  },
  {
   "cell_type": "code",
   "execution_count": null,
   "id": "87deb71e-51c9-4a5d-8eef-dbbd61d1bc5e",
   "metadata": {},
   "outputs": [],
   "source": []
  },
  {
   "cell_type": "code",
   "execution_count": null,
   "id": "08d84e44-ede1-4a19-a414-0e5c478adffe",
   "metadata": {},
   "outputs": [],
   "source": []
  },
  {
   "cell_type": "code",
   "execution_count": null,
   "id": "5f158047-883f-4a7b-8f6a-52e159c56319",
   "metadata": {},
   "outputs": [],
   "source": [
    "env.LUT_interpolators[\"L_dd\"](jnp.array([200,100]))"
   ]
  },
  {
   "cell_type": "code",
   "execution_count": null,
   "id": "8c085b1d-75f6-47c4-b41c-e15a3dad495d",
   "metadata": {},
   "outputs": [],
   "source": [
    "env.action_description"
   ]
  },
  {
   "cell_type": "code",
   "execution_count": null,
   "id": "a54a94ce-49f9-44af-ab92-eb7d5e6ce483",
   "metadata": {},
   "outputs": [],
   "source": [
    "saturated_quants = [\n",
    "    \"L_dd\",\n",
    "    \"L_dq\",\n",
    "    \"L_qd\",\n",
    "    \"L_qq\",\n",
    "    \"Psi_d\",\n",
    "    \"Psi_q\",\n",
    "]\n",
    "\n",
    "i_max = 250\n",
    "\n",
    "n_grid_points_y, n_grid_points_x = env.pmsm_lut[saturated_quants[0]].shape\n",
    "\n",
    "x, y = np.linspace(-i_max, 0, n_grid_points_x), np.linspace(-i_max, i_max, n_grid_points_y)"
   ]
  },
  {
   "cell_type": "code",
   "execution_count": null,
   "id": "afbb9d98-a1db-4e7c-9245-93a403d107af",
   "metadata": {},
   "outputs": [],
   "source": [
    "LUT_interpolators = {\n",
    "    q: jax.scipy.interpolate.RegularGridInterpolator(\n",
    "        (x, y), env.pmsm_lut[q][:, :].T, method=\"linear\", bounds_error=False, fill_value=None\n",
    "    )\n",
    "    for q in saturated_quants\n",
    "}"
   ]
  },
  {
   "cell_type": "code",
   "execution_count": null,
   "id": "b459dc0e-53f3-4015-a94d-abc008f2d3eb",
   "metadata": {},
   "outputs": [],
   "source": [
    "for q in saturated_quants:\n",
    "    print(q, env.pmsm_lut[q][0,0])"
   ]
  },
  {
   "cell_type": "code",
   "execution_count": null,
   "id": "678df7b8-7468-4d15-83a3-267359b9d8dc",
   "metadata": {},
   "outputs": [],
   "source": [
    "env.pmsm_lut[\"L_dd\"][26, 0]"
   ]
  },
  {
   "cell_type": "code",
   "execution_count": null,
   "id": "cec26897-40ca-4ac2-9cbd-af0965273328",
   "metadata": {},
   "outputs": [],
   "source": [
    "env.pmsm_lut[\"L_dd\"][26, -1]"
   ]
  },
  {
   "cell_type": "code",
   "execution_count": null,
   "id": "968cb215-786c-4310-afc6-14fd6648cee0",
   "metadata": {},
   "outputs": [],
   "source": [
    "env.pmsm_lut[\"L_qq\"][26, -1]"
   ]
  },
  {
   "cell_type": "code",
   "execution_count": null,
   "id": "e1926359-bf4c-4445-834a-9b3d0d5fc85b",
   "metadata": {},
   "outputs": [],
   "source": [
    "env.pmsm_lut[\"L_qq\"][26, 0]"
   ]
  },
  {
   "cell_type": "code",
   "execution_count": null,
   "id": "2e6a6387-844b-4ad0-90a5-45439bb0844a",
   "metadata": {},
   "outputs": [],
   "source": []
  },
  {
   "cell_type": "code",
   "execution_count": null,
   "id": "a7e1e6f0-403a-477c-947c-c47ad6393d5e",
   "metadata": {},
   "outputs": [],
   "source": [
    "n_points = n_grid_points_y * 1\n",
    "\n",
    "test_x, test_y = np.linspace(-i_max, 0, n_points), np.linspace(-i_max, i_max, n_points)\n",
    "xx, yy = jnp.meshgrid(test_x, test_y )\n",
    "zz = jnp.concatenate([xx[..., None], yy[..., None]], axis=-1)\n"
   ]
  },
  {
   "cell_type": "code",
   "execution_count": null,
   "id": "788737fb-cfec-4606-a2c9-4aa2cd446123",
   "metadata": {
    "scrolled": true
   },
   "outputs": [],
   "source": [
    "for q in saturated_quants[:4]:\n",
    "    res = LUT_interpolators[q](zz.reshape(-1, 2))\n",
    "    \n",
    "    fig, axs = plt.subplots(figsize=(6.75, 6))\n",
    "    \n",
    "    cax = axs.contourf(\n",
    "        zz[..., 0],\n",
    "        zz[..., 1],\n",
    "        res.reshape(n_points, n_points),\n",
    "        antialiased=False,\n",
    "        levels=100,\n",
    "        alpha=0.9,\n",
    "        cmap=plt.cm.coolwarm,\n",
    "    )\n",
    "    \n",
    "    axs.set_xlabel(env.obs_description[0])\n",
    "    axs.set_ylabel(env.obs_description[1])"
   ]
  },
  {
   "cell_type": "code",
   "execution_count": null,
   "id": "7e93223a-db7f-40df-ab47-3a37f7cdc011",
   "metadata": {
    "scrolled": true
   },
   "outputs": [],
   "source": [
    "for q in saturated_quants[:4]:\n",
    "    res = LUT_interpolators[q](zz.reshape(-1, 2))\n",
    "    fig = plt.figure(figsize=(6, 6))\n",
    "    axs = fig.add_subplot(111, projection=\"3d\")\n",
    "    \n",
    "    _ = axs.plot_surface(\n",
    "        zz[..., 0],\n",
    "        zz[..., 1],\n",
    "        res.reshape(n_points, n_points),\n",
    "        antialiased=False,\n",
    "        alpha=1,\n",
    "        cmap=plt.cm.coolwarm,\n",
    "    )\n",
    "    \n",
    "    axs.view_init(30,225)\n",
    "    \n",
    "    axs.set_xlabel(env.obs_description[0])\n",
    "    axs.set_ylabel(env.obs_description[1])"
   ]
  },
  {
   "cell_type": "code",
   "execution_count": null,
   "id": "7e9703ee-c636-49a8-be9e-b98482d3f366",
   "metadata": {},
   "outputs": [],
   "source": [
    "for q in saturated_quants:\n",
    "    print(env.pmsm_lut[q].shape)"
   ]
  },
  {
   "cell_type": "code",
   "execution_count": null,
   "id": "f0fed19c-9d11-4b1d-89db-4876a32a3037",
   "metadata": {},
   "outputs": [],
   "source": []
  }
 ],
 "metadata": {
  "kernelspec": {
   "display_name": "Python 3 (ipykernel)",
   "language": "python",
   "name": "python3"
  },
  "language_info": {
   "codemirror_mode": {
    "name": "ipython",
    "version": 3
   },
   "file_extension": ".py",
   "mimetype": "text/x-python",
   "name": "python",
   "nbconvert_exporter": "python",
   "pygments_lexer": "ipython3",
   "version": "3.11.11"
  }
 },
 "nbformat": 4,
 "nbformat_minor": 5
}
