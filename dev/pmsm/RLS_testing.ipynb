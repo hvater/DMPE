{
 "cells": [
  {
   "cell_type": "code",
   "execution_count": null,
   "id": "e47b0ce0-780e-4a2a-8834-3962729f79f8",
   "metadata": {
    "scrolled": true
   },
   "outputs": [],
   "source": [
    "%load_ext autoreload\n",
    "%autoreload 2\n",
    "%reload_ext line_profiler"
   ]
  },
  {
   "cell_type": "code",
   "execution_count": null,
   "id": "432bea73-ca2f-4368-b797-a7d20708ba69",
   "metadata": {},
   "outputs": [],
   "source": [
    "import os\n",
    "os.environ['CUDA_VISIBLE_DEVICES'] = '1'\n",
    "os.environ[\"XLA_PYTHON_CLIENT_PREALLOCATE\"]=\"false\"\n",
    "\n",
    "import pathlib\n",
    "from functools import partial\n",
    "\n",
    "import time\n",
    "from tqdm.notebook import tqdm\n",
    "import numpy as np\n",
    "import matplotlib.pyplot as plt\n",
    "import matplotlib as mpl\n",
    "mpl.rcParams['text.usetex'] = True\n",
    "mpl.rcParams.update({'font.size': 10 * 2.54})\n",
    "mpl.rcParams['text.latex.preamble']=r\"\\usepackage{bm}\"\n",
    "import plotly.express as px\n",
    "import plotly.graph_objects as go"
   ]
  },
  {
   "cell_type": "code",
   "execution_count": null,
   "id": "dabdf089-62e0-49f1-aeda-1efdd59505ed",
   "metadata": {},
   "outputs": [],
   "source": [
    "import jax\n",
    "import jax.numpy as jnp\n",
    "# jax.config.update(\"jax_enable_x64\", True)\n",
    "gpus = jax.devices()\n",
    "jax.config.update(\"jax_default_device\", gpus[0])\n",
    "# jax.config.update('jax_platform_name', 'cpu')\n",
    "import chex\n",
    "\n",
    "import diffrax\n",
    "import equinox as eqx\n",
    "import optax\n",
    "\n",
    "from haiku import PRNGSequence"
   ]
  },
  {
   "cell_type": "code",
   "execution_count": null,
   "id": "e7a6bd50-20e8-45ec-bcaa-ccaa22482799",
   "metadata": {},
   "outputs": [],
   "source": [
    "import exciting_environments as excenvs\n",
    "\n",
    "import dmpe\n",
    "from dmpe.models import NeuralEulerODEPendulum, NeuralODEPendulum, NeuralEulerODE, NeuralEulerODECartpole\n",
    "from dmpe.models.model_utils import simulate_ahead_with_env\n",
    "from dmpe.models.model_training import ModelTrainer\n",
    "from dmpe.excitation import loss_function, Exciter\n",
    "\n",
    "from dmpe.utils.density_estimation import (\n",
    "    update_density_estimate_single_observation, update_density_estimate_multiple_observations, DensityEstimate, select_bandwidth, build_grid\n",
    ")\n",
    "from dmpe.utils.signals import aprbs\n",
    "from dmpe.evaluation.plotting_utils import (\n",
    "    plot_sequence, append_predictions_to_sequence_plot, plot_sequence_and_prediction, plot_model_performance,\n",
    "    plot_2d_kde_as_contourf, plot_2d_kde_as_surface, plot_feature_combinations\n",
    ")\n",
    "from dmpe.evaluation.experiment_utils import (\n",
    "    get_experiment_ids, load_experiment_results, quick_eval, evaluate_experiment_metrics, evaluate_algorithm_metrics, evaluate_metrics\n",
    ")"
   ]
  },
  {
   "cell_type": "markdown",
   "id": "ffe4ed9b-89a3-409d-92a6-6d97891b6783",
   "metadata": {},
   "source": [
    "---"
   ]
  },
  {
   "cell_type": "code",
   "execution_count": null,
   "id": "bfdfeafb-18c0-406e-8d7a-9a299eea0f2c",
   "metadata": {},
   "outputs": [],
   "source": [
    "# setup PRNG\n",
    "key = jax.random.PRNGKey(seed=222)\n",
    "\n",
    "data_key, model_key, loader_key, expl_key, key = jax.random.split(key, 5)\n",
    "data_rng = PRNGSequence(data_key)"
   ]
  },
  {
   "cell_type": "code",
   "execution_count": null,
   "id": "246ba0f6-71f1-4c27-a658-af465664f9cc",
   "metadata": {},
   "outputs": [],
   "source": [
    "import pmsm_utils\n",
    "from pmsm_utils import ExcitingPMSM, plot_current_constraints"
   ]
  },
  {
   "cell_type": "code",
   "execution_count": null,
   "id": "06c16ecd-087b-4cbf-95e7-0e73de6acd0d",
   "metadata": {},
   "outputs": [],
   "source": [
    "batch_size=1\n",
    "\n",
    "env = ExcitingPMSM(\n",
    "    batch_size=batch_size,\n",
    "    saturated=True,\n",
    "    LUT_motor_name=\"BRUSA\",\n",
    "    static_params = {\n",
    "        \"p\": 3,\n",
    "        \"r_s\": 15e-3,\n",
    "        \"l_d\": jnp.nan,\n",
    "        \"l_q\": jnp.nan,\n",
    "        \"psi_p\": jnp.nan,\n",
    "        \"deadtime\": 0,\n",
    "    },\n",
    "    solver=diffrax.Euler()\n",
    ")"
   ]
  },
  {
   "cell_type": "code",
   "execution_count": null,
   "id": "b1483bde-71b2-49ff-a0af-5574b90ea87f",
   "metadata": {
    "scrolled": true
   },
   "outputs": [],
   "source": [
    "obs, state = env.vmap_reset()\n",
    "\n",
    "n_steps = 99\n",
    "actions = jnp.concatenate([aprbs(n_steps, batch_size, 1, 10, next(data_rng)), aprbs(n_steps, batch_size, 1, 10, next(data_rng))], axis=-1)\n",
    "\n",
    "observations = [obs[..., 0:2]]\n",
    "\n",
    "for i in range(actions.shape[1]):\n",
    "   \n",
    "    obs, state = env.vmap_step(state, actions[:, i,:])\n",
    "    observations.append(obs[...,0:2])"
   ]
  },
  {
   "cell_type": "code",
   "execution_count": null,
   "id": "dc39a5e0-b9a9-439c-815f-898103248614",
   "metadata": {},
   "outputs": [],
   "source": [
    "plot_sequence(\n",
    "    np.vstack(observations),\n",
    "    np.vstack(actions),\n",
    "    env.tau,\n",
    "    env.obs_description[:2],\n",
    "    env.action_description\n",
    ")"
   ]
  },
  {
   "cell_type": "code",
   "execution_count": null,
   "id": "16d6b5a9-381e-4b62-866b-eb62b06c86b7",
   "metadata": {},
   "outputs": [],
   "source": [
    "class RLS(eqx.Module):\n",
    "    \"\"\"RLS estimator based on the description given in [Brosch2021] and [Jakobeit2025].\"\"\"\n",
    "\n",
    "    num_coefficients: int\n",
    "    lambda_: float\n",
    "    \n",
    "    class State(eqx.Module):\n",
    "        w: jax.Array\n",
    "        P: jax.Array\n",
    "    \n",
    "    def __init__(self, num_coefficients, lambda_):\n",
    "        self.num_coefficients = num_coefficients\n",
    "        self.lambda_ = lambda_\n",
    "\n",
    "    def reset(self):\n",
    "        \"\"\"\n",
    "        Reset the filter to its initial state.\n",
    "        \"\"\"\n",
    "        return self.State(\n",
    "            w=jnp.zeros((self.num_coefficients)),\n",
    "            P=jnp.eye(self.num_coefficients)\n",
    "        )\n",
    "\n",
    "    @eqx.filter_jit\n",
    "    def __call__(self, rls_state, x):\n",
    "        \"\"\"\n",
    "        Predict the output for a given input using the RLS model.\n",
    "        \"\"\"\n",
    "        y_pred = x @ rls_state.w\n",
    "        return y_pred\n",
    "\n",
    "    @eqx.filter_jit\n",
    "    def update(self, rls_state, x, d):\n",
    "        \"\"\"\n",
    "        Update function.\n",
    "        \"\"\"\n",
    "        P = rls_state.P\n",
    "        w = rls_state.w\n",
    "    \n",
    "        c = (P @ x) / (self.lambda_ + jnp.squeeze(x @ P @ x))\n",
    "        w_new = w + c * jnp.squeeze(d - x @ w)\n",
    "        P_new = (jnp.eye(self.num_coefficients) - c @ x) @ P / self.lambda_\n",
    "    \n",
    "        return self.State(\n",
    "            w=jnp.zeros((self.num_coefficients,1)),\n",
    "            P=jnp.eye(self.num_coefficients)\n",
    "        )"
   ]
  },
  {
   "cell_type": "code",
   "execution_count": null,
   "id": "9c263481-2c72-495f-a83b-d14848efdb73",
   "metadata": {},
   "outputs": [],
   "source": [
    "rls = RLS(5, 0.99)"
   ]
  },
  {
   "cell_type": "code",
   "execution_count": null,
   "id": "3c2a58de-b1e0-4f63-8f78-ce6fae9efe6f",
   "metadata": {},
   "outputs": [],
   "source": [
    "rls_state = eqx.filter_vmap(rls.reset, axis_size=2)()\n",
    "rls_state"
   ]
  },
  {
   "cell_type": "code",
   "execution_count": null,
   "id": "2d1308f2-c2ec-4a71-9dcf-1b71b8bfc9c8",
   "metadata": {},
   "outputs": [],
   "source": [
    "rls_state = eqx.filter_vmap(rls.update, in_axes=(RLS.State(w=0, P=0), None, 0))(rls_state, jnp.zeros((5)), jnp.zeros((2, 1)))"
   ]
  },
  {
   "cell_type": "code",
   "execution_count": null,
   "id": "acd847ba-fb98-44c7-8170-51d3fb3dc4f4",
   "metadata": {},
   "outputs": [],
   "source": [
    "rls_state"
   ]
  },
  {
   "cell_type": "code",
   "execution_count": null,
   "id": "8d91335c-fed6-4e1e-8a6a-6e34337b5349",
   "metadata": {},
   "outputs": [],
   "source": []
  },
  {
   "cell_type": "code",
   "execution_count": null,
   "id": "698f2fd5-4a1e-41b9-9df9-1297606854a0",
   "metadata": {},
   "outputs": [],
   "source": []
  },
  {
   "cell_type": "markdown",
   "id": "9772028a-8d01-44fb-b328-f496dd192857",
   "metadata": {},
   "source": [
    "---\n",
    "---\n",
    "---"
   ]
  },
  {
   "cell_type": "code",
   "execution_count": null,
   "id": "dd403915-78b3-47cb-8f30-329298143246",
   "metadata": {},
   "outputs": [],
   "source": [
    "from rls import RLS, PMSM_RLS, SimulationPMSM_RLS"
   ]
  },
  {
   "cell_type": "code",
   "execution_count": null,
   "id": "86191bac-3807-418b-aa7f-42ce64ffc27a",
   "metadata": {},
   "outputs": [],
   "source": [
    "rls = RLS(5, 2, 0.99)"
   ]
  },
  {
   "cell_type": "code",
   "execution_count": null,
   "id": "c547b4bc-4a61-4d01-ab49-f61c71eaa0c3",
   "metadata": {},
   "outputs": [],
   "source": [
    "rls = RLS.update(\n",
    "    rls=rls,\n",
    "    x=jnp.zeros((5, 1)),\n",
    "    d=jnp.zeros((2, 1))\n",
    ")"
   ]
  },
  {
   "cell_type": "code",
   "execution_count": null,
   "id": "5ebe8e2e-d232-4200-8f37-0f226e36997d",
   "metadata": {},
   "outputs": [],
   "source": [
    "rls.w.shape"
   ]
  },
  {
   "cell_type": "code",
   "execution_count": null,
   "id": "3f17a6e0-8a62-49c5-81ae-b54bf389d5f4",
   "metadata": {},
   "outputs": [],
   "source": [
    "RLS.predict(rls, jnp.zeros((5, 1)))"
   ]
  },
  {
   "cell_type": "code",
   "execution_count": null,
   "id": "e74e290d-7013-442c-b7a2-9752cab2fdf4",
   "metadata": {},
   "outputs": [],
   "source": []
  },
  {
   "cell_type": "code",
   "execution_count": null,
   "id": "5d0c0864-88a2-4d31-9b5c-80510da87409",
   "metadata": {},
   "outputs": [],
   "source": [
    "observations = jnp.array(np.load(\"results/pmsm_dmpe_observations.npy\"))\n",
    "actions = jnp.array(np.load(\"results/pmsm_dmpe_actions.npy\"))"
   ]
  },
  {
   "cell_type": "code",
   "execution_count": null,
   "id": "a51ab224-8418-4831-9196-771de1793373",
   "metadata": {},
   "outputs": [],
   "source": [
    "plot_sequence(\n",
    "    observations[:500],\n",
    "    actions[:500],\n",
    "    env.tau,\n",
    "    env.obs_description[:2],\n",
    "    env.action_description\n",
    ")"
   ]
  },
  {
   "cell_type": "code",
   "execution_count": null,
   "id": "d1a8e12c-a86e-436a-abf9-13dbcd63723e",
   "metadata": {},
   "outputs": [],
   "source": [
    "# predict what you just have learned\n",
    "\n",
    "lambda_ = 0.9\n",
    "print(\"lambda:\", lambda_)\n",
    "pmsm_rls = PMSM_RLS(lambda_=lambda_)\n",
    "\n",
    "hindsight_errors = []\n",
    "pred_errors = []\n",
    "predictions = []\n",
    "\n",
    "for i in range(1, 500):\n",
    "    # learn from last\n",
    "    rls_in = jnp.concatenate([observations[i-1], actions[i-1, :], jnp.ones(1)])[..., None]\n",
    "    pmsm_rls = PMSM_RLS.update(pmsm_rls, x=rls_in, d=observations[i][..., None])\n",
    "\n",
    "    # predict current in hindsight\n",
    "    current_pred = pmsm_rls(jnp.concatenate([observations[i-1], actions[i-1, :], jnp.ones(1)])[..., None])\n",
    "    hindsight_errors.append(current_pred - observations[i][..., None])\n",
    "\n",
    "    \n",
    "    # predict next\n",
    "    next_pred = pmsm_rls(jnp.concatenate([observations[i], actions[i, :], jnp.ones(1)])[..., None])\n",
    "    pred_errors.append(next_pred - observations[i+1][..., None])\n",
    "\n",
    "    predictions.append(next_pred)\n",
    "\n",
    "\n",
    "predictions = jnp.hstack(predictions).T\n",
    "\n",
    "hindsight_errors = jnp.squeeze(jnp.stack(hindsight_errors))\n",
    "plt.plot(jnp.linalg.norm(hindsight_errors, axis=-1))\n",
    "plt.ylim(0, 1)\n",
    "plt.show()\n",
    "\n",
    "pred_errors = jnp.squeeze(jnp.stack(pred_errors))\n",
    "plt.plot(jnp.linalg.norm(pred_errors, axis=-1))\n",
    "plt.ylim(0, 1)\n",
    "plt.show()"
   ]
  },
  {
   "cell_type": "code",
   "execution_count": null,
   "id": "e476c784-1c7d-4ad5-a1b4-c6d81fd2f0db",
   "metadata": {
    "scrolled": true
   },
   "outputs": [],
   "source": [
    "predictions = jnp.concatenate([jnp.zeros((1,2)), predictions])"
   ]
  },
  {
   "cell_type": "code",
   "execution_count": null,
   "id": "5f639df1-857b-4334-a816-1bb55d4bcad3",
   "metadata": {},
   "outputs": [],
   "source": [
    "plt.plot(observations[:500, 0], label=r\"$i_d$\")\n",
    "plt.plot(predictions[:500, 0], label=r\"$\\hat{i}_d$\")\n",
    "plt.grid()\n",
    "plt.legend()\n",
    "plt.show()\n",
    "\n",
    "plt.plot(observations[:500, 1], label=r\"$i_q$\")\n",
    "plt.plot(predictions[:500, 1], label=r\"$\\hat{i}_q$\")\n",
    "plt.grid()\n",
    "plt.legend()\n",
    "plt.show()"
   ]
  },
  {
   "cell_type": "markdown",
   "id": "fdc09bfa-1646-4033-b5a6-fddd52d8d130",
   "metadata": {},
   "source": [
    "# Based on running data:"
   ]
  },
  {
   "cell_type": "code",
   "execution_count": null,
   "id": "b53292d4-14f5-49a1-abce-f268d80462a3",
   "metadata": {
    "scrolled": true
   },
   "outputs": [],
   "source": [
    "# setup PRNG\n",
    "key = jax.random.PRNGKey(seed=5555)\n",
    "\n",
    "data_key, model_key, loader_key, expl_key, key = jax.random.split(key, 5)\n",
    "data_rng = PRNGSequence(data_key)\n",
    "\n",
    "obs, state = env.vmap_reset()\n",
    "\n",
    "n_steps = 1000\n",
    "# actions = jnp.concatenate([aprbs(n_steps, batch_size, 1, 10, next(data_rng)), aprbs(n_steps, batch_size, 1, 10, next(data_rng))], axis=-1)\n",
    "\n",
    "actions = jax.random.uniform(next(data_rng), shape=(1, n_steps, 2), minval=-1, maxval=1)\n",
    "\n",
    "observations = [obs[0, 0:2]]\n",
    "predictions = [jnp.zeros(2)]\n",
    "\n",
    "pmsm_rls = PMSM_RLS(lambda_=0.9)\n",
    "\n",
    "for i in range(actions.shape[1]):\n",
    "\n",
    "    rls_in = jnp.concatenate([obs[0,...], actions[0, i, :], jnp.ones(1)])[..., None]\n",
    "    prediction = pmsm_rls(rls_in)\n",
    "    \n",
    "    next_obs, state = env.vmap_step(state, actions[:, i,:])\n",
    "    observations.append(next_obs[0,0:2])\n",
    "    predictions.append(prediction[..., 0])\n",
    "    \n",
    "    pmsm_rls = PMSM_RLS.update(pmsm_rls, x=rls_in, d=next_obs.T)\n",
    "    obs = next_obs\n",
    "\n",
    "observations = jnp.stack(observations)\n",
    "predictions = jnp.stack(predictions)"
   ]
  },
  {
   "cell_type": "code",
   "execution_count": null,
   "id": "4ec2b67a-b924-459d-91f6-463376b62946",
   "metadata": {},
   "outputs": [],
   "source": [
    "t = jnp.linspace(0, observations.shape[0] - 1, observations.shape[0]) * env.tau\n",
    "\n",
    "plt.plot(t, observations[..., 0], label=r\"$i_d$\")\n",
    "plt.plot(t, predictions[..., 0], label=r\"$\\hat{i}_d$\")\n",
    "plt.grid()\n",
    "plt.legend()\n",
    "plt.show()\n",
    "\n",
    "plt.plot(t, observations[..., 1], label=r\"$i_q$\")\n",
    "plt.plot(t, predictions[..., 1], label=r\"$\\hat{i}_q$\")\n",
    "plt.grid()\n",
    "plt.legend()\n",
    "plt.ylim(-1, 1)\n",
    "plt.show()"
   ]
  },
  {
   "cell_type": "code",
   "execution_count": null,
   "id": "61f4f05e-6701-48a9-88c1-4187e312061f",
   "metadata": {
    "scrolled": true
   },
   "outputs": [],
   "source": [
    "rls = SimulationPMSM_RLS(lambda_=0.9)\n",
    "\n",
    "obs, state = env.reset(env.env_properties)\n",
    "\n",
    "k = 200\n",
    "\n",
    "for i in range(k):\n",
    "    rls_in = jnp.concatenate([obs, actions[0, i, :], jnp.ones(1)])[..., None]\n",
    "\n",
    "    next_obs, state = env.step(state, actions[0, i,:], env.env_properties)\n",
    "\n",
    "    rls = SimulationPMSM_RLS.update(rls, x=rls_in, d=next_obs[..., None])\n",
    "    obs = next_obs"
   ]
  },
  {
   "cell_type": "code",
   "execution_count": null,
   "id": "1940e839-006b-4e70-b2bd-174d38bb559b",
   "metadata": {},
   "outputs": [],
   "source": [
    "rls"
   ]
  },
  {
   "cell_type": "code",
   "execution_count": null,
   "id": "845c15cd-b7e8-4a20-a655-615ce0781734",
   "metadata": {
    "scrolled": true
   },
   "outputs": [],
   "source": [
    "sequence_length = 20\n",
    "predictions = rls(obs, actions[0, k:k+sequence_length])"
   ]
  },
  {
   "cell_type": "code",
   "execution_count": null,
   "id": "71ebd5fd-1e54-4627-b9f8-04cbd79669b7",
   "metadata": {},
   "outputs": [],
   "source": [
    "t = jnp.linspace(0, sequence_length, sequence_length+1) * env.tau\n",
    "\n",
    "plt.plot(t, observations[k:k+sequence_length+1, 0], label=r\"$i_d$\")\n",
    "plt.plot(t, predictions[..., 0], label=r\"$\\hat{i}_d$\")\n",
    "plt.grid()\n",
    "plt.legend()\n",
    "#plt.ylim(-1, 1)\n",
    "plt.show()\n",
    "\n",
    "plt.plot(t, observations[k:k+sequence_length+1, 1], label=r\"$i_q$\")\n",
    "plt.plot(t, predictions[..., 1], label=r\"$\\hat{i}_q$\")\n",
    "plt.grid()\n",
    "plt.legend()\n",
    "plt.ylim(-1, 1)\n",
    "plt.show()"
   ]
  },
  {
   "cell_type": "code",
   "execution_count": null,
   "id": "d8baf50a-f928-4cfa-a0e6-ae38411ee978",
   "metadata": {},
   "outputs": [],
   "source": []
  }
 ],
 "metadata": {
  "kernelspec": {
   "display_name": "Python 3 (ipykernel)",
   "language": "python",
   "name": "python3"
  },
  "language_info": {
   "codemirror_mode": {
    "name": "ipython",
    "version": 3
   },
   "file_extension": ".py",
   "mimetype": "text/x-python",
   "name": "python",
   "nbconvert_exporter": "python",
   "pygments_lexer": "ipython3",
   "version": "3.11.11"
  }
 },
 "nbformat": 4,
 "nbformat_minor": 5
}
