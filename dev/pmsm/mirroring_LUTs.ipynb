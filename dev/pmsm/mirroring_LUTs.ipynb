{
 "cells": [
  {
   "cell_type": "code",
   "execution_count": null,
   "id": "652eb23a-b67b-4ae8-acc0-fd02ea541c0a",
   "metadata": {},
   "outputs": [],
   "source": [
    "%load_ext autoreload\n",
    "%autoreload 2\n",
    "%reload_ext line_profiler"
   ]
  },
  {
   "cell_type": "code",
   "execution_count": null,
   "id": "9f6ba604-f63f-41dc-a3f0-1b56af9e49ae",
   "metadata": {},
   "outputs": [],
   "source": [
    "import os\n",
    "os.environ['CUDA_VISIBLE_DEVICES'] = '1'\n",
    "os.environ[\"XLA_PYTHON_CLIENT_PREALLOCATE\"]=\"false\"\n",
    "\n",
    "import pathlib\n",
    "from functools import partial\n",
    "\n",
    "import time\n",
    "from tqdm.notebook import tqdm\n",
    "import numpy as np\n",
    "import matplotlib.pyplot as plt\n",
    "import matplotlib as mpl\n",
    "mpl.rcParams['text.usetex'] = True\n",
    "mpl.rcParams.update({'font.size': 10 * 2.54})\n",
    "mpl.rcParams['text.latex.preamble']=r\"\\usepackage{bm}\"\n",
    "import plotly.express as px\n",
    "import plotly.graph_objects as go"
   ]
  },
  {
   "cell_type": "code",
   "execution_count": null,
   "id": "d24abd49-fdcd-43fb-af1b-a90159c5a0a7",
   "metadata": {},
   "outputs": [],
   "source": [
    "import jax\n",
    "import jax.numpy as jnp\n",
    "# jax.config.update(\"jax_enable_x64\", True)\n",
    "gpus = jax.devices()\n",
    "jax.config.update(\"jax_default_device\", gpus[0])\n",
    "# jax.config.update('jax_platform_name', 'cpu')\n",
    "import chex\n",
    "\n",
    "import diffrax\n",
    "import equinox as eqx\n",
    "import optax\n",
    "\n",
    "from haiku import PRNGSequence"
   ]
  },
  {
   "cell_type": "code",
   "execution_count": null,
   "id": "68345963-26f9-4605-be8c-54ab847fbec3",
   "metadata": {},
   "outputs": [],
   "source": [
    "import exciting_environments as excenvs\n",
    "\n",
    "import dmpe\n",
    "from dmpe.models import NeuralEulerODEPendulum, NeuralODEPendulum, NeuralEulerODE, NeuralEulerODECartpole\n",
    "from dmpe.models.models import NeuralEulerODEPMSM\n",
    "from dmpe.models.model_utils import simulate_ahead_with_env\n",
    "from dmpe.models.model_training import ModelTrainer\n",
    "from dmpe.excitation import loss_function, Exciter\n",
    "\n",
    "from dmpe.utils.density_estimation import (\n",
    "    update_density_estimate_single_observation, update_density_estimate_multiple_observations, DensityEstimate, select_bandwidth, build_grid\n",
    ")\n",
    "from dmpe.utils.signals import aprbs\n",
    "from dmpe.evaluation.plotting_utils import (\n",
    "    plot_sequence, append_predictions_to_sequence_plot, plot_sequence_and_prediction, plot_model_performance,\n",
    "    plot_2d_kde_as_contourf, plot_2d_kde_as_surface, plot_feature_combinations\n",
    ")\n",
    "from dmpe.evaluation.experiment_utils import (\n",
    "    get_experiment_ids, load_experiment_results, quick_eval, evaluate_experiment_metrics, evaluate_algorithm_metrics, evaluate_metrics\n",
    ")\n",
    "from dmpe.algorithms import excite_with_dmpe, default_dmpe, default_dmpe_parameterization"
   ]
  },
  {
   "cell_type": "code",
   "execution_count": null,
   "id": "5b6268bf-dec3-46d4-b08e-cf3f423260e0",
   "metadata": {},
   "outputs": [],
   "source": [
    "import pmsm_utils\n",
    "from pmsm_utils import ExcitingPMSM, plot_current_constraints"
   ]
  },
  {
   "cell_type": "markdown",
   "id": "5f957bc7-2328-488f-84cd-fb4718343587",
   "metadata": {},
   "source": [
    "---"
   ]
  },
  {
   "cell_type": "code",
   "execution_count": null,
   "id": "d626e6cf-57da-4086-aa34-e805bad17fb5",
   "metadata": {},
   "outputs": [],
   "source": [
    "batch_size=1\n",
    "\n",
    "env = ExcitingPMSM(\n",
    "    initial_rpm=6000,\n",
    "    batch_size=batch_size,\n",
    "    saturated=True,\n",
    "    LUT_motor_name=\"BRUSA\",\n",
    "    static_params = {\n",
    "        \"p\": 3,\n",
    "        \"r_s\": 17.932e-3,\n",
    "        \"l_d\": 0.37e-3,\n",
    "        \"l_q\": 1.2e-3,\n",
    "        \"psi_p\": 65.65e-3,\n",
    "        \"deadtime\": 0,\n",
    "    },\n",
    "    solver=diffrax.Tsit5()\n",
    ")\n",
    "\n",
    "PMSM_penalty = lambda observations, actions: pmsm_utils.PMSM_penalty(env, observations, actions)"
   ]
  },
  {
   "cell_type": "code",
   "execution_count": null,
   "id": "20012a4a-0988-4bb2-8200-bc0e08f9786a",
   "metadata": {},
   "outputs": [],
   "source": [
    "env.pmsm_lut.keys()"
   ]
  },
  {
   "cell_type": "code",
   "execution_count": null,
   "id": "cf166f37-fbd3-4ad4-a639-3430549c617e",
   "metadata": {},
   "outputs": [],
   "source": [
    "i_max=250\n",
    "\n",
    "psi_d = env.pmsm_lut['Psi_d']\n",
    "psi_d_mirrored = jnp.flip((psi_d - psi_d[:, -1][:, None]), axis=1)\n",
    "psi_d_mirrored = - psi_d_mirrored + psi_d[:, -1][:, None]\n",
    "psi_d_mirrored = psi_d_mirrored[:, 1:]\n",
    "\n",
    "psi_d = psi_d[:, :-1]\n",
    "\n",
    "psi_d = jnp.concatenate([psi_d, psi_d_mirrored], axis=1)\n",
    "n_grid_points_y, n_grid_points_x = psi_d.shape\n",
    "\n",
    "x, y = np.linspace(-i_max, i_max, n_grid_points_x), np.linspace(-i_max, i_max, n_grid_points_y)\n",
    "psi_d_interp = jax.scipy.interpolate.RegularGridInterpolator(\n",
    "    (x, y), psi_d.T, method=\"linear\", bounds_error=False, fill_value=None\n",
    ")\n",
    "\n",
    "n_points = n_grid_points_y * 1\n",
    "\n",
    "test_x, test_y = np.linspace(-i_max, i_max, n_points), np.linspace(-i_max, i_max, n_points)\n",
    "xx, yy = jnp.meshgrid(test_x, test_y)\n",
    "zz = jnp.concatenate([xx[..., None], yy[..., None]], axis=-1)\n",
    "\n",
    "res = psi_d_interp(zz.reshape(-1, 2))\n",
    "fig = plt.figure(figsize=(6, 6))\n",
    "axs = fig.add_subplot(111, projection=\"3d\")\n",
    "\n",
    "_ = axs.plot_surface(\n",
    "    zz[..., 0],\n",
    "    zz[..., 1],\n",
    "    res.reshape(n_points, n_points),\n",
    "    antialiased=False,\n",
    "    alpha=1,\n",
    "    cmap=plt.cm.coolwarm,\n",
    ")\n",
    "\n",
    "axs.view_init(30,225)\n",
    "\n",
    "axs.set_xlabel(env.obs_description[0])\n",
    "axs.set_ylabel(env.obs_description[1])"
   ]
  },
  {
   "cell_type": "code",
   "execution_count": null,
   "id": "427b0670-65c4-4343-8da0-1ee2753d0931",
   "metadata": {},
   "outputs": [],
   "source": [
    "psi_q = env.pmsm_lut[\"Psi_q\"]\n",
    "psi_q_mirrored = jnp.flip((psi_q - psi_q[:, -1][:, None]), axis=1)\n",
    "psi_q_mirrored = psi_q_mirrored + psi_q[:, -1][:, None]\n",
    "psi_q_mirrored = psi_q_mirrored[:, 1:]\n",
    "\n",
    "psi_q = psi_q[:, :-1]\n",
    "\n",
    "psi_q = jnp.concatenate([psi_q, psi_q_mirrored], axis=1)\n",
    "n_grid_points_y, n_grid_points_x = psi_q.shape\n",
    "\n",
    "x, y = np.linspace(-i_max, i_max, n_grid_points_x), np.linspace(-i_max, i_max, n_grid_points_y)\n",
    "psi_q_interp = jax.scipy.interpolate.RegularGridInterpolator(\n",
    "    (x, y), psi_q.T, method=\"linear\", bounds_error=False, fill_value=None\n",
    ")\n",
    "\n",
    "n_points = n_grid_points_y * 1\n",
    "\n",
    "test_x, test_y = np.linspace(-i_max, i_max, n_points), np.linspace(-i_max, i_max, n_points)\n",
    "xx, yy = jnp.meshgrid(test_x, test_y)\n",
    "zz = jnp.concatenate([xx[..., None], yy[..., None]], axis=-1)\n",
    "\n",
    "res = psi_q_interp(zz.reshape(-1, 2))\n",
    "fig = plt.figure(figsize=(6, 6))\n",
    "axs = fig.add_subplot(111, projection=\"3d\")\n",
    "\n",
    "_ = axs.plot_surface(\n",
    "    zz[..., 0],\n",
    "    zz[..., 1],\n",
    "    res.reshape(n_points, n_points),\n",
    "    antialiased=False,\n",
    "    alpha=1,\n",
    "    cmap=plt.cm.coolwarm,\n",
    ")\n",
    "\n",
    "axs.view_init(30,225)\n",
    "\n",
    "axs.set_xlabel(env.obs_description[0])\n",
    "axs.set_ylabel(env.obs_description[1])"
   ]
  },
  {
   "cell_type": "code",
   "execution_count": null,
   "id": "86179c1d-69dd-4f0e-bb63-63e4a6ec82f4",
   "metadata": {},
   "outputs": [],
   "source": []
  }
 ],
 "metadata": {
  "kernelspec": {
   "display_name": "Python 3 (ipykernel)",
   "language": "python",
   "name": "python3"
  },
  "language_info": {
   "codemirror_mode": {
    "name": "ipython",
    "version": 3
   },
   "file_extension": ".py",
   "mimetype": "text/x-python",
   "name": "python",
   "nbconvert_exporter": "python",
   "pygments_lexer": "ipython3",
   "version": "3.11.11"
  }
 },
 "nbformat": 4,
 "nbformat_minor": 5
}
