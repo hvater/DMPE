{
 "cells": [
  {
   "cell_type": "code",
   "execution_count": null,
   "id": "e47b0ce0-780e-4a2a-8834-3962729f79f8",
   "metadata": {
    "scrolled": true
   },
   "outputs": [],
   "source": [
    "%load_ext autoreload\n",
    "%autoreload 2\n",
    "%reload_ext line_profiler"
   ]
  },
  {
   "cell_type": "code",
   "execution_count": null,
   "id": "432bea73-ca2f-4368-b797-a7d20708ba69",
   "metadata": {},
   "outputs": [],
   "source": [
    "import os\n",
    "os.environ['CUDA_VISIBLE_DEVICES'] = '1'\n",
    "os.environ[\"XLA_PYTHON_CLIENT_PREALLOCATE\"]=\"false\"\n",
    "\n",
    "import pathlib\n",
    "from functools import partial\n",
    "\n",
    "import time\n",
    "from tqdm.notebook import tqdm\n",
    "import numpy as np\n",
    "import matplotlib.pyplot as plt\n",
    "import matplotlib as mpl\n",
    "mpl.rcParams['text.usetex'] = True\n",
    "mpl.rcParams.update({'font.size': 10 * 2.54})\n",
    "mpl.rcParams['text.latex.preamble']=r\"\\usepackage{bm}\"\n",
    "import plotly.express as px\n",
    "import plotly.graph_objects as go"
   ]
  },
  {
   "cell_type": "code",
   "execution_count": null,
   "id": "dabdf089-62e0-49f1-aeda-1efdd59505ed",
   "metadata": {},
   "outputs": [],
   "source": [
    "import jax\n",
    "import jax.numpy as jnp\n",
    "# jax.config.update(\"jax_enable_x64\", True)\n",
    "gpus = jax.devices()\n",
    "jax.config.update(\"jax_default_device\", gpus[0])\n",
    "# jax.config.update('jax_platform_name', 'cpu')\n",
    "import chex\n",
    "\n",
    "import diffrax\n",
    "import equinox as eqx\n",
    "import optax\n",
    "\n",
    "from haiku import PRNGSequence"
   ]
  },
  {
   "cell_type": "code",
   "execution_count": null,
   "id": "e7a6bd50-20e8-45ec-bcaa-ccaa22482799",
   "metadata": {},
   "outputs": [],
   "source": [
    "import exciting_environments as excenvs\n",
    "\n",
    "import dmpe\n",
    "from dmpe.models import NeuralEulerODEPendulum, NeuralODEPendulum, NeuralEulerODE, NeuralEulerODECartpole\n",
    "from dmpe.models.models import NeuralEulerODEPMSM\n",
    "from dmpe.models.model_utils import simulate_ahead_with_env\n",
    "from dmpe.models.model_training import ModelTrainer\n",
    "from dmpe.excitation import loss_function, Exciter\n",
    "\n",
    "from dmpe.utils.density_estimation import (\n",
    "    update_density_estimate_single_observation, update_density_estimate_multiple_observations, DensityEstimate, select_bandwidth, build_grid\n",
    ")\n",
    "from dmpe.utils.signals import aprbs\n",
    "from dmpe.evaluation.plotting_utils import (\n",
    "    plot_sequence, append_predictions_to_sequence_plot, plot_sequence_and_prediction, plot_model_performance,\n",
    "    plot_2d_kde_as_contourf, plot_2d_kde_as_surface, plot_feature_combinations\n",
    ")\n",
    "from dmpe.evaluation.experiment_utils import (\n",
    "    get_experiment_ids, load_experiment_results, quick_eval, evaluate_experiment_metrics, evaluate_algorithm_metrics, evaluate_metrics\n",
    ")\n",
    "from dmpe.algorithms import excite_with_dmpe, default_dmpe, default_dmpe_parameterization"
   ]
  },
  {
   "cell_type": "code",
   "execution_count": null,
   "id": "bda17186-1be6-49c5-a093-e8e6d04b329a",
   "metadata": {},
   "outputs": [],
   "source": [
    "import pmsm_utils\n",
    "from pmsm_utils import ExcitingPMSM, plot_current_constraints, plot_sequence_with_constraints"
   ]
  },
  {
   "cell_type": "markdown",
   "id": "ffe4ed9b-89a3-409d-92a6-6d97891b6783",
   "metadata": {},
   "source": [
    "---"
   ]
  },
  {
   "cell_type": "code",
   "execution_count": null,
   "id": "06c16ecd-087b-4cbf-95e7-0e73de6acd0d",
   "metadata": {},
   "outputs": [],
   "source": [
    "batch_size=1\n",
    "\n",
    "env = ExcitingPMSM(\n",
    "    initial_rpm=2_000,\n",
    "    batch_size=batch_size,\n",
    "    saturated=True,\n",
    "    LUT_motor_name=\"BRUSA\",\n",
    "    static_params = {\n",
    "        \"p\": 3,\n",
    "        \"r_s\": 17.932e-3,\n",
    "        \"l_d\": 0.37e-3,\n",
    "        \"l_q\": 1.2e-3,\n",
    "        \"psi_p\": 65.65e-3,\n",
    "        \"deadtime\": 0,\n",
    "    },\n",
    "    solver=diffrax.Tsit5()\n",
    ")\n",
    "\n",
    "PMSM_penalty = lambda observations, actions: pmsm_utils.PMSM_penalty(env, observations, actions)"
   ]
  },
  {
   "cell_type": "code",
   "execution_count": null,
   "id": "69fafc1d-47c6-47bb-98b1-6509916a4d24",
   "metadata": {},
   "outputs": [],
   "source": [
    "seed = 41241\n",
    "alg_params = dict(\n",
    "    bandwidth=jnp.nan,\n",
    "    n_prediction_steps=5,\n",
    "    points_per_dim=21,\n",
    "    grid_extend=1.05,\n",
    "    # excitation_optimizer=optax.lbfgs(),\n",
    "    excitation_optimizer=optax.adabelief(1e-2),\n",
    "    n_opt_steps=100,\n",
    "    # n_opt_steps=25,\n",
    "    start_optimizing=5,\n",
    "    consider_action_distribution=True,\n",
    "    penalty_function=PMSM_penalty,\n",
    "    target_distribution=None,\n",
    "    clip_action=False,\n",
    "    n_starts=3,\n",
    "    reuse_proposed_actions=True,\n",
    ")\n",
    "\n",
    "dim = 4 if alg_params[\"consider_action_distribution\"] else 2\n",
    "# points_per_dim = alg_params[\"points_per_dim\"]\n",
    "# target_distribution = (np.ones(shape=[points_per_dim for _ in range(dim)]) ** dim)[..., None]\n",
    "# xx, yy = np.meshgrid(np.linspace(-1, 0, points_per_dim), np.linspace(-1, 1, points_per_dim))\n",
    "# target_distribution[xx**2 + yy**2 > 1] = 0\n",
    "# target_distribution = target_distribution / jnp.sum(target_distribution)\n",
    "# alg_params[\"target_distribution\"] = jnp.array(target_distribution.reshape(-1, 1))\n",
    "\n",
    "alg_params[\"bandwidth\"] = float(\n",
    "    select_bandwidth(\n",
    "        delta_x=2,\n",
    "        dim=dim,\n",
    "        n_g=alg_params[\"points_per_dim\"],\n",
    "        percentage=0.3,\n",
    "    )\n",
    ")\n",
    "\n",
    "alg_params[\"bandwidth\"] = 0.08\n",
    "print(\"bw\", alg_params[\"bandwidth\"])\n",
    "\n",
    "####################################################################################################\n",
    "\n",
    "\n",
    "# model_trainer_params = dict(\n",
    "#     start_learning=alg_params[\"n_prediction_steps\"],\n",
    "#     training_batch_size=64,\n",
    "#     n_train_steps=1,\n",
    "#     sequence_length=alg_params[\"n_prediction_steps\"],\n",
    "#     featurize=lambda x: x,\n",
    "#     model_lr=1e-4,\n",
    "# )\n",
    "# model_params = dict(obs_dim=2, action_dim=env.action_dim, width_size=32, depth=4, key=None)\n",
    "\n",
    "model_trainer_params = dict(\n",
    "    start_learning=alg_params[\"n_prediction_steps\"],\n",
    "    training_batch_size=128,\n",
    "    n_train_steps=5,\n",
    "    sequence_length=alg_params[\"n_prediction_steps\"],\n",
    "    featurize=lambda x: x,\n",
    "    model_lr=1e-4,\n",
    ")\n",
    "model_params = dict(obs_dim=2, action_dim=env.action_dim, width_size=128, depth=4, key=None)\n",
    "\n",
    "####################################################################################################\n",
    "\n",
    "exp_params = dict(\n",
    "    seed=seed,\n",
    "    n_time_steps=5_000,\n",
    "    model_class=NeuralEulerODEPMSM,\n",
    "    env_params=None,\n",
    "    alg_params=alg_params,\n",
    "    model_trainer_params=model_trainer_params,\n",
    "    model_params=model_params,\n",
    ")\n",
    "\n",
    "# redesign target distribution\n",
    "x_g = build_grid(\n",
    "    dim,\n",
    "    low=-exp_params[\"alg_params\"][\"grid_extend\"],\n",
    "    high=exp_params[\"alg_params\"][\"grid_extend\"],\n",
    "    points_per_dim=exp_params[\"alg_params\"][\"points_per_dim\"]\n",
    ")\n",
    "constr_func = lambda x_g: PMSM_penalty(x_g[..., None, :2], x_g[..., None, 2:])\n",
    "valid_grid_point = jax.vmap(constr_func, in_axes=0)(x_g) == 0\n",
    "constrained_data_points = x_g[jnp.where(valid_grid_point == True)]\n",
    "constrained_data_points.shape\n",
    "\n",
    "target_distribution = DensityEstimate.from_dataset(\n",
    "    constrained_data_points[None],\n",
    "    points_per_dim=alg_params[\"points_per_dim\"],\n",
    "    bandwidth=alg_params[\"bandwidth\"],\n",
    ")\n",
    "\n",
    "exp_params[\"alg_params\"][\"target_distribution\"] = target_distribution.p[0]\n",
    "\n",
    "# setup prng\n",
    "key = jax.random.PRNGKey(seed=exp_params[\"seed\"])\n",
    "data_key, model_key, loader_key, expl_key, key = jax.random.split(key, 5)\n",
    "\n",
    "data_rng = PRNGSequence(data_key)\n",
    "exp_params[\"model_params\"][\"key\"] = model_key\n",
    "\n",
    "# initial guess\n",
    "proposed_actions = jnp.hstack(\n",
    "    [\n",
    "        aprbs(alg_params[\"n_prediction_steps\"], env.batch_size, 1, 10, next(data_rng))[0]\n",
    "        for _ in range(env.action_dim)\n",
    "    ]\n",
    ")\n",
    "\n",
    "observations, actions, model, density_estimate, losses, proposed_actions = excite_with_dmpe(\n",
    "    env, exp_params, proposed_actions, loader_key, expl_key, plot_every=1000\n",
    ")"
   ]
  },
  {
   "cell_type": "code",
   "execution_count": null,
   "id": "03b402ed-76aa-41af-8a4d-1b4fb2b40bc9",
   "metadata": {},
   "outputs": [],
   "source": [
    "fig, _ = plot_sequence_with_constraints(env, observations, actions)"
   ]
  },
  {
   "cell_type": "code",
   "execution_count": null,
   "id": "b76a8e89-c707-4807-a033-a60b9e100da7",
   "metadata": {},
   "outputs": [],
   "source": [
    "def get_constraint_violations(observations, actions, length):\n",
    "    single_results = []\n",
    "    \n",
    "    for i in range(len(lengths) - 1):\n",
    "        single_results.append(\n",
    "            PMSM_penalty(\n",
    "                observations[lengths[i] : lengths[i + 1]], actions[lengths[i] : lengths[i + 1]]\n",
    "            ) / (lengths[i + 1] - lengths[i])\n",
    "        )\n",
    "\n",
    "    return single_results\n",
    "\n",
    "lengths = jnp.linspace(0, 5000, 151, dtype=jnp.int32)\n",
    "plt.plot(lengths[:-1], np.log(get_constraint_violations(observations, actions, lengths)))\n",
    "\n",
    "lengths = jnp.linspace(0, 5000, 25, dtype=jnp.int32)\n",
    "plt.plot(lengths[:-1], np.log(get_constraint_violations(observations, actions, lengths)))\n",
    "\n",
    "plt.grid()\n",
    "plt.show()\n",
    "\n",
    "## \n",
    "         \n",
    "lengths = jnp.linspace(1000, 5000, 151, dtype=jnp.int32)\n",
    "plt.plot(lengths[:-1], get_constraint_violations(observations, actions, lengths))\n",
    "\n",
    "lengths = jnp.linspace(1000, 5000, 25, dtype=jnp.int32)\n",
    "plt.plot(lengths[:-1], get_constraint_violations(observations, actions, lengths))\n",
    "         \n",
    "plt.grid()\n",
    "plt.ylim(-0.1, None)"
   ]
  },
  {
   "cell_type": "code",
   "execution_count": null,
   "id": "51b540a5-8dfc-496f-a771-a1c18e2a7de4",
   "metadata": {},
   "outputs": [],
   "source": [
    "from pmsm_utils import plot_constraints_induced_voltage"
   ]
  },
  {
   "cell_type": "code",
   "execution_count": null,
   "id": "03b9d3ac-ff98-4e2a-93ad-9791bb339946",
   "metadata": {},
   "outputs": [],
   "source": [
    "_, state = env.reset(env.env_properties)\n",
    "i_d_normalizer = env.env_properties.physical_normalizations.i_d\n",
    "i_q_normalizer = env.env_properties.physical_normalizations.i_q\n",
    "\n",
    "physical_i_d = i_d_normalizer.denormalize(observations[..., 0])\n",
    "physical_i_q = i_q_normalizer.denormalize(observations[..., 1])\n",
    "\n",
    "\n",
    "plot_constraints_induced_voltage(env, physical_i_d, physical_i_q, w_el=state.physical_state.omega_el, saturated=True)"
   ]
  },
  {
   "cell_type": "code",
   "execution_count": null,
   "id": "5449df8a-0297-419c-93d3-7c15cb2cecea",
   "metadata": {},
   "outputs": [],
   "source": [
    "fig = plot_feature_combinations(\n",
    "    jnp.concatenate([observations[0:-1], actions], axis=-1),\n",
    "    labels=[\"$\\\\tilde{i}_d$\", \"$\\\\tilde{i}_q$\", \"$\\\\tilde{u}_d$\", \"$\\\\tilde{u}_q$\"],\n",
    "    mode=\"contourf\",\n",
    "    bandwidth=0.05\n",
    ");\n",
    "plt.show()\n",
    "# plt.savefig(\"results/plots/focus_both.pdf\") if alg_params[\"consider_action_distribution\"] else plt.savefig(\"results/plots/focus_obs.pdf\")"
   ]
  },
  {
   "cell_type": "code",
   "execution_count": null,
   "id": "de90f89f-fb75-40d5-9af5-91e75a84d873",
   "metadata": {
    "scrolled": true
   },
   "outputs": [],
   "source": [
    "fig = plot_feature_combinations(\n",
    "    jnp.concatenate([observations[0:-1], actions], axis=-1),\n",
    "    labels=[\"$\\\\tilde{i}_d$\", \"$\\\\tilde{i}_q$\", \"$\\\\tilde{u}_d$\", \"$\\\\tilde{u}_q$\"]\n",
    ");\n",
    "# plt.savefig(\"results/plots/focus_both.pdf\") if alg_params[\"consider_action_distribution\"] else plt.savefig(\"results/plots/focus_obs.pdf\")"
   ]
  },
  {
   "cell_type": "code",
   "execution_count": null,
   "id": "f42da06f-c318-4c08-9581-f6234ff2d52c",
   "metadata": {},
   "outputs": [],
   "source": [
    "# np.save(\"results/pmsm_dmpe_observations.npy\", observations)\n",
    "# np.save(\"results/pmsm_dmpe_actions.npy\", actions)"
   ]
  },
  {
   "cell_type": "code",
   "execution_count": null,
   "id": "60dcb917-046f-47f5-b9e1-84ff395fdb3f",
   "metadata": {},
   "outputs": [],
   "source": [
    "raise"
   ]
  },
  {
   "cell_type": "code",
   "execution_count": null,
   "id": "958e3d0c-fb9d-4243-a117-8b177d44eb42",
   "metadata": {},
   "outputs": [],
   "source": [
    "print(np.where(physical_i_d > 0))\n",
    "\n",
    "\n",
    "plot_range=(2400, 2430)\n",
    "\n",
    "\n",
    "fig, axs = plot_sequence(\n",
    "    observations=jnp.vstack([physical_i_d[plot_range[0]:plot_range[1]], physical_i_q[plot_range[0]:plot_range[1]]]).T,\n",
    "    actions=jnp.vstack([\n",
    "        env.env_properties.action_normalizations.u_d.denormalize(actions[plot_range[0]:plot_range[1], 0]),\n",
    "        env.env_properties.action_normalizations.u_q.denormalize(actions[plot_range[0]:plot_range[1], 1])\n",
    "    ]).T,\n",
    "    tau=env.tau,\n",
    "    obs_labels=[\"i_d\", \"i_q\"],\n",
    "    action_labels=[\"u_d\", \"u_q\"]\n",
    ")\n",
    "\n",
    "plot_current_constraints(fig, axs[1], i_d_normalizer, i_q_normalizer)\n",
    "\n",
    "plt.plot(physical_i_d[plot_range[0]:plot_range[1]], physical_i_q[plot_range[0]:plot_range[1]])"
   ]
  },
  {
   "cell_type": "code",
   "execution_count": null,
   "id": "f0fed19c-9d11-4b1d-89db-4876a32a3037",
   "metadata": {
    "scrolled": true
   },
   "outputs": [],
   "source": [
    "model"
   ]
  },
  {
   "cell_type": "code",
   "execution_count": null,
   "id": "0aabbdb6-4434-46f7-883a-16c548992408",
   "metadata": {},
   "outputs": [],
   "source": [
    "from dmpe.evaluation.plotting_utils import plot_model_performance"
   ]
  },
  {
   "cell_type": "code",
   "execution_count": null,
   "id": "f58b6e57-027a-4a25-8eb9-1e3c698bcfa3",
   "metadata": {},
   "outputs": [],
   "source": [
    "from dmpe.models.model_training import precompute_starting_points, load_single_batch, fit, ModelTrainer"
   ]
  },
  {
   "cell_type": "code",
   "execution_count": null,
   "id": "4a69a112-3792-439a-8c3e-56240f046883",
   "metadata": {},
   "outputs": [],
   "source": [
    "model_trainer = ModelTrainer(\n",
    "    start_learning=exp_params[\"model_trainer_params\"][\"start_learning\"],\n",
    "    training_batch_size=exp_params[\"model_trainer_params\"][\"training_batch_size\"],\n",
    "    n_train_steps=exp_params[\"model_trainer_params\"][\"n_train_steps\"],\n",
    "    sequence_length=100,\n",
    "    featurize=exp_params[\"model_trainer_params\"][\"featurize\"],\n",
    "    model_optimizer=optax.adabelief(exp_params[\"model_trainer_params\"][\"model_lr\"]),\n",
    "    tau=env.tau,\n",
    ")\n",
    "\n",
    "loader_key = jax.random.key(0)\n",
    "\n",
    "model = exp_params[\"model_class\"](**exp_params[\"model_params\"])\n",
    "opt_state_model = model_trainer.model_optimizer.init(eqx.filter(model, eqx.is_inexact_array))\n",
    "\n",
    "for i in tqdm(range(5000)):\n",
    "    model, opt_state_model, loader_key = model_trainer.fit(\n",
    "        model=model,\n",
    "        k=jnp.array([observations.shape[0]]),\n",
    "        observations=observations,\n",
    "        actions=actions,\n",
    "        opt_state=opt_state_model,\n",
    "        loader_key=loader_key,\n",
    "    )"
   ]
  },
  {
   "cell_type": "code",
   "execution_count": null,
   "id": "a335f1fa-f9ad-4beb-9430-3e3f708f245a",
   "metadata": {
    "scrolled": true
   },
   "outputs": [],
   "source": [
    "batch_size = 10\n",
    "sequence_length = 20\n",
    "\n",
    "starting_points, loader_key = precompute_starting_points(\n",
    "    n_train_steps=1, k=observations.shape[0], sequence_length=sequence_length, training_batch_size=batch_size, loader_key=jax.random.key(1)\n",
    ")\n",
    "\n",
    "batched_obs, batched_act = load_single_batch(observations, actions, starting_points[0, ...], sequence_length)\n",
    "\n",
    "for i in range(batched_obs.shape[0]):\n",
    "    plot_model_performance(model, batched_obs[i, ...], batched_act[i, ...], env.tau, [\"i_d\", \"i_q\"], [\"u_d\", \"u_q\"])\n",
    "    plt.show()"
   ]
  },
  {
   "cell_type": "code",
   "execution_count": null,
   "id": "06294aa1-4015-4f46-90ff-ba5f2191f8eb",
   "metadata": {},
   "outputs": [],
   "source": []
  }
 ],
 "metadata": {
  "kernelspec": {
   "display_name": "Python 3 (ipykernel)",
   "language": "python",
   "name": "python3"
  },
  "language_info": {
   "codemirror_mode": {
    "name": "ipython",
    "version": 3
   },
   "file_extension": ".py",
   "mimetype": "text/x-python",
   "name": "python",
   "nbconvert_exporter": "python",
   "pygments_lexer": "ipython3",
   "version": "3.11.11"
  }
 },
 "nbformat": 4,
 "nbformat_minor": 5
}
