{
 "cells": [
  {
   "cell_type": "code",
   "execution_count": null,
   "id": "9421c514-48f6-4945-b051-5333f21424ab",
   "metadata": {},
   "outputs": [],
   "source": [
    "%load_ext autoreload\n",
    "%autoreload 2\n",
    "%reload_ext line_profiler"
   ]
  },
  {
   "cell_type": "code",
   "execution_count": null,
   "id": "c6e4b7ad-cf56-4719-bf18-ed6ac152f891",
   "metadata": {},
   "outputs": [],
   "source": [
    "from operator import itemgetter\n",
    "from functools import partial\n",
    "import os\n",
    "\n",
    "os.environ[\"CUDA_VISIBLE_DEVICES\"] = \"0\"\n",
    "\n",
    "import time\n",
    "from tqdm.notebook import tqdm\n",
    "import numpy as np\n",
    "import matplotlib.pyplot as plt\n",
    "import matplotlib as mpl\n",
    "mpl.rcParams['text.usetex'] = True\n",
    "mpl.rcParams.update({'font.size': 10 * 2.54})\n",
    "mpl.rcParams['text.latex.preamble']=r\"\\usepackage{bm}\"\n",
    "import plotly.express as px\n",
    "import plotly.graph_objects as go"
   ]
  },
  {
   "cell_type": "code",
   "execution_count": null,
   "id": "9fbefcd4-3d97-4822-b3df-c2bb3838fc8e",
   "metadata": {},
   "outputs": [],
   "source": [
    "import jax\n",
    "import jax.numpy as jnp\n",
    "jax.config.update('jax_platform_name', 'cpu')\n",
    "# jax.config.update(\"jax_enable_x64\", True)\n",
    "import diffrax\n",
    "import equinox as eqx\n",
    "import optax\n",
    "\n",
    "from haiku import PRNGSequence"
   ]
  },
  {
   "cell_type": "code",
   "execution_count": null,
   "id": "e2e321c4-c91d-4682-8611-b29cc78a86fc",
   "metadata": {},
   "outputs": [],
   "source": [
    "from dmpe.utils.signals import aprbs\n",
    "from dmpe.evaluation.plotting_utils import (\n",
    "    plot_sequence, append_predictions_to_sequence_plot, plot_sequence_and_prediction, plot_model_performance,\n",
    "    plot_2d_kde_as_contourf, plot_2d_kde_as_surface, plot_feature_combinations\n",
    ")"
   ]
  },
  {
   "cell_type": "code",
   "execution_count": null,
   "id": "74365d61-4572-4592-b8a5-493e81e1adab",
   "metadata": {},
   "outputs": [],
   "source": [
    "from dmpe.related_work.algorithms import excite_with_iGOATS"
   ]
  },
  {
   "cell_type": "code",
   "execution_count": null,
   "id": "07c39824-278e-4418-ad93-0b383c497c4d",
   "metadata": {},
   "outputs": [],
   "source": [
    "from exciting_environments.pmsm.pmsm_env import PMSM"
   ]
  },
  {
   "cell_type": "code",
   "execution_count": null,
   "id": "70554f3e-279c-4f38-a751-ebcc5a7a8a82",
   "metadata": {},
   "outputs": [],
   "source": [
    "class ExcitingPMSM(PMSM):\n",
    "\n",
    "    def generate_observation(self, system_state, env_properties):\n",
    "        physical_constraints = env_properties.physical_constraints\n",
    "\n",
    "        eps = system_state.physical_state.epsilon\n",
    "        cos_eps = jnp.cos(eps)\n",
    "        sin_eps = jnp.sin(eps)\n",
    "\n",
    "        obs = jnp.hstack(\n",
    "            (\n",
    "                (system_state.physical_state.i_d + (physical_constraints.i_d * 0.5))\n",
    "                / (physical_constraints.i_d * 0.5),\n",
    "                system_state.physical_state.i_q / physical_constraints.i_q,\n",
    "            )\n",
    "        )\n",
    "        return obs\n",
    "\n",
    "    def init_state(self, env_properties, rng=None, vmap_helper=None):\n",
    "        \"\"\"Returns default initial state for all batches.\"\"\"\n",
    "        phys = self.PhysicalState(\n",
    "            u_d_buffer=0.0,\n",
    "            u_q_buffer=0.0,\n",
    "            epsilon=0.0,\n",
    "            i_d=-env_properties.physical_constraints.i_d / 2,\n",
    "            i_q=0.0,\n",
    "            torque=0.0,\n",
    "            omega_el=2 * jnp.pi * 3 * 1000 / 60,\n",
    "        )\n",
    "        subkey = jnp.nan\n",
    "        additions = None  # self.Optional(something=jnp.zeros(self.batch_size))\n",
    "        ref = self.PhysicalState(\n",
    "            u_d_buffer=jnp.nan,\n",
    "            u_q_buffer=jnp.nan,\n",
    "            epsilon=jnp.nan,\n",
    "            i_d=jnp.nan,\n",
    "            i_q=jnp.nan,\n",
    "            torque=jnp.nan,\n",
    "            omega_el=jnp.nan,\n",
    "        )\n",
    "        return self.State(physical_state=phys, PRNGKey=subkey, additions=additions, reference=ref)\n",
    "\n",
    "batch_size = 1\n",
    "\n",
    "env = ExcitingPMSM(\n",
    "    batch_size=batch_size,\n",
    "    saturated=True,\n",
    "    static_params={\n",
    "        \"p\": 3,\n",
    "        \"r_s\": 15e-3,\n",
    "        \"l_d\": jnp.nan,\n",
    "        \"l_q\": jnp.nan,\n",
    "        \"psi_p\": jnp.nan,\n",
    "        \"deadtime\": 0,\n",
    "    },\n",
    "    solver=diffrax.Euler(),\n",
    ")\n",
    "\n",
    "from dmpe.excitation.excitation_utils import soft_penalty\n",
    "\n",
    "def PMSM_penalty(observations, actions, penalty_order=2):\n",
    "\n",
    "    action_penalty = soft_penalty(actions, a_max=1, penalty_order=1)\n",
    "\n",
    "    physical_i_d = observations[..., 0] * (env.env_properties.physical_constraints.i_d * 0.5) - (\n",
    "        env.env_properties.physical_constraints.i_d * 0.5\n",
    "    )\n",
    "    physical_i_q = observations[..., 1] * env.env_properties.physical_constraints.i_q\n",
    "\n",
    "    a = physical_i_d / 250\n",
    "    b = physical_i_q / 250\n",
    "\n",
    "    obs_penalty = jax.nn.relu(a**2 + b**2 - 0.9)\n",
    "    obs_penalty = jnp.sum(obs_penalty)\n",
    "    i_d_penalty = jnp.sum(jax.nn.relu(a))\n",
    "\n",
    "    return (obs_penalty + i_d_penalty + action_penalty) * 1e3"
   ]
  },
  {
   "cell_type": "code",
   "execution_count": null,
   "id": "5322bb1f-d7fb-4ba9-b867-fea679b30263",
   "metadata": {
    "scrolled": true
   },
   "outputs": [],
   "source": [
    "# setup PRNG\n",
    "seed = 1\n",
    "\n",
    "key = jax.random.PRNGKey(seed=seed)\n",
    "\n",
    "data_key, model_key, loader_key, expl_key, key = jax.random.split(key, 5)\n",
    "data_rng = PRNGSequence(data_key)\n",
    "\n",
    "obs, state = env.reset(env.env_properties)\n",
    "\n",
    "n_steps = 5\n",
    "actions = jnp.concatenate([aprbs(n_steps, batch_size, 1, 1, next(data_rng)), aprbs(n_steps, batch_size, 1, 1, next(data_rng))], axis=-1)\n",
    "\n",
    "actions = jnp.ones((batch_size, n_steps, 1)) * 1\n",
    "actions = jnp.concatenate([jnp.zeros((batch_size, n_steps, 1)), actions], axis=-1)[0]\n",
    "\n",
    "\n",
    "observations = [obs]\n",
    "\n",
    "for i in range(actions.shape[0]):\n",
    "   \n",
    "    obs, state = env.step(state, actions[i,:], env.env_properties)\n",
    "    observations.append(obs)\n",
    "\n",
    "\n",
    "plot_sequence(np.stack(observations), actions, env.tau, obs_labels=env.obs_description[:2], action_labels=['u_d', 'u_q'])"
   ]
  },
  {
   "cell_type": "code",
   "execution_count": null,
   "id": "8d20be36-2e04-4fde-8fa2-4f00d5014a5d",
   "metadata": {
    "scrolled": true
   },
   "outputs": [],
   "source": [
    "h = 4\n",
    "a = 4\n",
    "\n",
    "alg_params = dict(\n",
    "    prediction_horizon=h,\n",
    "    application_horizon=a,\n",
    "    bounds_amplitude=(-1, 1),\n",
    "    bounds_duration=(1, 50),\n",
    "    population_size=50,\n",
    "    n_generations=50,\n",
    "    featurize=lambda x: x,\n",
    "    rng=None,\n",
    "    compress_data=False,\n",
    "    compression_target_N=None,\n",
    "    compression_feat_dim=None,\n",
    "    compression_dist_th=None,\n",
    "    penalty_function=PMSM_penalty,\n",
    ")\n",
    "\n",
    "exp_params = dict(\n",
    "    n_timesteps=5_000,\n",
    "    seed=int(seed),\n",
    "    alg_params=alg_params,\n",
    "    env_params=None,\n",
    ")\n",
    "\n",
    "# run excitation algorithm\n",
    "observations, actions = excite_with_iGOATS(\n",
    "    n_timesteps=exp_params[\"n_timesteps\"],\n",
    "    env=env,\n",
    "    prediction_horizon=alg_params[\"prediction_horizon\"],\n",
    "    application_horizon=alg_params[\"application_horizon\"],\n",
    "    bounds_amplitude=alg_params[\"bounds_amplitude\"],\n",
    "    bounds_duration=alg_params[\"bounds_duration\"],\n",
    "    population_size=alg_params[\"population_size\"],\n",
    "    n_generations=alg_params[\"n_generations\"],\n",
    "    featurize=alg_params[\"featurize\"],\n",
    "    rng=np.random.default_rng(seed),\n",
    "    compress_data=alg_params[\"compress_data\"],\n",
    "    compression_target_N=alg_params[\"compression_target_N\"],\n",
    "    compression_feat_dim=alg_params[\"compression_feat_dim\"],\n",
    "    compression_dist_th=alg_params[\"compression_dist_th\"],\n",
    "    penalty_function=alg_params[\"penalty_function\"],\n",
    "    plot_subsequences=True,\n",
    ")"
   ]
  },
  {
   "cell_type": "code",
   "execution_count": null,
   "id": "9695ac39-55f0-47a6-a775-dce02e9f35a1",
   "metadata": {
    "scrolled": true
   },
   "outputs": [],
   "source": [
    "%debug"
   ]
  },
  {
   "cell_type": "code",
   "execution_count": null,
   "id": "3c8d8aa4-f74b-4445-b78f-1a86acdf8764",
   "metadata": {},
   "outputs": [],
   "source": [
    "raise"
   ]
  },
  {
   "cell_type": "code",
   "execution_count": null,
   "id": "d281cf2b-9796-4403-99ee-a77901a97721",
   "metadata": {
    "scrolled": true
   },
   "outputs": [],
   "source": [
    "observations = np.concatenate(observations)\n",
    "actions = np.concatenate(actions)\n",
    "\n",
    "np.save(\"results/pmsm_igoats_observations.npy\", observations)\n",
    "np.save(\"results/pmsm_igoats_actions.npy\", actions)"
   ]
  },
  {
   "cell_type": "code",
   "execution_count": null,
   "id": "a0d1fbe7-2131-4ddc-91c1-9815c915acb8",
   "metadata": {},
   "outputs": [],
   "source": [
    "observations = np.load(\"results/pmsm_igoats_observations.npy\")\n",
    "actions = np.load(\"results/pmsm_igoats_actions.npy\")"
   ]
  },
  {
   "cell_type": "code",
   "execution_count": null,
   "id": "28453b14-d3c0-403a-be0d-43f21f8332b2",
   "metadata": {},
   "outputs": [],
   "source": [
    "plot_sequence(observations, actions, env.tau, obs_labels=env.obs_description[:2], action_labels=env.action_description)"
   ]
  },
  {
   "cell_type": "code",
   "execution_count": null,
   "id": "c6d7d530-90cf-4dc0-be1f-a909a26ddc52",
   "metadata": {},
   "outputs": [],
   "source": []
  },
  {
   "cell_type": "code",
   "execution_count": null,
   "id": "1afcc639-db96-428d-a4c6-c32a8023680e",
   "metadata": {},
   "outputs": [],
   "source": [
    "physical_i_d = observations[..., 0] * (env.env_properties.physical_constraints.i_d * 0.5) - (env.env_properties.physical_constraints.i_d * 0.5)\n",
    "physical_i_q = observations[..., 1] * env.env_properties.physical_constraints.i_q"
   ]
  },
  {
   "cell_type": "code",
   "execution_count": null,
   "id": "7426567a-e6db-46bf-92da-e48f12576c48",
   "metadata": {},
   "outputs": [],
   "source": [
    "fig, axs = plot_sequence(\n",
    "    observations=jnp.vstack([physical_i_d, physical_i_q]).T,\n",
    "    actions=(actions * jnp.hstack([env.env_properties.action_constraints.u_d, env.env_properties.action_constraints.u_q])),\n",
    "    tau=env.tau,\n",
    "    obs_labels=[\"i_d\", \"i_q\"],\n",
    "    action_labels=[\"u_d\", \"u_q\"]\n",
    ")\n",
    "# t = jnp.linspace(0, observations.shape[0] - 1, observations.shape[0]) * env.tau\n",
    "# axs[0].plot(t, np.ones(observations.shape[0]) * env.env_properties.physical_constraints.i_d)\n",
    "# axs[0].plot(t, -np.ones(observations.shape[0]) * env.env_properties.physical_constraints.i_d)\n",
    "\n",
    "axs[1].set_xlim(-250,0)\n",
    "axs[1].set_ylim(-250, 250)\n",
    "# t = t[:-1]\n",
    "# axs[2].plot(t, np.ones(actions.shape[0]) * env.env_properties.action_constraints.u_d)\n",
    "# axs[2].plot(t, -np.ones(actions.shape[0]) * env.env_properties.action_constraints.u_d)\n",
    "\n",
    "plt.savefig(\"learning_dmpe_200vdc.png\")"
   ]
  },
  {
   "cell_type": "code",
   "execution_count": null,
   "id": "edac1316-6559-4e98-87a5-07fcf5ab3949",
   "metadata": {},
   "outputs": [],
   "source": [
    "fig = plot_feature_combinations(\n",
    "    jnp.concatenate([observations, actions], axis=-1),\n",
    "    labels=[\"$\\\\tilde{i}_d$\", \"$\\\\tilde{i}_q$\", \"$\\\\tilde{u}_d$\", \"$\\\\tilde{u}_q$\"],\n",
    "    mode=\"contourf\"\n",
    ");\n",
    "plt.savefig(\"results/plots/iGOATS_distributions.pdf\")"
   ]
  },
  {
   "cell_type": "code",
   "execution_count": null,
   "id": "e41038fa-fd0a-40ab-8bf9-7a0d1dbd4bc8",
   "metadata": {},
   "outputs": [],
   "source": [
    "fig = plot_feature_combinations(\n",
    "    jnp.concatenate([observations, actions], axis=-1),\n",
    "    labels=[\"$\\\\tilde{i}_d$\", \"$\\\\tilde{i}_q$\", \"$\\\\tilde{u}_d$\", \"$\\\\tilde{u}_q$\"]\n",
    ");\n",
    "plt.savefig(\"results/plots/iGOATS_data.pdf\")"
   ]
  },
  {
   "cell_type": "code",
   "execution_count": null,
   "id": "e33c1d29-ca70-4dd4-9873-08697da83a6b",
   "metadata": {},
   "outputs": [],
   "source": [
    "from dmpe.utils.density_estimation import DensityEstimate\n",
    "from dmpe.evaluation.plotting_utils import plot_2d_kde_as_contourf, plot_2d_kde_as_surface"
   ]
  },
  {
   "cell_type": "code",
   "execution_count": null,
   "id": "50cb8d57-f3bc-4767-8474-4717c038e15c",
   "metadata": {},
   "outputs": [],
   "source": [
    "bw = 0.11"
   ]
  },
  {
   "cell_type": "code",
   "execution_count": null,
   "id": "ed30acf7-32f1-4b2b-ab39-c0944e9c7457",
   "metadata": {},
   "outputs": [],
   "source": [
    "obs_density = DensityEstimate.from_dataset(observations, actions=actions, use_actions=False, points_per_dim=100, bandwidth=bw)\n",
    "obs_labels = [\"i_d\", \"i_q\"]\n",
    "plot_2d_kde_as_contourf(obs_density.p, obs_density.x_g, obs_labels)\n",
    "\n",
    "plt.savefig(\"-\".join(obs_labels) + \".png\")"
   ]
  },
  {
   "cell_type": "code",
   "execution_count": null,
   "id": "d0bce3a9-ce94-40bb-8c0b-96126eb8a920",
   "metadata": {},
   "outputs": [],
   "source": [
    "act_density = DensityEstimate.from_dataset(actions, actions=observations, use_actions=False, points_per_dim=100, bandwidth=bw)\n",
    "\n",
    "obs_labels = [\"u_d\", \"u_q\"]\n",
    "plot_2d_kde_as_contourf(act_density.p, act_density.x_g, obs_labels)\n",
    "\n",
    "plt.savefig(\"-\".join(obs_labels) + \".png\")"
   ]
  },
  {
   "cell_type": "code",
   "execution_count": null,
   "id": "4d1f5f23-2de5-4a3c-b4fd-900fb01af265",
   "metadata": {},
   "outputs": [],
   "source": [
    "density_estimate_test =  DensityEstimate.from_dataset(jnp.concatenate([observations[..., 0][..., None], actions[..., 0][..., None]], axis=-1), actions=actions, use_actions=False, points_per_dim=100, bandwidth=bw)\n",
    "\n",
    "obs_labels = [\"i_d\", \"u_d\"]\n",
    "plot_2d_kde_as_contourf(density_estimate_test.p, density_estimate_test.x_g, obs_labels)\n",
    "\n",
    "plt.savefig(\"-\".join(obs_labels) + \".png\")"
   ]
  },
  {
   "cell_type": "code",
   "execution_count": null,
   "id": "9bc2b197-4816-4967-9708-8b72825e736b",
   "metadata": {},
   "outputs": [],
   "source": [
    "density_estimate_test =  DensityEstimate.from_dataset(jnp.concatenate([observations[..., 1][..., None], actions[..., 1][..., None]], axis=-1), actions=actions, use_actions=False, points_per_dim=100, bandwidth=bw)\n",
    "\n",
    "obs_labels = [\"i_q\", \"u_q\"]\n",
    "plot_2d_kde_as_contourf(density_estimate_test.p, density_estimate_test.x_g, obs_labels)\n",
    "\n",
    "plt.savefig(\"-\".join(obs_labels) + \".png\")"
   ]
  },
  {
   "cell_type": "code",
   "execution_count": null,
   "id": "c9128514-553c-4337-91d8-fbf9bbbd1931",
   "metadata": {},
   "outputs": [],
   "source": [
    "density_estimate_test =  DensityEstimate.from_dataset(jnp.concatenate([observations[..., 0][..., None], actions[..., 1][..., None]], axis=-1), actions=actions, use_actions=False, points_per_dim=100, bandwidth=bw)\n",
    "\n",
    "obs_labels = [\"i_d\", \"u_q\"]\n",
    "plot_2d_kde_as_contourf(density_estimate_test.p, density_estimate_test.x_g, obs_labels)\n",
    "\n",
    "plt.savefig(\"-\".join(obs_labels) + \".png\")"
   ]
  },
  {
   "cell_type": "code",
   "execution_count": null,
   "id": "4c0d9cc5-fdff-4ce8-9705-34c3e9f3dc7a",
   "metadata": {},
   "outputs": [],
   "source": [
    "density_estimate_test =  DensityEstimate.from_dataset(jnp.concatenate([observations[..., 1][..., None], actions[..., 0][..., None]], axis=-1), actions=actions, use_actions=False, points_per_dim=100, bandwidth=bw)\n",
    "\n",
    "obs_labels = [\"i_q\", \"u_d\"]\n",
    "plot_2d_kde_as_contourf(density_estimate_test.p, density_estimate_test.x_g, obs_labels)\n",
    "\n",
    "plt.savefig(\"-\".join(obs_labels) + \".png\")"
   ]
  },
  {
   "cell_type": "code",
   "execution_count": null,
   "id": "22745958-978c-4b79-80f9-035271394ea4",
   "metadata": {},
   "outputs": [],
   "source": [
    "from dmpe.related_work.mixed_GA import Permutation, Integer, Real"
   ]
  },
  {
   "cell_type": "code",
   "execution_count": null,
   "id": "06dda009-946c-4f5f-bda8-59602502057c",
   "metadata": {},
   "outputs": [],
   "source": [
    "action_dim = 3\n",
    "\n",
    "prediction_horizon = 5\n",
    "bounds_amplitude = (-1, 1)\n",
    "bounds_duration = (5, 20)\n",
    "\n",
    "amplitude_variables = {f\"a_{number}\": Real(bounds=bounds_amplitude) for number in range(prediction_horizon * action_dim)}  # \n",
    "duration_variables = {f\"d_{number}\": Integer(bounds=bounds_duration) for number in range(prediction_horizon * action_dim)}  # \n",
    "all_vars = dict(amplitude_variables, **duration_variables)\n",
    "\n",
    "x = {name: var.sample() for name, var in all_vars.items()}"
   ]
  },
  {
   "cell_type": "code",
   "execution_count": null,
   "id": "f4856ba9-599f-4885-a570-c2c7309eb3de",
   "metadata": {},
   "outputs": [],
   "source": [
    "action_parameters = np.fromiter(x.values(), dtype=np.float64)\n",
    "\n",
    "amplitudes = action_parameters[:prediction_horizon * action_dim].reshape((action_dim, prediction_horizon))\n",
    "durations = action_parameters[prediction_horizon * action_dim:].astype(np.int32).reshape((action_dim, prediction_horizon))"
   ]
  },
  {
   "cell_type": "code",
   "execution_count": null,
   "id": "09cce3ff-d2a0-4fc1-b6f4-55aa8ffbf095",
   "metadata": {},
   "outputs": [],
   "source": [
    "def generate_aprbs(amplitudes, durations):\n",
    "    \"\"\"Parameterizable aprbs. This is used to transform the aprbs parameters into a signal.\"\"\"\n",
    "    return np.concatenate([np.ones(duration) * amplitude for (amplitude, duration) in zip(amplitudes, durations)])\n",
    "\n",
    "\n",
    "def generate_multidim_aprbs(amplitudes, durations):\n",
    "    assert amplitudes.shape == durations.shape\n",
    "    min_length = np.min(np.sum(durations, axis=1))\n",
    "    multidim_signal = np.concatenate([generate_aprbs(amplitude, duration)[:min_length][..., None] for (amplitude, duration) in zip(amplitudes, durations)], axis=-1)       \n",
    "    return multidim_signal\n",
    "\n",
    "\n",
    "def generate_mutlidim_aprbs_shared_durations(amplitudes, durations):\n",
    "    assert amplitudes.shape[1] == durations.shape[0] and durations.ndim == 1\n",
    "    multidim_signal = np.concatenate([generate_aprbs(amplitude, durations)[..., None] for amplitude in amplitudes], axis=-1)\n",
    "    return multidim_signal"
   ]
  },
  {
   "cell_type": "code",
   "execution_count": null,
   "id": "074cd23e-eb20-4a1b-a284-5d3187fca27c",
   "metadata": {},
   "outputs": [],
   "source": [
    "plt.plot(generate_multidim_aprbs(amplitudes, durations))"
   ]
  },
  {
   "cell_type": "code",
   "execution_count": null,
   "id": "9b7b695d-445f-4c2e-b8c7-ebfab7881876",
   "metadata": {},
   "outputs": [],
   "source": [
    "plt.plot(generate_mutlidim_aprbs_shared_durations(amplitudes, durations[0]))"
   ]
  },
  {
   "cell_type": "code",
   "execution_count": null,
   "id": "91d2991e-5aa3-476a-b67d-dc115087cf41",
   "metadata": {},
   "outputs": [],
   "source": [
    "amplitudes.shape[0]"
   ]
  },
  {
   "cell_type": "code",
   "execution_count": null,
   "id": "b1c08bca-7a37-4e7c-bd7a-6a723625b044",
   "metadata": {},
   "outputs": [],
   "source": [
    "amplitudes"
   ]
  },
  {
   "cell_type": "code",
   "execution_count": null,
   "id": "ffdb18f0-f1e7-4d61-acb3-bd3313eee0e0",
   "metadata": {},
   "outputs": [],
   "source": []
  },
  {
   "cell_type": "code",
   "execution_count": null,
   "id": "5a0edd7a-0fd9-45ab-bf5c-727becb67d2f",
   "metadata": {},
   "outputs": [],
   "source": [
    "seed=0\n",
    "\n",
    "env_params = dict(\n",
    "    batch_size=1,\n",
    "    tau=5,\n",
    "    max_height=3,\n",
    "    max_inflow=0.2,\n",
    "    base_area=jnp.pi,\n",
    "    orifice_area=jnp.pi * 0.1**2,\n",
    "    c_d=0.6,\n",
    "    g=9.81,\n",
    "    env_solver=diffrax.Tsit5(),\n",
    ")\n",
    "env = excenvs.make(\n",
    "    \"FluidTank-v0\",\n",
    "    physical_constraints=dict(height=env_params[\"max_height\"]),\n",
    "    action_constraints=dict(inflow=env_params[\"max_inflow\"]),\n",
    "    static_params=dict(\n",
    "        base_area=env_params[\"base_area\"],\n",
    "        orifice_area=env_params[\"orifice_area\"],\n",
    "        c_d=env_params[\"c_d\"],\n",
    "        g=env_params[\"g\"],\n",
    "    ),\n",
    "    tau=env_params[\"tau\"],\n",
    "    solver=env_params[\"env_solver\"],\n",
    ")\n",
    "\n",
    "h = 10\n",
    "a = 10\n",
    "\n",
    "alg_params = dict(\n",
    "    prediction_horizon=h,\n",
    "    application_horizon=a,\n",
    "    bounds_amplitude=(-1, 1),\n",
    "    bounds_duration=(5, 50),\n",
    "    population_size=50,\n",
    "    n_generations=25,\n",
    "    featurize=lambda x: x,\n",
    "    rng=None,\n",
    "    compress_data=True,\n",
    "    compression_target_N=500,\n",
    "    rho_obs=1e3,\n",
    "    rho_act=1e3,\n",
    "    compression_feat_dim=-2,\n",
    "    compression_dist_th=0.1,\n",
    ")\n",
    "\n",
    "exp_params = dict(\n",
    "    n_timesteps=15000,\n",
    "    seed=int(seed),\n",
    "    alg_params=alg_params,\n",
    "    env_params=env_params,\n",
    ")\n",
    "\n",
    "# run excitation algorithm\n",
    "observations, actions = excite_with_iGOATS(\n",
    "    n_timesteps=exp_params[\"n_timesteps\"],\n",
    "    env=env,\n",
    "    prediction_horizon=alg_params[\"prediction_horizon\"],\n",
    "    application_horizon=alg_params[\"application_horizon\"],\n",
    "    bounds_amplitude=alg_params[\"bounds_amplitude\"],\n",
    "    bounds_duration=alg_params[\"bounds_duration\"],\n",
    "    population_size=alg_params[\"population_size\"],\n",
    "    n_generations=alg_params[\"n_generations\"],\n",
    "    featurize=alg_params[\"featurize\"],\n",
    "    rng=np.random.default_rng(seed),\n",
    "    compress_data=alg_params[\"compress_data\"],\n",
    "    compression_target_N=alg_params[\"compression_target_N\"],\n",
    "    rho_obs=alg_params[\"rho_obs\"],\n",
    "    rho_act=alg_params[\"rho_act\"],\n",
    "    compression_feat_dim=alg_params[\"compression_feat_dim\"],\n",
    "    compression_dist_th=alg_params[\"compression_dist_th\"],\n",
    "    plot_subsequences=True,\n",
    ")"
   ]
  },
  {
   "cell_type": "code",
   "execution_count": null,
   "id": "7042cfbf-52c5-499f-aff2-c27a4981858b",
   "metadata": {},
   "outputs": [],
   "source": []
  },
  {
   "cell_type": "code",
   "execution_count": null,
   "id": "f1f705f0-5213-4970-b1e4-9441b105cb81",
   "metadata": {},
   "outputs": [],
   "source": [
    "env_params = dict(batch_size=1, tau=2e-2, max_torque=5, g=9.81, l=1, m=1, env_solver=diffrax.Tsit5())\n",
    "env = excenvs.make(\n",
    "    env_id=\"Pendulum-v0\",\n",
    "    batch_size=env_params[\"batch_size\"],\n",
    "    action_constraints={\"torque\": env_params[\"max_torque\"]},\n",
    "    static_params={\"g\": env_params[\"g\"], \"l\": env_params[\"l\"], \"m\": env_params[\"m\"]},\n",
    "    solver=env_params[\"env_solver\"],\n",
    "    tau=env_params[\"tau\"],\n",
    ")\n",
    "\n",
    "alg_params = dict(\n",
    "    n_amplitudes=360,\n",
    "    n_amplitude_groups=36,\n",
    "    reuse_observations=True,\n",
    "    bounds_duration=(10, 100),\n",
    "    population_size=50,\n",
    "    n_generations=25,\n",
    "    featurize=lambda x: x,\n",
    "    compress_data=True,\n",
    "    compression_target_N=500,\n",
    "    compression_dist_th=0.1,\n",
    "    compression_feature_dim=-2,\n",
    "    rho_obs=1e3,\n",
    "    rho_act=1e3,\n",
    ")"
   ]
  },
  {
   "cell_type": "code",
   "execution_count": null,
   "id": "c2b5f23f-4564-4f20-bde5-3ea95646dc23",
   "metadata": {},
   "outputs": [],
   "source": [
    "seed = 0\n",
    "\n",
    "exp_params = dict(\n",
    "    seed=int(seed),\n",
    "    alg_params=alg_params,\n",
    "    env_params=env_params,\n",
    ")\n",
    "\n",
    "# setup PRNG\n",
    "rng = np.random.default_rng(seed=seed)\n",
    "\n",
    "# run excitation algorithm\n",
    "observations, actions = excite_with_sGOATS(\n",
    "    n_amplitudes=alg_params[\"n_amplitudes\"],\n",
    "    n_amplitude_groups=alg_params[\"n_amplitude_groups\"],\n",
    "    reuse_observations=alg_params[\"reuse_observations\"],\n",
    "    env=env,\n",
    "    bounds_duration=alg_params[\"bounds_duration\"],\n",
    "    population_size=alg_params[\"population_size\"],\n",
    "    n_generations=alg_params[\"n_generations\"],\n",
    "    featurize=alg_params[\"featurize\"],\n",
    "    compress_data=alg_params[\"compress_data\"],\n",
    "    compression_target_N=alg_params[\"compression_target_N\"],\n",
    "    compression_dist_th=alg_params[\"compression_dist_th\"],\n",
    "    compression_feat_dim=alg_params[\"compression_feature_dim\"],\n",
    "    rho_obs=alg_params[\"rho_obs\"],\n",
    "    rho_act=alg_params[\"rho_act\"],\n",
    "    rng=np.random.default_rng(seed=exp_params[\"seed\"]),\n",
    "    verbose=False,\n",
    "    plot_every_subsequence=True,\n",
    ")"
   ]
  },
  {
   "cell_type": "code",
   "execution_count": null,
   "id": "45a5b5cf-048d-46f5-aa5d-035272af3a7d",
   "metadata": {},
   "outputs": [],
   "source": [
    "env_params = dict(\n",
    "    batch_size=1,\n",
    "    tau=5e-1,\n",
    "    max_height=3,\n",
    "    max_inflow=0.2,\n",
    "    base_area=jnp.pi,\n",
    "    orifice_area=jnp.pi * 0.1**2,\n",
    "    c_d=0.6,\n",
    "    g=9.81,\n",
    "    env_solver=diffrax.Euler(),\n",
    ")\n",
    "env = excenvs.make(\n",
    "    \"FluidTank-v0\",\n",
    "    physical_constraints=dict(height=env_params[\"max_height\"]),\n",
    "    action_constraints=dict(inflow=env_params[\"max_inflow\"]),\n",
    "    static_params=dict(\n",
    "        base_area=env_params[\"base_area\"],\n",
    "        orifice_area=env_params[\"orifice_area\"],\n",
    "        c_d=env_params[\"c_d\"],\n",
    "        g=env_params[\"g\"],\n",
    "    ),\n",
    "    tau=env_params[\"tau\"],\n",
    "    solver=env_params[\"env_solver\"],\n",
    ")"
   ]
  },
  {
   "cell_type": "code",
   "execution_count": null,
   "id": "eaf59106-921d-4805-a3db-97ce0aff749b",
   "metadata": {},
   "outputs": [],
   "source": [
    "prediction_horizon = 4\n",
    "application_horizon = 4\n",
    "\n",
    "igoats_observations, igoats_actions = excite_with_iGOATS(\n",
    "    n_timesteps=15000,\n",
    "    env=env,\n",
    "    prediction_horizon=prediction_horizon,\n",
    "    application_horizon=application_horizon,\n",
    "    bounds_amplitude=[-1, 1],\n",
    "    bounds_duration=[1, 100],\n",
    "    population_size=50,\n",
    "    n_generations=50,\n",
    "    featurize=lambda x: x,\n",
    "    rng=np.random.default_rng(0),\n",
    "    compress_data=True,\n",
    "    compression_target_N=500,\n",
    "    rho_obs=1e3,\n",
    "    rho_act=1e3,\n",
    "    compression_feat_dim=-2,\n",
    "    compression_dist_th=0.1,\n",
    "    plot_subsequences=True,\n",
    ")\n"
   ]
  },
  {
   "cell_type": "code",
   "execution_count": null,
   "id": "839a7b66-85c9-4ed1-8c19-eb0364b36b33",
   "metadata": {},
   "outputs": [],
   "source": [
    "%debug"
   ]
  },
  {
   "cell_type": "code",
   "execution_count": null,
   "id": "8b5a8c40-6805-4012-93c3-74181ab8336e",
   "metadata": {},
   "outputs": [],
   "source": [
    "plot_sequence(igoats_observations, igoats_actions, env.tau, env.obs_description, env.action_description)"
   ]
  },
  {
   "cell_type": "code",
   "execution_count": null,
   "id": "5f3d13bd-3940-4c4c-aa56-89e42b7673cd",
   "metadata": {},
   "outputs": [],
   "source": [
    "z = np.ones((51, 51))"
   ]
  },
  {
   "cell_type": "code",
   "execution_count": null,
   "id": "e47f5638-d9b5-4832-9adb-098a732d42f0",
   "metadata": {},
   "outputs": [],
   "source": [
    "xx, yy = np.meshgrid(np.linspace(-1, 0, 51), np.linspace(-1, 1, 51))"
   ]
  },
  {
   "cell_type": "code",
   "execution_count": null,
   "id": "7a5b4484-555d-472b-a12a-bf92d2b0209c",
   "metadata": {},
   "outputs": [],
   "source": [
    "(xx + 1) * 25"
   ]
  },
  {
   "cell_type": "code",
   "execution_count": null,
   "id": "82227a4e-4c9b-45e4-b0c9-eaf51fabd738",
   "metadata": {},
   "outputs": [],
   "source": [
    "(xx**2 + yy**2 > 1).shape"
   ]
  },
  {
   "cell_type": "code",
   "execution_count": null,
   "id": "27afe2b0-04bd-4355-9bf2-df60111b8745",
   "metadata": {
    "scrolled": true
   },
   "outputs": [],
   "source": [
    "z[xx**2 + yy**2 > 1] = 0"
   ]
  },
  {
   "cell_type": "code",
   "execution_count": null,
   "id": "63e60a0f-edba-445b-a93a-365d475b3248",
   "metadata": {},
   "outputs": [],
   "source": [
    "plt.imshow(z)"
   ]
  },
  {
   "cell_type": "code",
   "execution_count": null,
   "id": "fb7ec9f0-f648-445e-afba-b75098c6bdea",
   "metadata": {
    "scrolled": true
   },
   "outputs": [],
   "source": [
    "dim = 3\n",
    "\n",
    "points_per_dim = 100\n",
    "n_grid_points = points_per_dim**dim\n",
    "\n",
    "target_distribution = (np.ones(shape=[points_per_dim for _ in range(dim)]) ** dim)[..., None]"
   ]
  },
  {
   "cell_type": "code",
   "execution_count": null,
   "id": "e7a90304-4802-4041-bd2b-ec64bb2db43b",
   "metadata": {},
   "outputs": [],
   "source": [
    "target_distribution.shape"
   ]
  },
  {
   "cell_type": "code",
   "execution_count": null,
   "id": "80396761-6464-4d10-bac7-2a2c7e233dc4",
   "metadata": {},
   "outputs": [],
   "source": [
    "xx, yy = np.meshgrid(np.linspace(-1, 0, points_per_dim), np.linspace(-1, 1, points_per_dim))\n",
    "target_distribution[xx**2 + yy**2 > 1] = 0\n",
    "target_distribution[yy < 0.1] = 0"
   ]
  },
  {
   "cell_type": "code",
   "execution_count": null,
   "id": "ff728da5-bfc6-4242-be9b-aba5ec745156",
   "metadata": {},
   "outputs": [],
   "source": [
    "plt.imshow(target_distribution[:, :, 0])"
   ]
  },
  {
   "cell_type": "code",
   "execution_count": null,
   "id": "b3bb2a3f-5937-4715-8a3b-1ebbce19ed1d",
   "metadata": {},
   "outputs": [],
   "source": [
    "plt.imshow(target_distribution[:, 1, :])"
   ]
  },
  {
   "cell_type": "code",
   "execution_count": null,
   "id": "870ca5dc-301a-4e12-a0a1-39a364f8751c",
   "metadata": {},
   "outputs": [],
   "source": [
    "xx**2 + yy**2 > 1"
   ]
  },
  {
   "cell_type": "code",
   "execution_count": null,
   "id": "24719e13-5142-4370-b792-2096eef6e0b9",
   "metadata": {},
   "outputs": [],
   "source": [
    "target_distribution[:, :, 0, 0]"
   ]
  },
  {
   "cell_type": "code",
   "execution_count": null,
   "id": "28a3e28b-5e74-4496-8a15-6ce7942fa7af",
   "metadata": {},
   "outputs": [],
   "source": [
    "target_distribution[:, 0, :, 0]"
   ]
  },
  {
   "cell_type": "code",
   "execution_count": null,
   "id": "97a3b026-84b6-43c0-aaa9-69367fad221a",
   "metadata": {},
   "outputs": [],
   "source": [
    "target_distribution[0, 0, :, :]"
   ]
  },
  {
   "cell_type": "code",
   "execution_count": null,
   "id": "9fa6ae6b-4b81-48ed-8a14-70c50380200e",
   "metadata": {},
   "outputs": [],
   "source": []
  }
 ],
 "metadata": {
  "kernelspec": {
   "display_name": "Python 3 (ipykernel)",
   "language": "python",
   "name": "python3"
  },
  "language_info": {
   "codemirror_mode": {
    "name": "ipython",
    "version": 3
   },
   "file_extension": ".py",
   "mimetype": "text/x-python",
   "name": "python",
   "nbconvert_exporter": "python",
   "pygments_lexer": "ipython3",
   "version": "3.11.9"
  }
 },
 "nbformat": 4,
 "nbformat_minor": 5
}
