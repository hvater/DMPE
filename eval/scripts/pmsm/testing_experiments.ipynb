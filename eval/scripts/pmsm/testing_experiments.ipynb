{
 "cells": [
  {
   "cell_type": "code",
   "execution_count": null,
   "id": "2c131c96-ca87-400b-8b32-05e3583b04ff",
   "metadata": {},
   "outputs": [],
   "source": [
    "%load_ext autoreload\n",
    "%autoreload 2\n",
    "%reload_ext line_profiler"
   ]
  },
  {
   "cell_type": "code",
   "execution_count": null,
   "id": "d876c929-c00c-496c-a2b0-f5aea27537c2",
   "metadata": {},
   "outputs": [],
   "source": [
    "import pathlib\n",
    "\n",
    "from functools import partial\n",
    "import os\n",
    "os.environ['CUDA_VISIBLE_DEVICES'] = '1'\n",
    "os.environ[\"XLA_PYTHON_CLIENT_PREALLOCATE\"]=\"false\"\n",
    "\n",
    "import pickle\n",
    "import json\n",
    "import numpy as np\n",
    "import matplotlib.pyplot as plt\n",
    "import matplotlib as mpl\n",
    "from matplotlib import rc\n",
    "\n",
    "import jax\n",
    "import jax.numpy as jnp\n",
    "import jax_dataclasses as jdc\n",
    "from jax.tree_util import tree_flatten, tree_unflatten\n",
    "\n",
    "gpus = jax.devices()\n",
    "jax.config.update(\"jax_default_device\", gpus[0])\n",
    "\n",
    "import diffrax"
   ]
  },
  {
   "cell_type": "code",
   "execution_count": null,
   "id": "b98e0753-d766-40e3-a087-6d18c8655759",
   "metadata": {},
   "outputs": [],
   "source": [
    "import dmpe\n",
    "from dmpe.evaluation.experiment_utils import load_experiment_results\n",
    "from dmpe.utils.env_utils.pmsm_utils import plot_constraints_induced_voltage\n",
    "from dmpe.utils.density_estimation import build_grid, DensityEstimate\n",
    "\n",
    "from eval_dmpe import run_experiment, setup_env\n",
    "from dmpe_params import get_RLS_params, get_NODE_params, get_PM_params, get_target_distribution"
   ]
  },
  {
   "cell_type": "code",
   "execution_count": null,
   "id": "e54a9f93-a257-4ca5-a660-27386017d81d",
   "metadata": {},
   "outputs": [],
   "source": [
    "# params:\n",
    "rpm = 2_000\n",
    "model_name = \"NODE\"\n",
    "consider_actions = True"
   ]
  },
  {
   "cell_type": "code",
   "execution_count": null,
   "id": "00ca283b-4564-40e5-8532-55b6c616b7ed",
   "metadata": {},
   "outputs": [],
   "source": [
    "env, penalty_function = setup_env(rpm)\n",
    "\n",
    "alg_params, model_params, model_class, model_trainer_params, model_env_wrapper = get_NODE_params(\n",
    "    consider_action_distribution=consider_actions, penalty_function=penalty_function\n",
    ")"
   ]
  },
  {
   "cell_type": "code",
   "execution_count": null,
   "id": "6431a68f-bf5e-48de-83e1-3c60b25be763",
   "metadata": {},
   "outputs": [],
   "source": [
    "# inspect the target_distribution:\n",
    "\n",
    "target_distribution = alg_params[\"target_distribution\"]\n",
    "target_distribution = target_distribution.reshape(4 * (alg_params[\"points_per_dim\"],))\n",
    "target_distribution.shape"
   ]
  },
  {
   "cell_type": "code",
   "execution_count": null,
   "id": "a3f06c9f-e77c-4b70-8fef-b71f30db94f8",
   "metadata": {
    "scrolled": true
   },
   "outputs": [],
   "source": [
    "print(\"currents\")\n",
    "print(jnp.sum(target_distribution[:, :, 0, 0]))\n",
    "print(jnp.sum(target_distribution[:, :, 10, 10]))\n",
    "plt.imshow(target_distribution[:, :, 0, 0])\n",
    "plt.show()\n",
    "\n",
    "print(\"voltages\")\n",
    "plt.imshow(target_distribution[0, 0, :, :])\n",
    "plt.show()"
   ]
  },
  {
   "cell_type": "code",
   "execution_count": null,
   "id": "db7ce807-bf25-42e2-8cce-0d0e31d82de8",
   "metadata": {
    "scrolled": true
   },
   "outputs": [],
   "source": [
    "plt.imshow(target_distribution[:, 10, :, 10])\n",
    "plt.show()"
   ]
  },
  {
   "cell_type": "code",
   "execution_count": null,
   "id": "4da75421-c736-495b-bbb6-4224dc098e5b",
   "metadata": {},
   "outputs": [],
   "source": [
    "exp_params = dict(\n",
    "    seed=None,\n",
    "    rpm=float(rpm),\n",
    "    n_time_steps=5_000,\n",
    "    alg_params=alg_params,\n",
    "    model_params=model_params,\n",
    "    model_class=model_class,\n",
    "    model_trainer_params=model_trainer_params,\n",
    "    model_env_wrapper=model_env_wrapper,\n",
    ")"
   ]
  },
  {
   "cell_type": "code",
   "execution_count": null,
   "id": "7a4f91b9-1e5e-4961-abc7-f7637890dbd5",
   "metadata": {},
   "outputs": [],
   "source": [
    "seed = 222\n",
    "exp_params[\"seed\"] = int(seed)\n",
    "run_experiment(model_name, 0, env, exp_params)"
   ]
  },
  {
   "cell_type": "markdown",
   "id": "83731203-7331-4b79-8b85-2980fecd2cbf",
   "metadata": {},
   "source": [
    "### inspect experiment result:"
   ]
  },
  {
   "cell_type": "code",
   "execution_count": null,
   "id": "b39b777c-78bc-4be6-9f46-16b756516790",
   "metadata": {},
   "outputs": [],
   "source": [
    "from dmpe.evaluation.experiment_utils import get_experiment_ids\n",
    "\n",
    "def get_organized_experiment_ids(full_results_path):\n",
    "    experiment_ids = get_experiment_ids(full_results_path)\n",
    "    organized_experiment_ids = {}\n",
    "    \n",
    "    for experiment_id in experiment_ids:\n",
    "    \n",
    "        ca = experiment_id.split(\"ca_\")[-1].split(\"_\")[0] == \"True\"\n",
    "    \n",
    "        if ca not in organized_experiment_ids.keys():\n",
    "            organized_experiment_ids[ca] = {}\n",
    "            \n",
    "        rpm = float(experiment_id.split(\"rpm_\")[-1].split(\"_\")[0])\n",
    "        if rpm not in organized_experiment_ids[ca].keys():\n",
    "            organized_experiment_ids[ca][rpm] = []\n",
    "        organized_experiment_ids[ca][rpm].append(experiment_id)\n",
    "\n",
    "    return organized_experiment_ids\n",
    "\n",
    "full_results_path = \"/home/hvater@uni-paderborn.de/projects/forks/DMPE/eval/scripts/pmsm/results/dmpe/RLS\"\n",
    "organized_experiment_ids = get_organized_experiment_ids(full_results_path)\n",
    "organized_experiment_ids"
   ]
  },
  {
   "cell_type": "code",
   "execution_count": null,
   "id": "5e30a5dd-4a2e-4ffb-a52e-bf9699632a2d",
   "metadata": {},
   "outputs": [],
   "source": [
    "params, observations, actions, _ = load_experiment_results(\n",
    "    exp_id=organized_experiment_ids[False][7000][-1],\n",
    "    results_path=\"results/dmpe/RLS\",\n",
    ")\n",
    "\n",
    "env, penalty_function = setup_env(params[\"rpm\"])\n",
    "\n",
    "_, state = env.reset(env.env_properties)\n",
    "i_d_normalizer = env.env_properties.physical_normalizations.i_d\n",
    "i_q_normalizer = env.env_properties.physical_normalizations.i_q\n",
    "\n",
    "physical_i_d = i_d_normalizer.denormalize(observations[..., 0])\n",
    "physical_i_q = i_q_normalizer.denormalize(observations[..., 1])\n",
    "\n",
    "print(state.physical_state.omega_el)\n",
    "\n",
    "plot_constraints_induced_voltage(\n",
    "    env,\n",
    "    physical_i_d,\n",
    "    physical_i_q,\n",
    "    w_el=state.physical_state.omega_el,\n",
    "    saturated=True,\n",
    "    show_torque=False\n",
    ")"
   ]
  },
  {
   "cell_type": "code",
   "execution_count": null,
   "id": "583c31d1-d56c-4885-835a-667de7c36b2c",
   "metadata": {},
   "outputs": [],
   "source": [
    "path = \"results/dmpe/NODE\"\n",
    "\n",
    "organized_experiment_ids = get_organized_experiment_ids(path)[False]\n",
    "\n",
    "for rpm in organized_experiment_ids.keys():\n",
    "    for experiment_id in organized_experiment_ids[rpm]:\n",
    "        print(\"rpm:\", rpm)\n",
    "        print(experiment_id)\n",
    "        params, observations, actions, _ = load_experiment_results(\n",
    "            exp_id=experiment_id,\n",
    "            results_path=path,\n",
    "        )\n",
    "        \n",
    "        env, penalty_function = setup_env(params[\"rpm\"])\n",
    "        \n",
    "        _, state = env.reset(env.env_properties)\n",
    "        i_d_normalizer = env.env_properties.physical_normalizations.i_d\n",
    "        i_q_normalizer = env.env_properties.physical_normalizations.i_q\n",
    "        \n",
    "        physical_i_d = i_d_normalizer.denormalize(observations[..., 0])\n",
    "        physical_i_q = i_q_normalizer.denormalize(observations[..., 1])\n",
    "        \n",
    "        print(state.physical_state.omega_el)\n",
    "        \n",
    "        plot_constraints_induced_voltage(\n",
    "            env,\n",
    "            physical_i_d,\n",
    "            physical_i_q,\n",
    "            w_el=state.physical_state.omega_el,\n",
    "            saturated=True,\n",
    "            show_torque=False\n",
    "        )\n",
    "        plt.show()"
   ]
  },
  {
   "cell_type": "code",
   "execution_count": null,
   "id": "38865f3b-b7b1-4084-ac17-691ac7ee24b5",
   "metadata": {},
   "outputs": [],
   "source": []
  }
 ],
 "metadata": {
  "kernelspec": {
   "display_name": "Python 3 (ipykernel)",
   "language": "python",
   "name": "python3"
  },
  "language_info": {
   "codemirror_mode": {
    "name": "ipython",
    "version": 3
   },
   "file_extension": ".py",
   "mimetype": "text/x-python",
   "name": "python",
   "nbconvert_exporter": "python",
   "pygments_lexer": "ipython3",
   "version": "3.11.11"
  }
 },
 "nbformat": 4,
 "nbformat_minor": 5
}
