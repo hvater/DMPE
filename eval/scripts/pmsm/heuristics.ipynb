{
 "cells": [
  {
   "cell_type": "code",
   "execution_count": null,
   "id": "76de4d71-2a56-4725-9657-cc624015903f",
   "metadata": {},
   "outputs": [],
   "source": [
    "%load_ext autoreload\n",
    "%autoreload 2\n",
    "%reload_ext line_profiler"
   ]
  },
  {
   "cell_type": "code",
   "execution_count": null,
   "id": "050371bc-7fa3-4cc0-bae8-c677b150dd49",
   "metadata": {},
   "outputs": [],
   "source": [
    "import pathlib\n",
    "\n",
    "import time\n",
    "from functools import partial\n",
    "import os\n",
    "os.environ['CUDA_VISIBLE_DEVICES'] = '1'\n",
    "os.environ[\"XLA_PYTHON_CLIENT_PREALLOCATE\"]=\"false\"\n",
    "\n",
    "from tqdm.notebook import tqdm\n",
    "import pickle\n",
    "import json\n",
    "import numpy as np\n",
    "import matplotlib.pyplot as plt\n",
    "import matplotlib as mpl\n",
    "from matplotlib import rc\n",
    "\n",
    "import jax\n",
    "import jax.numpy as jnp\n",
    "import jax_dataclasses as jdc\n",
    "from jax.tree_util import tree_flatten, tree_unflatten\n",
    "\n",
    "gpus = jax.devices()\n",
    "jax.config.update(\"jax_default_device\", gpus[0])\n",
    "\n",
    "import diffrax"
   ]
  },
  {
   "cell_type": "code",
   "execution_count": null,
   "id": "c76716f2-6c7f-4434-aca2-351628027314",
   "metadata": {},
   "outputs": [],
   "source": [
    "import dmpe\n",
    "\n",
    "from dmpe.evaluation.experiment_utils import (\n",
    "    load_experiment_results, get_experiment_ids, get_organized_experiment_ids\n",
    ")\n",
    "from dmpe.evaluation.metrics_utils import default_ae, default_jsd, default_mcudsa, default_ksfc\n",
    "\n",
    "from dmpe.evaluation.plotting_utils import plot_sequence\n",
    "\n",
    "from dmpe.utils.env_utils.pmsm_utils import plot_constraints_induced_voltage\n",
    "from dmpe.utils.density_estimation import build_grid, DensityEstimate\n",
    "\n",
    "from dmpe.algorithms.algorithm_utils import interact_and_observe"
   ]
  },
  {
   "cell_type": "code",
   "execution_count": null,
   "id": "fc049b51-ea74-4229-be69-c1b52cf7cd46",
   "metadata": {},
   "outputs": [],
   "source": [
    "import eval_dmpe\n",
    "from eval_dmpe import setup_env"
   ]
  },
  {
   "cell_type": "markdown",
   "id": "c6c8a9eb-8cb8-4e3c-ade3-0586a725e21a",
   "metadata": {},
   "source": [
    "## random-walk:"
   ]
  },
  {
   "cell_type": "code",
   "execution_count": null,
   "id": "6574a37e-c7fe-42d0-900e-4cb66eebd563",
   "metadata": {},
   "outputs": [],
   "source": [
    "seed = 0\n",
    "rpm = 5000\n",
    "n_time_steps = 15_000\n",
    "\n",
    "env, penalty_function = setup_env(5000)\n",
    "\n",
    "# ---- # \n",
    "\n",
    "obs, state = env.reset(env.env_properties)\n",
    "dim_obs_space = obs.shape[0]\n",
    "dim_action_space = env.action_dim\n",
    "\n",
    "observations = jnp.zeros((n_time_steps, dim_obs_space))\n",
    "observations = observations.at[0].set(obs)\n",
    "actions = jnp.zeros((n_time_steps - 1, dim_action_space))\n",
    "\n",
    "\n",
    "key = jax.random.key(seed)\n",
    "key, action_key = jax.random.split(key)\n",
    "\n",
    "action = jax.random.normal(action_key, shape=(env.action_dim,))"
   ]
  },
  {
   "cell_type": "code",
   "execution_count": null,
   "id": "cf410c47-a20e-4b10-8945-b089caa54faa",
   "metadata": {},
   "outputs": [],
   "source": [
    "for k in range(time_steps):\n",
    "    next_obs, next_state, actions, observations = interact_and_observe(\n",
    "        env=env, k=jnp.array([k]), action=action, state=state, actions=actions, observations=observations\n",
    "    )\n",
    "\n",
    "    key, action_key = jax.random.split(key)\n",
    "    action = action + jax.random.normal(action_key, shape=(env.action_dim,))\n",
    "\n",
    "    state = next_state\n",
    "    obs = next_obs"
   ]
  },
  {
   "cell_type": "code",
   "execution_count": null,
   "id": "e20bc430-89af-44d2-ba8c-cb535e7a213a",
   "metadata": {},
   "outputs": [],
   "source": [
    "plot_sequence(observations, actions, env.tau, env.obs_description[:2], env.action_description)"
   ]
  },
  {
   "cell_type": "markdown",
   "id": "f584b432-ba6c-4877-a903-9377bb7ef6ab",
   "metadata": {},
   "source": [
    "## FOC-PID:"
   ]
  },
  {
   "cell_type": "code",
   "execution_count": null,
   "id": "b9b603aa-70f7-449b-bc82-78dcad665d99",
   "metadata": {},
   "outputs": [],
   "source": [
    "from dmpe.utils.env_utils.foc_pid import ClassicController"
   ]
  },
  {
   "cell_type": "code",
   "execution_count": null,
   "id": "ce39cef5-87ac-48f6-b3cc-a740b0eedf68",
   "metadata": {},
   "outputs": [],
   "source": [
    "def _filter_valid_points(data_points, penalty_function):\n",
    "    \n",
    "    valid_points_bool = jax.vmap(penalty_function, in_axes=0)(data_points) == 0\n",
    "    return data_points[jnp.where(valid_points_bool == True)]\n",
    "\n",
    "filter_valid_points = lambda observations: _filter_valid_points(observations, penalty_function=lambda x: penalty_function(x, None))"
   ]
  },
  {
   "cell_type": "code",
   "execution_count": null,
   "id": "4f728340-bd7f-41f6-8d97-98c53dab873c",
   "metadata": {},
   "outputs": [],
   "source": [
    "@partial(jax.jit, static_argnums=(0, 1))\n",
    "def run_pid_experiment(env, pid, references_norm, init_obs, init_state, init_pid_state):\n",
    "    def body_fun(carry, reference_norm):\n",
    "        obs, state, pid_state = carry\n",
    "    \n",
    "        currents_norm = obs[None]\n",
    "        eps = state.physical_state.epsilon * jnp.ones((1,1))\n",
    "        reference_norm = reference_norm[None, ...]\n",
    "        pid_obs = jnp.concatenate([currents_norm, eps, reference_norm], axis=-1)\n",
    "        \n",
    "        action, next_pid_state = pid(pid_obs, pid_state)\n",
    "    \n",
    "        next_obs, next_state = env.step(state, jnp.squeeze(action), env.env_properties)\n",
    "        return (next_obs, next_state, next_pid_state), jnp.array([jnp.squeeze(obs), jnp.squeeze(action)])\n",
    "\n",
    "    (last_obs, last_state, last_pid_state), data = jax.lax.scan(body_fun, (init_obs, init_state, init_pid_state), references_norm)\n",
    "    observations = data[:, 0, :]\n",
    "    actions = data[:, 1, :]\n",
    "\n",
    "    return observations, actions"
   ]
  },
  {
   "cell_type": "code",
   "execution_count": null,
   "id": "bc4892c6-95ad-47ff-8a9a-5738f2fa6a10",
   "metadata": {
    "scrolled": true
   },
   "outputs": [],
   "source": [
    "results = {}\n",
    "\n",
    "for rpm in [0, 3000, 5000, 7000, 9000]:\n",
    "    print(\"RPM:\", rpm)\n",
    "    \n",
    "    env, penalty_function = setup_env(rpm)\n",
    "    \n",
    "    pid = ClassicController(\n",
    "        motor=env,\n",
    "        saturated=env.env_properties.saturated,\n",
    "        a=4,\n",
    "        decoupling=True,\n",
    "        tau=env.tau\n",
    "    )\n",
    "    \n",
    "    references = build_grid(2, low=-0.9, high=0.9, points_per_dim=10)\n",
    "    references_norm = references[:, None, :].repeat(200, axis=1).reshape(-1, 2)\n",
    "\n",
    "    references_norm = filter_valid_points(references_norm)\n",
    "    references_norm = jnp.concatenate([references_norm[0, :][None].repeat(1000, axis=0), references_norm], axis=0)\n",
    "    \n",
    "    print(\"number_steps:\", references_norm.shape)\n",
    "    \n",
    "    plt.plot(references_norm[:, 0])\n",
    "    plt.plot(references_norm[:, 1])\n",
    "    \n",
    "    plt.show()\n",
    "    \n",
    "    init_obs, init_state = env.reset(env.env_properties)\n",
    "    init_pid_state = pid.reset(1)\n",
    "\n",
    "    start = time.time()\n",
    "    observations, actions = run_pid_experiment(env, pid, references_norm, init_obs, init_state, init_pid_state)\n",
    "    end = time.time()\n",
    "    print(\"computation_time:\", round(end - start, 4), \"s\")\n",
    "    \n",
    "    fig = plot_sequence(observations, actions, env.tau, env.obs_description[:2], env.action_description)\n",
    "    plt.show()\n",
    "\n",
    "\n",
    "    results[rpm] = {\n",
    "        \"obs\": np.array(observations).tolist(),\n",
    "        \"act\": np.array(actions).tolist(),\n",
    "    }\n",
    "    \n",
    "    print(\"------------------------------------------\")\n",
    "    print(\"\\n\")\n"
   ]
  },
  {
   "cell_type": "code",
   "execution_count": null,
   "id": "52bd1ef9-0156-4f44-917f-fa6cd0c091bc",
   "metadata": {
    "scrolled": true
   },
   "outputs": [],
   "source": [
    "results"
   ]
  },
  {
   "cell_type": "code",
   "execution_count": null,
   "id": "19a561df-39f8-4eb9-8df8-23e932618e85",
   "metadata": {},
   "outputs": [],
   "source": [
    "import json\n",
    "import argparse\n",
    "import datetime\n",
    "import os"
   ]
  },
  {
   "cell_type": "code",
   "execution_count": null,
   "id": "2f2b6b87-e2ff-45cd-b293-1ebbb9bd5bbb",
   "metadata": {},
   "outputs": [],
   "source": [
    "# def safe_json_dump(obj, fp):\n",
    "#     default = lambda o: f\"<<non-serializable: {type(o).__qualname__}>>\"\n",
    "#     return json.dump(obj, fp, default=default)\n",
    "\n",
    "# file_name = datetime.datetime.now().strftime(\"%Y-%m-%d_%H:%M:%S\")\n",
    "# with open(f\"./results/heuristics/current_plane_sweep_{file_name}.json\", \"w\") as fp:\n",
    "#     safe_json_dump(results, fp)"
   ]
  },
  {
   "cell_type": "code",
   "execution_count": null,
   "id": "f1733dac-a587-44e4-9d7b-def2c3244f7c",
   "metadata": {},
   "outputs": [],
   "source": []
  }
 ],
 "metadata": {
  "kernelspec": {
   "display_name": "Python 3 (ipykernel)",
   "language": "python",
   "name": "python3"
  },
  "language_info": {
   "codemirror_mode": {
    "name": "ipython",
    "version": 3
   },
   "file_extension": ".py",
   "mimetype": "text/x-python",
   "name": "python",
   "nbconvert_exporter": "python",
   "pygments_lexer": "ipython3",
   "version": "3.11.11"
  }
 },
 "nbformat": 4,
 "nbformat_minor": 5
}
