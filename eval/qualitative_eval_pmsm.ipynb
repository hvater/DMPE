{
 "cells": [
  {
   "cell_type": "code",
   "execution_count": null,
   "id": "deb5d2e0-56b9-4c38-8d5f-1cc183da0352",
   "metadata": {},
   "outputs": [],
   "source": [
    "%load_ext autoreload\n",
    "%autoreload 2\n",
    "%reload_ext line_profiler"
   ]
  },
  {
   "cell_type": "code",
   "execution_count": null,
   "id": "14eec7b6-1118-486d-a894-163df764f01a",
   "metadata": {},
   "outputs": [],
   "source": [
    "import itertools\n",
    "import os\n",
    "os.environ['CUDA_VISIBLE_DEVICES'] = '0'\n",
    "os.environ[\"XLA_PYTHON_CLIENT_PREALLOCATE\"]=\"false\"\n",
    "\n",
    "import pathlib\n",
    "from functools import partial\n",
    "\n",
    "import time\n",
    "from tqdm.notebook import tqdm\n",
    "import numpy as np\n",
    "import matplotlib.pyplot as plt\n",
    "import matplotlib as mpl\n",
    "mpl.rcParams['text.usetex'] = True\n",
    "mpl.rcParams.update({'font.size': 10 * 2.54})\n",
    "mpl.rcParams['text.latex.preamble']=r\"\\usepackage{bm}\\usepackage{amsmath}\"\n",
    "import plotly.express as px\n",
    "import plotly.graph_objects as go"
   ]
  },
  {
   "cell_type": "code",
   "execution_count": null,
   "id": "c5d540ea-ae1d-466b-8935-d4ab2ca33590",
   "metadata": {},
   "outputs": [],
   "source": [
    "import jax.numpy as jnp"
   ]
  },
  {
   "cell_type": "code",
   "execution_count": null,
   "id": "8761eb25-2827-4f4b-9fdc-5798df1f4c53",
   "metadata": {},
   "outputs": [],
   "source": [
    "import exciting_environments as excenvs\n",
    "\n",
    "from dmpe.utils.density_estimation import select_bandwidth\n",
    "from dmpe.utils.signals import aprbs\n",
    "from dmpe.models import NeuralEulerODE\n",
    "from dmpe.algorithms import excite_with_dmpe\n",
    "from dmpe.related_work.algorithms import excite_with_sGOATS\n",
    "from dmpe.utils.density_estimation import DensityEstimate\n",
    "from dmpe.evaluation.experiment_utils import (\n",
    "    get_experiment_ids, load_experiment_results, quick_eval, evaluate_experiment_metrics, evaluate_algorithm_metrics, evaluate_metrics\n",
    ")"
   ]
  },
  {
   "cell_type": "code",
   "execution_count": null,
   "id": "4ee6c5a2-39de-4927-b889-6a23c087dbdd",
   "metadata": {},
   "outputs": [],
   "source": [
    "results_path = pathlib.Path(\"/home/hvater@uni-paderborn.de/projects/forks/DMPE/eval/results/igoats/pmsm/\")\n",
    "\n",
    "identifier = get_experiment_ids(results_path)[-1]\n",
    "params, igoats_observations, igoats_actions, model = load_experiment_results(\n",
    "    exp_id=identifier, results_path=results_path, model_class=None\n",
    ")"
   ]
  },
  {
   "cell_type": "code",
   "execution_count": null,
   "id": "375c1625-6de0-4040-b040-55b7bfe108a8",
   "metadata": {},
   "outputs": [],
   "source": [
    "results_path = pathlib.Path(\"/home/hvater@uni-paderborn.de/projects/forks/DMPE/eval/results/dmpe/pmsm/\")\n",
    "\n",
    "identifier = get_experiment_ids(results_path)[-1]\n",
    "params, dmpe_observations, dmpe_actions, model = load_experiment_results(\n",
    "    exp_id=identifier, results_path=results_path, model_class=None\n",
    ")\n"
   ]
  },
  {
   "cell_type": "code",
   "execution_count": null,
   "id": "9aeedad3-8830-426d-a72d-272f5996ad5a",
   "metadata": {},
   "outputs": [],
   "source": [
    "# what should the qualitative plots look like?"
   ]
  },
  {
   "cell_type": "code",
   "execution_count": null,
   "id": "cacb9359-775b-4c2e-b529-d2423617d01c",
   "metadata": {},
   "outputs": [],
   "source": [
    "tau = 1e-4\n",
    "labels=[r\"$\\tilde{i_d}$\", r\"$\\tilde{i_q}$\", r\"$\\tilde{u_d}$\", r\"$\\tilde{u_q}$\"]\n",
    "\n",
    "full_column_width = 18.2\n",
    "half_colmun_width = 8.89"
   ]
  },
  {
   "cell_type": "code",
   "execution_count": null,
   "id": "4259b2de-4585-407a-82f7-7aa2e0de62e9",
   "metadata": {},
   "outputs": [],
   "source": [
    "igoats_data = jnp.concatenate([igoats_observations, igoats_actions], axis=-1)\n",
    "dmpe_data = jnp.concatenate([dmpe_observations[0:-1], dmpe_actions], axis=-1)\n",
    "\n",
    "all_data = [dmpe_data, igoats_data]\n",
    "algo_names = [\"$\\mathrm{DMPE}$\", \"$\\mathrm{iGOATS}$\"]"
   ]
  },
  {
   "cell_type": "code",
   "execution_count": null,
   "id": "e8a06101-b426-47b8-928a-3722e026c4dd",
   "metadata": {},
   "outputs": [],
   "source": [
    "# def plot_feature_combinations(all_data, labels, algo_names):\n",
    "\n",
    "#     n_features = all_data[0].shape[-1]\n",
    "#     for data in all_data:\n",
    "#         assert data.shape[-1] == n_features\n",
    "\n",
    "#     n_algos = len(all_data)    \n",
    "\n",
    "#     all_combinations = list(itertools.combinations(np.arange(n_features), 2))\n",
    "#     n_combinations = len(all_combinations)\n",
    "    \n",
    "#     # fig, axs = plt.subplots(nrows=n_algos, ncols=n_combinations, figsize=(full_column_width, full_column_width/3), sharex=True)\n",
    "#     fig, axs = plt.subplots(nrows=n_combinations, ncols=n_algos, figsize=(full_column_width/3, full_column_width), sharey=True)\n",
    "    \n",
    "#     for comb_idx, (i, j) in enumerate(all_combinations):      \n",
    "\n",
    "#         density_estimates = []\n",
    "        \n",
    "#         for algo_idx, (algo_name, data) in enumerate(zip(algo_names, all_data)):\n",
    "#             density_estimate = DensityEstimate.from_dataset(\n",
    "#                 jnp.concatenate([data[..., i][..., None], data[..., j][..., None]], axis=-1)[None],\n",
    "#                 points_per_dim=100,\n",
    "#                 bandwidth=0.05,\n",
    "#             )\n",
    "#             density_estimates.append(density_estimate)\n",
    "\n",
    "#         stacked_p = jnp.concatenate([density_estimate.p for density_estimate in density_estimates], axis=0)\n",
    "#         maximum_p_value = jnp.max(stacked_p)\n",
    "#         levels = np.linspace(0, maximum_p_value, 50).round(4)\n",
    "\n",
    "#         print(maximum_p_value)\n",
    "        \n",
    "#         for algo_idx, (algo_name, density_estimate) in enumerate(zip(algo_names, density_estimates)):\n",
    "            \n",
    "#             p_est = density_estimate.p\n",
    "#             x = density_estimate.x_g\n",
    "\n",
    "#             grid_len_per_dim = int(np.sqrt(x.shape[0]))\n",
    "#             x_plot = x.reshape((grid_len_per_dim, grid_len_per_dim, 2))\n",
    "\n",
    "#             cax = axs[comb_idx, algo_idx].contourf(\n",
    "#             #cax = axs[algo_idx, comb_idx].contourf(\n",
    "#                 x_plot[..., 0],\n",
    "#                 x_plot[..., 1],\n",
    "#                 p_est.reshape(x_plot.shape[:-1]),\n",
    "#                 antialiased=False,\n",
    "#                 levels=levels,\n",
    "#                 alpha=1.0,\n",
    "#                 cmap=plt.cm.coolwarm,\n",
    "#             )\n",
    "        \n",
    "#             axs[comb_idx, 0].set_ylabel(labels[j])\n",
    "#             axs[comb_idx, algo_idx].set_xlabel(labels[i])\n",
    "#         #fig.colorbar(cax)\n",
    "#     plt.subplots_adjust(hspace=0.02)\n",
    "    \n",
    "#     plt.tight_layout(pad=0.05)"
   ]
  },
  {
   "cell_type": "code",
   "execution_count": null,
   "id": "0a306013-ca5e-4161-95ac-51c4bf308e4d",
   "metadata": {
    "scrolled": true
   },
   "outputs": [],
   "source": [
    "# fig = plot_feature_combinations(all_data, labels, algo_names)\n",
    "# #mpl.rcParams.update({'figure.autolayout': True})\n",
    "\n",
    "# plt.savefig(\"pmsm_qualitative_comparison.pdf\")"
   ]
  },
  {
   "cell_type": "code",
   "execution_count": null,
   "id": "59e79652-62ef-4f67-822f-cc58f6eb675a",
   "metadata": {},
   "outputs": [],
   "source": [
    "# from dmpe.evaluation.plotting_utils import plot_feature_combinations"
   ]
  },
  {
   "cell_type": "code",
   "execution_count": null,
   "id": "745995fb-7e46-4d23-9b16-fd764cb9fb17",
   "metadata": {},
   "outputs": [],
   "source": [
    "def get_contour_levels(all_data):\n",
    "    n_levels = 50\n",
    "    n_features = all_data[0].shape[-1]\n",
    "    all_levels = np.zeros((n_features, n_features, n_levels)) \n",
    "    \n",
    "    for i in range(n_features):\n",
    "        for j in range(n_features):\n",
    "\n",
    "            density_estimates = []\n",
    "            \n",
    "            for algo_idx, data in enumerate(all_data):\n",
    "                density_estimate = DensityEstimate.from_dataset(\n",
    "                    jnp.concatenate([data[..., i][..., None], data[..., j][..., None]], axis=-1)[None],\n",
    "                    points_per_dim=100,\n",
    "                    bandwidth=0.05,\n",
    "                )\n",
    "                density_estimates.append(density_estimate)\n",
    "    \n",
    "            stacked_p = jnp.concatenate([density_estimate.p for density_estimate in density_estimates], axis=0)\n",
    "            maximum_p_value = jnp.max(stacked_p) + 0.03\n",
    "            all_levels[i, j] =  np.linspace(0, maximum_p_value, 50)\n",
    "\n",
    "    return all_levels"
   ]
  },
  {
   "cell_type": "code",
   "execution_count": null,
   "id": "785b3f52-4177-44ff-98cd-d8fed30fcc2a",
   "metadata": {},
   "outputs": [],
   "source": [
    "all_levels = get_contour_levels([dmpe_data, igoats_data])"
   ]
  },
  {
   "cell_type": "code",
   "execution_count": null,
   "id": "c9299862-dab6-4c45-93be-ca480024a27f",
   "metadata": {},
   "outputs": [],
   "source": [
    "def plot_feature_combinations(data, labels, mode=\"plot\", all_levels=None):\n",
    "    \"\"\"Plot all combinations of the data set.\"\"\"\n",
    "    assert data.shape[-1] == len(labels)\n",
    "    assert data.ndim == 2\n",
    "\n",
    "    n_features = data.shape[-1]\n",
    "\n",
    "    fig, axs = plt.subplots(nrows=n_features, ncols=n_features, figsize=(half_colmun_width, half_colmun_width), sharex=True, sharey=True)\n",
    "    \n",
    "    for i in range(n_features):\n",
    "        for j in range(n_features):\n",
    "            if mode == \"plot\":\n",
    "                axs[j, i].scatter(data[..., i], data[..., j], s=0.1)\n",
    "            elif mode == \"contourf\":\n",
    "                density_estimate = DensityEstimate.from_dataset(\n",
    "                    jnp.concatenate([data[..., i][..., None], data[..., j][..., None]], axis=-1)[None],\n",
    "                    points_per_dim=100,\n",
    "                    bandwidth=0.05,\n",
    "                )\n",
    "\n",
    "                p_est = density_estimate.p\n",
    "                x = density_estimate.x_g                \n",
    "                grid_len_per_dim = int(np.sqrt(x.shape[0]))\n",
    "                x_plot = np.array(x.reshape((grid_len_per_dim, grid_len_per_dim, 2)))\n",
    "                cax = axs[j, i].contourf(\n",
    "                    x_plot[..., 0],\n",
    "                    x_plot[..., 1],\n",
    "                    p_est.reshape(x_plot.shape[:-1]),\n",
    "                    antialiased=False,\n",
    "                    levels=50 if all_levels is None else all_levels[i, j, :],\n",
    "                    alpha=0.9,\n",
    "                    cmap=plt.cm.coolwarm,\n",
    "                )\n",
    "\n",
    "            axs[j, 0].set_ylabel(labels[j])\n",
    "\n",
    "            axs[j, i].grid(True)\n",
    "            axs[j, i].set_xlim(-1.02, 1.02)\n",
    "            axs[j, i].set_ylim(-1.02, 1.02)                \n",
    "        \n",
    "        axs[-1, i].set_xlabel(labels[i])\n",
    "    fig.tight_layout(pad=0.01)\n",
    "\n",
    "    return fig"
   ]
  },
  {
   "cell_type": "code",
   "execution_count": null,
   "id": "2339225c-a1fb-4e73-9715-aaf62ddc8618",
   "metadata": {},
   "outputs": [],
   "source": [
    "fig = plot_feature_combinations(\n",
    "    dmpe_data,\n",
    "    labels=[\"$\\\\tilde{i}_d$\", \"$\\\\tilde{i}_q$\", \"$\\\\tilde{v}_d$\", \"$\\\\tilde{v}_q$\"],\n",
    "    mode=\"contourf\",\n",
    "    all_levels = None #get_contour_levels([dmpe_data, igoats_data])\n",
    ");\n",
    "plt.savefig(\"results/qualitative/pmsm_dmpe_qualitative.pdf\")\n",
    "# plt.savefig(\"results/qualitative/pmsm_dmpe_qualitative.png\", dpi=200)"
   ]
  },
  {
   "cell_type": "code",
   "execution_count": null,
   "id": "be53eb56-032d-45b8-9cd1-ea910417f1a5",
   "metadata": {},
   "outputs": [],
   "source": [
    "import dmpe"
   ]
  },
  {
   "cell_type": "code",
   "execution_count": null,
   "id": "d14a9b8d-500a-4c50-952d-6ebea78770dd",
   "metadata": {},
   "outputs": [],
   "source": [
    "dmpe.utils.density_estimation.select_bandwidth(\n",
    "    delta_x=2,\n",
    "    dim=4,\n",
    "    n_g=100,\n",
    "    percentage=0.5,\n",
    ")"
   ]
  },
  {
   "cell_type": "code",
   "execution_count": null,
   "id": "6075287b-8a6f-4cd3-8526-7cf589886c75",
   "metadata": {},
   "outputs": [],
   "source": [
    "fig = plot_feature_combinations(\n",
    "    igoats_data,\n",
    "    labels=[\"$\\\\tilde{i}_d$\", \"$\\\\tilde{i}_q$\", \"$\\\\tilde{v}_d$\", \"$\\\\tilde{v}_q$\"],\n",
    "    mode=\"contourf\",\n",
    "    all_levels = get_contour_levels([dmpe_data, igoats_data])\n",
    ");\n",
    "plt.savefig(\"results/qualitative/pmsm_dmpe_qualitative.pdf\")\n",
    "# plt.savefig(\"results/qualitative/pmsm_igoats_qualitative.png\", dpi=200)"
   ]
  },
  {
   "cell_type": "code",
   "execution_count": null,
   "id": "fc750e4e-50a8-46e0-8bfe-eadac04c7c87",
   "metadata": {},
   "outputs": [],
   "source": []
  }
 ],
 "metadata": {
  "kernelspec": {
   "display_name": "Python 3 (ipykernel)",
   "language": "python",
   "name": "python3"
  },
  "language_info": {
   "codemirror_mode": {
    "name": "ipython",
    "version": 3
   },
   "file_extension": ".py",
   "mimetype": "text/x-python",
   "name": "python",
   "nbconvert_exporter": "python",
   "pygments_lexer": "ipython3",
   "version": "3.11.9"
  }
 },
 "nbformat": 4,
 "nbformat_minor": 5
}
