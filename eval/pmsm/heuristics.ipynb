{
 "cells": [
  {
   "cell_type": "code",
   "execution_count": null,
   "id": "76de4d71-2a56-4725-9657-cc624015903f",
   "metadata": {},
   "outputs": [],
   "source": [
    "%load_ext autoreload\n",
    "%autoreload 2\n",
    "%reload_ext line_profiler"
   ]
  },
  {
   "cell_type": "code",
   "execution_count": null,
   "id": "050371bc-7fa3-4cc0-bae8-c677b150dd49",
   "metadata": {},
   "outputs": [],
   "source": [
    "import pathlib\n",
    "\n",
    "import time\n",
    "from functools import partial\n",
    "import os\n",
    "os.environ['CUDA_VISIBLE_DEVICES'] = '1'\n",
    "os.environ[\"XLA_PYTHON_CLIENT_PREALLOCATE\"]=\"false\"\n",
    "\n",
    "from tqdm.notebook import tqdm\n",
    "import pickle\n",
    "import json\n",
    "import numpy as np\n",
    "import matplotlib.pyplot as plt\n",
    "import matplotlib as mpl\n",
    "from matplotlib import rc\n",
    "\n",
    "import jax\n",
    "import jax.numpy as jnp\n",
    "import jax_dataclasses as jdc\n",
    "from jax.tree_util import tree_flatten, tree_unflatten\n",
    "\n",
    "gpus = jax.devices()\n",
    "jax.config.update(\"jax_default_device\", gpus[0])\n",
    "\n",
    "import diffrax"
   ]
  },
  {
   "cell_type": "code",
   "execution_count": null,
   "id": "c76716f2-6c7f-4434-aca2-351628027314",
   "metadata": {},
   "outputs": [],
   "source": [
    "import dmpe\n",
    "\n",
    "from dmpe.evaluation.experiment_utils import (\n",
    "    load_experiment_results, get_experiment_ids, get_organized_experiment_ids\n",
    ")\n",
    "from dmpe.evaluation.metrics_utils import default_ae, default_jsd, default_mcudsa, default_ksfc\n",
    "\n",
    "from dmpe.evaluation.plotting_utils import plot_sequence\n",
    "\n",
    "from dmpe.utils.env_utils.pmsm_utils import plot_constraints_induced_voltage\n",
    "from dmpe.utils.density_estimation import build_grid, DensityEstimate\n",
    "\n",
    "from dmpe.algorithms.algorithm_utils import interact_and_observe"
   ]
  },
  {
   "cell_type": "code",
   "execution_count": null,
   "id": "fc049b51-ea74-4229-be69-c1b52cf7cd46",
   "metadata": {},
   "outputs": [],
   "source": [
    "import eval_dmpe\n",
    "from eval_dmpe import setup_env"
   ]
  },
  {
   "cell_type": "code",
   "execution_count": null,
   "id": "b6f9d45f-7a01-4fb6-8c71-9b62d008a5c2",
   "metadata": {},
   "outputs": [],
   "source": [
    "def _filter_valid_points(data_points, penalty_function):\n",
    "\n",
    "    valid_points_bool = jax.vmap(penalty_function, in_axes=0)(data_points) == 0\n",
    "    return data_points[jnp.where(valid_points_bool == True)]\n",
    "\n",
    "filter_valid_points = lambda observations: _filter_valid_points(observations, penalty_function=lambda x: penalty_function(x, None))"
   ]
  },
  {
   "cell_type": "markdown",
   "id": "c6c8a9eb-8cb8-4e3c-ade3-0586a725e21a",
   "metadata": {},
   "source": [
    "## random-walk:"
   ]
  },
  {
   "cell_type": "code",
   "execution_count": null,
   "id": "6574a37e-c7fe-42d0-900e-4cb66eebd563",
   "metadata": {},
   "outputs": [],
   "source": [
    "seed = 0\n",
    "rpm = 3000\n",
    "n_time_steps = 15_000\n",
    "n_tries = 4000\n",
    "\n",
    "env, penalty_function = setup_env(rpm)\n",
    "\n",
    "# ---- # \n",
    "\n",
    "obs, state = env.reset(env.env_properties)\n",
    "dim_obs_space = obs.shape[0]\n",
    "dim_action_space = env.action_dim\n",
    "\n",
    "observations = jnp.zeros((n_time_steps, dim_obs_space))\n",
    "observations = observations.at[0].set(obs)\n",
    "actions = jnp.zeros((n_time_steps - 1, dim_action_space))\n",
    "\n",
    "\n",
    "key = jax.random.key(seed)\n",
    "key, action_key = jax.random.split(key)\n",
    "\n",
    "action = jax.random.normal(action_key, shape=(env.action_dim,))"
   ]
  },
  {
   "cell_type": "code",
   "execution_count": null,
   "id": "c4a39874-c9a6-4ebf-bb80-d81eaf039911",
   "metadata": {},
   "outputs": [],
   "source": [
    "# @partial(jax.jit, static_argnums=(0,))\n",
    "# def choose_action(env, proposed_actions, state, choice_key):\n",
    "#     test_obs, test_state = jax.vmap(env.step, in_axes=(None, 0, None))(state, proposed_actions, env.env_properties)    \n",
    "#     valid_points_bool = jax.vmap(penalty_function, in_axes=(0, 0))(test_obs, proposed_actions) == 0\n",
    "#     prob_points = valid_points_bool.astype(jnp.float32) / jnp.sum(valid_points_bool)\n",
    "#     return jax.random.choice(choice_key, proposed_actions, p=prob_points, axis=0)"
   ]
  },
  {
   "cell_type": "code",
   "execution_count": null,
   "id": "2d432708-e41e-412a-a9b1-da2c59334ebc",
   "metadata": {},
   "outputs": [],
   "source": [
    "@partial(jax.jit, static_argnums=(0, 1))\n",
    "def choose_action(env, penalty_function, proposed_actions, state, choice_key):\n",
    "    \"\"\"Choose randomly among the proposed actions that keep the system within bounds for the next step.\n",
    "    If none of the inputs keep the systems in bounds, apply the one that causes the least penalty.\n",
    "    \n",
    "    This is a heursitic implmentation that uses an oracle to ensure compliance with the bounds, but chooses\n",
    "    mostly randomly among the actions.\n",
    "    \"\"\"\n",
    "    test_obs, test_state = jax.vmap(env.step, in_axes=(None, 0, None))(state, proposed_actions, env.env_properties)\n",
    "\n",
    "    penalty_values = jax.vmap(penalty_function, in_axes=(0, 0))(test_obs, proposed_actions)\n",
    "\n",
    "    def true_fun(key, data_array, penalty_values):\n",
    "        \"\"\"There are not options that keep the system within bounds. Apply the one with the least penalty.\"\"\"\n",
    "        idx_min_penalty = jnp.argmin(penalty_values)\n",
    "        return data_array[idx_min_penalty]\n",
    "\n",
    "    def false_fun(key, data_array, penalty_values):\n",
    "        \"\"\"There are actions that keep the system within bounds. Choose one randomly.\"\"\"\n",
    "        valid_points_bool = penalty_values == 0\n",
    "        prob_points = valid_points_bool.astype(jnp.float32) / jnp.sum(valid_points_bool)\n",
    "        return jax.random.choice(choice_key, proposed_actions, p=prob_points, axis=0)\n",
    "       \n",
    "    return jax.lax.cond(jnp.all(penalty_values != 0), true_fun, false_fun, *(choice_key, proposed_actions, penalty_values))"
   ]
  },
  {
   "cell_type": "code",
   "execution_count": null,
   "id": "cf410c47-a20e-4b10-8945-b089caa54faa",
   "metadata": {},
   "outputs": [],
   "source": [
    "for k in tqdm(range(n_time_steps)):\n",
    "\n",
    "    key, action_key, choice_key = jax.random.split(key, 3)\n",
    "    proposed_actions = action + jax.random.normal(action_key, shape=(n_tries, env.action_dim,))\n",
    "\n",
    "    action = choose_action(env, penalty_function, proposed_actions, state, choice_key)\n",
    "    \n",
    "    next_obs, next_state, actions, observations = interact_and_observe(\n",
    "        env=env, k=jnp.array([k]), action=action, state=state, actions=actions, observations=observations\n",
    "    )\n",
    "\n",
    "    state = next_state\n",
    "    obs = next_obs\n",
    "\n",
    "    if k % 5000 == 0 and k > 0:\n",
    "        fig = plot_sequence(observations[:k], actions[:k], env.tau, env.obs_description[:2], env.action_description)\n",
    "        plt.show()"
   ]
  },
  {
   "cell_type": "code",
   "execution_count": null,
   "id": "b301d463-6b7b-4371-b09a-28906995c641",
   "metadata": {},
   "outputs": [],
   "source": [
    "plot_sequence(observations, actions, env.tau, env.obs_description[:2], env.action_description)"
   ]
  },
  {
   "cell_type": "code",
   "execution_count": null,
   "id": "5a29dd51-67c8-4da4-8ab2-6b8659e61960",
   "metadata": {},
   "outputs": [],
   "source": [
    "import json\n",
    "import argparse\n",
    "import datetime\n",
    "import os"
   ]
  },
  {
   "cell_type": "code",
   "execution_count": null,
   "id": "0a0e43d6-78c6-451d-adaf-33ee247f31dd",
   "metadata": {},
   "outputs": [],
   "source": [
    "results = {\"observations\": observations.tolist(), \"actions\": actions.tolist()}\n",
    "results\n",
    "\n",
    "def safe_json_dump(obj, fp):\n",
    "    default = lambda o: f\"<<non-serializable: {type(o).__qualname__}>>\"\n",
    "    return json.dump(obj, fp, default=default)\n",
    "\n",
    "file_name = datetime.datetime.now().strftime(\"%Y-%m-%d_%H:%M:%S\")\n",
    "with open(f\"./results/heuristics/random_walk/random_walk_rpm_{rpm}_{file_name}.json\", \"w\") as fp:\n",
    "    safe_json_dump(results, fp)"
   ]
  },
  {
   "cell_type": "code",
   "execution_count": null,
   "id": "b9011a38-5a82-4f69-86d9-11a2fd7f2896",
   "metadata": {},
   "outputs": [],
   "source": []
  },
  {
   "cell_type": "markdown",
   "id": "f584b432-ba6c-4877-a903-9377bb7ef6ab",
   "metadata": {},
   "source": [
    "## FOC-PID:"
   ]
  },
  {
   "cell_type": "code",
   "execution_count": null,
   "id": "b9b603aa-70f7-449b-bc82-78dcad665d99",
   "metadata": {},
   "outputs": [],
   "source": [
    "from dmpe.utils.env_utils.foc_pid import ClassicController"
   ]
  },
  {
   "cell_type": "code",
   "execution_count": null,
   "id": "4f728340-bd7f-41f6-8d97-98c53dab873c",
   "metadata": {},
   "outputs": [],
   "source": [
    "@partial(jax.jit, static_argnums=(0, 1))\n",
    "def run_pid_experiment(env, pid, references_norm, init_obs, init_state, init_pid_state):\n",
    "    def body_fun(carry, reference_norm):\n",
    "        obs, state, pid_state = carry\n",
    "    \n",
    "        currents_norm = obs[None]\n",
    "        eps = state.physical_state.epsilon * jnp.ones((1,1))\n",
    "        reference_norm = reference_norm[None, ...]\n",
    "        pid_obs = jnp.concatenate([currents_norm, eps, reference_norm], axis=-1)\n",
    "        \n",
    "        action, next_pid_state = pid(pid_obs, pid_state)\n",
    "    \n",
    "        next_obs, next_state = env.step(state, jnp.squeeze(action), env.env_properties)\n",
    "        return (next_obs, next_state, next_pid_state), jnp.array([jnp.squeeze(obs), jnp.squeeze(action)])\n",
    "\n",
    "    (last_obs, last_state, last_pid_state), data = jax.lax.scan(body_fun, (init_obs, init_state, init_pid_state), references_norm)\n",
    "    observations = data[:, 0, :]\n",
    "    actions = data[:, 1, :]\n",
    "\n",
    "    return observations, actions"
   ]
  },
  {
   "cell_type": "code",
   "execution_count": null,
   "id": "01a54a95-0fcc-4761-bb1e-e89395b591dd",
   "metadata": {},
   "outputs": [],
   "source": [
    "# references = build_grid(2, low=-0.9, high=0.9, points_per_dim=20)\n",
    "# references = jnp.flip(references, axis=1)\n",
    "\n",
    "_, penalty_function = setup_env(0)\n",
    "\n",
    "points_per_dim = 100\n",
    "\n",
    "\n",
    "references = build_grid(2, low=-0.95, high=0.95, points_per_dim=points_per_dim)\n",
    "references = jnp.flip(references, axis=1)\n",
    "references = jnp.flip(references, axis=0)\n",
    "\n",
    "references = references.reshape(points_per_dim, points_per_dim, 2)\n",
    "references = np.array(references)\n",
    "for k in range(points_per_dim):\n",
    "    if k % 2 == 0:\n",
    "        references[k] = np.flip(references[k], axis=0)\n",
    "references = references.reshape(points_per_dim**2, 2)\n",
    "references = references[int(points_per_dim/2):]\n",
    "\n",
    "references = jnp.array(references)\n",
    "\n",
    "references_norm = references[:, None, :].repeat(5, axis=1).reshape(-1, 2)\n",
    "# references_norm = references[:, None, :].repeat(500, axis=1).reshape(-1, 2)\n",
    "\n",
    "references_norm = filter_valid_points(references_norm)\n",
    "references_norm = jnp.concatenate([references_norm[0, :][None].repeat(1000, axis=0), references_norm], axis=0)\n",
    "\n",
    "print(\"number_steps:\", references_norm.shape)\n",
    "\n",
    "plt.plot(references_norm[:, 0], label=\"$i_d$\")\n",
    "plt.legend()\n",
    "plt.show()\n",
    "\n",
    "plt.plot(references_norm[:, 1], label=\"$i_q$\")\n",
    "plt.legend()\n",
    "plt.show()\n",
    "\n",
    "plt.plot(references_norm[:, 0], references_norm[:, 1])\n",
    "plt.xlabel(\"$i_d$\")\n",
    "plt.ylabel(\"$i_q$\")\n",
    "plt.show()"
   ]
  },
  {
   "cell_type": "code",
   "execution_count": null,
   "id": "6e6b6135-49bd-44cf-8075-d879fa60631f",
   "metadata": {},
   "outputs": [],
   "source": [
    "# references = build_grid(2, low=-0.9, high=0.9, points_per_dim=20)\n",
    "# references_norm = references[:, None, :].repeat(100, axis=1).reshape(-1, 2)\n",
    "\n",
    "# references_norm = filter_valid_points(references_norm)\n",
    "# references_norm = jnp.concatenate([references_norm[0, :][None].repeat(1000, axis=0), references_norm], axis=0)\n",
    "\n",
    "# print(\"number_steps:\", references_norm.shape)\n",
    "\n",
    "# plt.plot(references_norm[:, 0])\n",
    "# plt.plot(references_norm[:, 1])\n",
    "\n",
    "# plt.show()"
   ]
  },
  {
   "cell_type": "code",
   "execution_count": null,
   "id": "3e16c9e0-6690-432f-8167-c7717e529668",
   "metadata": {},
   "outputs": [],
   "source": [
    "def induced_voltage_constr(x_g, env, w):\n",
    "    p = env.env_properties.static_params.p\n",
    "    r_s = env.env_properties.static_params.r_s\n",
    "    psi_p = env.env_properties.static_params.psi_p\n",
    "\n",
    "    i_d_normalizer = env.env_properties.physical_normalizations.i_d\n",
    "    i_q_normalizer = env.env_properties.physical_normalizations.i_q\n",
    "    physical_i_d = i_d_normalizer.denormalize(x_g[0])\n",
    "    physical_i_q = i_q_normalizer.denormalize(x_g[1])\n",
    "    \n",
    "    psid = env.LUT_interpolators['Psi_d'](jnp.array([physical_i_d, physical_i_q]))\n",
    "    psiq = env.LUT_interpolators['Psi_q'](jnp.array([physical_i_d, physical_i_q]))\n",
    "\n",
    "    ud = r_s * physical_i_d - w * psiq\n",
    "    uq = r_s * physical_i_q + w * psid\n",
    "\n",
    "    u = jnp.sqrt(ud**2 + uq**2)\n",
    "\n",
    "    return jnp.squeeze(jax.nn.relu(u - 400 / jnp.sqrt(3)))\n",
    "\n",
    "\n",
    "def filter_voltage_constraints(env, rpm, references):\n",
    "    \n",
    "    penalty_values = jax.vmap(induced_voltage_constr, in_axes=(0, None, None))(\n",
    "        references, env, rpm * env.env_properties.static_params.p * 2 * jnp.pi / 60\n",
    "    )\n",
    "\n",
    "    valid_points = penalty_values == 0\n",
    "    filtered_references = references[jnp.where(valid_points == True)]\n",
    "    \n",
    "    return filtered_references"
   ]
  },
  {
   "cell_type": "code",
   "execution_count": null,
   "id": "bc4892c6-95ad-47ff-8a9a-5738f2fa6a10",
   "metadata": {},
   "outputs": [],
   "source": [
    "results = {}\n",
    "\n",
    "for rpm in [0, 3000, 5000, 7000, 9000]:\n",
    "    print(\"RPM:\", rpm)\n",
    "    \n",
    "    env, penalty_function = setup_env(rpm)\n",
    "    \n",
    "    pid = ClassicController(\n",
    "        motor=env,\n",
    "        rpm=rpm,\n",
    "        saturated=env.env_properties.saturated,\n",
    "        a=4,\n",
    "        decoupling=True,\n",
    "        tau=env.tau\n",
    "    )\n",
    "    \n",
    "    references_filtered_for_voltage_constraints = filter_voltage_constraints(env, rpm, references_norm)\n",
    "    \n",
    "    init_obs, init_state = env.reset(env.env_properties)\n",
    "    init_pid_state = pid.reset(1)\n",
    "\n",
    "    start = time.time()\n",
    "    observations, actions = run_pid_experiment(env, pid, references_filtered_for_voltage_constraints, init_obs, init_state, init_pid_state)\n",
    "    end = time.time()\n",
    "    print(\"computation_time:\", round(end - start, 4), \"s\")\n",
    "    \n",
    "    fig, axs = plot_sequence(observations, actions, env.tau, env.obs_description[:2], env.action_description)\n",
    "\n",
    "    axs[1].scatter(references_filtered_for_voltage_constraints[:, 0], references_filtered_for_voltage_constraints[:, 1], s=1)\n",
    "    \n",
    "    plt.show()\n",
    "\n",
    "\n",
    "    results[rpm] = {\n",
    "        \"obs\": np.array(observations).tolist(),\n",
    "        \"act\": np.array(actions).tolist(),\n",
    "    }\n",
    "    \n",
    "    print(\"------------------------------------------\")\n",
    "    print(\"\\n\")\n"
   ]
  },
  {
   "cell_type": "code",
   "execution_count": null,
   "id": "52bd1ef9-0156-4f44-917f-fa6cd0c091bc",
   "metadata": {
    "scrolled": true
   },
   "outputs": [],
   "source": [
    "results"
   ]
  },
  {
   "cell_type": "markdown",
   "id": "af43b562-10c8-4a1d-b778-6f89363a2941",
   "metadata": {},
   "source": [
    "## load and evaluate:"
   ]
  },
  {
   "cell_type": "code",
   "execution_count": null,
   "id": "19a561df-39f8-4eb9-8df8-23e932618e85",
   "metadata": {},
   "outputs": [],
   "source": [
    "import json\n",
    "import argparse\n",
    "import datetime\n",
    "import os"
   ]
  },
  {
   "cell_type": "code",
   "execution_count": null,
   "id": "2f2b6b87-e2ff-45cd-b293-1ebbb9bd5bbb",
   "metadata": {},
   "outputs": [],
   "source": [
    "def safe_json_dump(obj, fp):\n",
    "    default = lambda o: f\"<<non-serializable: {type(o).__qualname__}>>\"\n",
    "    return json.dump(obj, fp, default=default)\n",
    "\n",
    "file_name = datetime.datetime.now().strftime(\"%Y-%m-%d_%H:%M:%S\")\n",
    "with open(f\"./results/heuristics/current_plane_sweep/current_plane_sweep_{file_name}.json\", \"w\") as fp:\n",
    "    safe_json_dump(results, fp)"
   ]
  },
  {
   "cell_type": "code",
   "execution_count": null,
   "id": "e2cf7054-f1b9-40e3-a7df-90bd864ddbae",
   "metadata": {},
   "outputs": [],
   "source": [
    "from dmpe.evaluation.experiment_utils import get_experiment_ids"
   ]
  },
  {
   "cell_type": "code",
   "execution_count": null,
   "id": "1822670e-2c21-4fc2-9cfc-203f5a33985e",
   "metadata": {},
   "outputs": [],
   "source": [
    "get_experiment_ids(\"./results/heuristics/current_plane_sweep\")"
   ]
  },
  {
   "cell_type": "code",
   "execution_count": null,
   "id": "f1733dac-a587-44e4-9d7b-def2c3244f7c",
   "metadata": {},
   "outputs": [],
   "source": [
    "results_path = \"./results/heuristics/current_plane_sweep\"\n",
    "exp_id = 'current_plane_sweep_2025-03-11_14:59:16'\n",
    "\n",
    "with open(results_path / pathlib.Path(f\"{exp_id}.json\"), \"rb\") as fp:\n",
    "    data = json.load(fp)\n",
    "\n",
    "array_data = {}\n",
    "for rpm in data.keys():\n",
    "    array_data[rpm] = {key: jnp.array(data[rpm][key]) for key in data[rpm].keys()}"
   ]
  },
  {
   "cell_type": "code",
   "execution_count": null,
   "id": "b7ddacbf-9b73-4a93-9e62-69d2bab3532a",
   "metadata": {},
   "outputs": [],
   "source": [
    "for rpm in array_data.keys():\n",
    "    print(\"rpm: \", rpm)\n",
    "    fig, axs = plot_sequence(\n",
    "        array_data[rpm][\"obs\"][500:], array_data[rpm][\"act\"][500:], 1e-4, [r\"$i_\\mathrm{d}$\", r\"$i_\\mathrm{q}$\"], [r\"$u_\\mathrm{d}$\", r\"$u_\\mathrm{q}$\"]\n",
    "    )\n",
    "    plt.show()"
   ]
  },
  {
   "cell_type": "code",
   "execution_count": null,
   "id": "8a78aa8a-bfd9-4f4f-aea8-c7ad2ff22d13",
   "metadata": {},
   "outputs": [],
   "source": []
  }
 ],
 "metadata": {
  "kernelspec": {
   "display_name": "Python 3 (ipykernel)",
   "language": "python",
   "name": "python3"
  },
  "language_info": {
   "codemirror_mode": {
    "name": "ipython",
    "version": 3
   },
   "file_extension": ".py",
   "mimetype": "text/x-python",
   "name": "python",
   "nbconvert_exporter": "python",
   "pygments_lexer": "ipython3",
   "version": "3.11.11"
  }
 },
 "nbformat": 4,
 "nbformat_minor": 5
}
