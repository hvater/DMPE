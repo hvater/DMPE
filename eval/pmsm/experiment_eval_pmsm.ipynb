{
 "cells": [
  {
   "cell_type": "code",
   "execution_count": null,
   "id": "0377437a-51fa-4876-89c8-d727d30895b1",
   "metadata": {},
   "outputs": [],
   "source": [
    "%load_ext autoreload\n",
    "%autoreload 2\n",
    "%reload_ext line_profiler"
   ]
  },
  {
   "cell_type": "code",
   "execution_count": null,
   "id": "e498d6d9-4f54-480d-a191-5ae3cb379c05",
   "metadata": {},
   "outputs": [],
   "source": [
    "import pathlib\n",
    "\n",
    "from functools import partial\n",
    "import os\n",
    "os.environ['CUDA_VISIBLE_DEVICES'] = '1'\n",
    "os.environ[\"XLA_PYTHON_CLIENT_PREALLOCATE\"]=\"false\"\n",
    "\n",
    "import pickle\n",
    "import json\n",
    "import numpy as np\n",
    "import matplotlib.pyplot as plt\n",
    "import matplotlib as mpl\n",
    "from matplotlib import rc\n",
    "\n",
    "import jax\n",
    "import jax.numpy as jnp\n",
    "import jax_dataclasses as jdc\n",
    "from jax.tree_util import tree_flatten, tree_unflatten\n",
    "\n",
    "gpus = jax.devices()\n",
    "jax.config.update(\"jax_default_device\", gpus[0])\n",
    "# jax.config.update(\"jax_enable_x64\", True)\n",
    "import diffrax"
   ]
  },
  {
   "cell_type": "code",
   "execution_count": null,
   "id": "b5d42341-2673-4fc8-af8c-811a6aa09f73",
   "metadata": {},
   "outputs": [],
   "source": [
    "import dmpe\n",
    "from dmpe.evaluation.experiment_utils import load_experiment_results\n",
    "from dmpe.utils.env_utils.pmsm_utils import plot_constraints_induced_voltage\n",
    "from dmpe.utils.density_estimation import build_grid, DensityEstimate\n",
    "\n",
    "import eval_dmpe\n",
    "import eval_goats\n",
    "from eval_dmpe import setup_env\n",
    "from dmpe_params import get_RLS_params, get_NODE_params, get_PM_params, get_target_distribution\n",
    "\n",
    "from dmpe.evaluation.experiment_utils import get_experiment_ids, get_organized_experiment_ids"
   ]
  },
  {
   "cell_type": "markdown",
   "id": "39cc1c4d-2199-43d1-9daa-60c529492b50",
   "metadata": {},
   "source": [
    "# Overview:\n",
    "\n",
    "- plots the $i_\\mathrm{dq}$ data for all generated results"
   ]
  },
  {
   "cell_type": "code",
   "execution_count": null,
   "id": "e8c9505c-c139-45f1-96c4-0fd4305377a4",
   "metadata": {},
   "outputs": [],
   "source": [
    "def plot_results(full_results_path):\n",
    "\n",
    "    num_plots = 0\n",
    "    try:\n",
    "        organized_experiment_ids = get_organized_experiment_ids(full_results_path)[True]\n",
    "    except KeyError:\n",
    "        print(\"No fitting results found at the specified location.\")\n",
    "        return\n",
    "    \n",
    "    for rpm in organized_experiment_ids.keys():\n",
    "        if rpm not in [0, 3000, 5000, 7000, 9000]:\n",
    "            continue\n",
    "        \n",
    "        for file_name in organized_experiment_ids[rpm]:\n",
    "            params, observations, actions, _ = load_experiment_results(\n",
    "                exp_id=file_name,\n",
    "                results_path=full_results_path,\n",
    "            )\n",
    "    \n",
    "            env, penalty_function = setup_env(params[\"rpm\"])\n",
    "    \n",
    "            _, state = env.reset(env.env_properties)\n",
    "            i_d_normalizer = env.env_properties.physical_normalizations.i_d\n",
    "            i_q_normalizer = env.env_properties.physical_normalizations.i_q\n",
    "            \n",
    "            physical_i_d = i_d_normalizer.denormalize(observations[..., 0])\n",
    "            physical_i_q = i_q_normalizer.denormalize(observations[..., 1])\n",
    "            \n",
    "            print(state.physical_state.omega_el)\n",
    "            \n",
    "            plot_constraints_induced_voltage(\n",
    "                env,\n",
    "                physical_i_d,\n",
    "                physical_i_q,\n",
    "                w_el=state.physical_state.omega_el,\n",
    "                saturated=True,\n",
    "                show_torque=False\n",
    "            )\n",
    "            plt.show()\n",
    "            num_plots += 1\n",
    "\n",
    "    print(\"number of results:\", num_plots)"
   ]
  },
  {
   "cell_type": "markdown",
   "id": "b6292ed6-a9b4-4712-a3d8-0a113e4ac10a",
   "metadata": {},
   "source": [
    "## NODE-DMPE"
   ]
  },
  {
   "cell_type": "code",
   "execution_count": null,
   "id": "1227de34-e49f-43c3-a25a-e22d92b93829",
   "metadata": {},
   "outputs": [],
   "source": [
    "full_results_path = \"/home/hvater@uni-paderborn.de/projects/forks/DMPE/eval/pmsm/results/dmpe/NODE\"\n",
    "plot_results(full_results_path)"
   ]
  },
  {
   "cell_type": "markdown",
   "id": "336dc5fb-090a-447b-8b44-2091421552d7",
   "metadata": {
    "jp-MarkdownHeadingCollapsed": true
   },
   "source": [
    "## RLS-DMPE"
   ]
  },
  {
   "cell_type": "code",
   "execution_count": null,
   "id": "3c14b1e6-386b-4f84-be8f-a7d3ecf25fef",
   "metadata": {
    "scrolled": true
   },
   "outputs": [],
   "source": [
    "full_results_path = \"/home/hvater@uni-paderborn.de/projects/forks/DMPE/eval/pmsm/results/dmpe/RLS\"\n",
    "plot_results(full_results_path)"
   ]
  },
  {
   "cell_type": "markdown",
   "id": "2b006a6b-8038-4644-8cbb-31b8aa96bda3",
   "metadata": {
    "jp-MarkdownHeadingCollapsed": true
   },
   "source": [
    "## PM-DMPE:"
   ]
  },
  {
   "cell_type": "code",
   "execution_count": null,
   "id": "619c52d5-6282-4664-b3c0-62b811290803",
   "metadata": {},
   "outputs": [],
   "source": [
    "full_results_path = \"/home/hvater@uni-paderborn.de/projects/forks/DMPE/eval/pmsm/results/dmpe/PM\"\n",
    "plot_results(full_results_path)"
   ]
  },
  {
   "cell_type": "markdown",
   "id": "352fa43d-8470-4f7f-a941-cc43c6ee8bc3",
   "metadata": {
    "jp-MarkdownHeadingCollapsed": true
   },
   "source": [
    "## iGOATS"
   ]
  },
  {
   "cell_type": "code",
   "execution_count": null,
   "id": "f5eb877a-8231-4b46-8ab3-12cf0613d176",
   "metadata": {},
   "outputs": [],
   "source": [
    "full_results_path = \"/home/hvater@uni-paderborn.de/projects/forks/DMPE/eval/pmsm/results/igoats\"\n",
    "plot_results(full_results_path)"
   ]
  },
  {
   "cell_type": "markdown",
   "id": "06997b94-d0c0-4d28-9650-7ff9342e35e6",
   "metadata": {},
   "source": [
    "## heuristics:"
   ]
  },
  {
   "cell_type": "markdown",
   "id": "12a18750-2961-4561-85b8-b717160efc1f",
   "metadata": {},
   "source": [
    "### current_plane_sweep:"
   ]
  },
  {
   "cell_type": "code",
   "execution_count": null,
   "id": "683f8e7e-8e3f-4ca8-a25f-5619b046d81e",
   "metadata": {
    "scrolled": true
   },
   "outputs": [],
   "source": [
    "results_path = \"/home/hvater@uni-paderborn.de/projects/forks/DMPE/eval/pmsm/results/heuristics/current_plane_sweep\"\n",
    "experiment_ids = get_experiment_ids(results_path)\n",
    "experiment_ids = [\"data_\" + exp_id for exp_id in experiment_ids]\n",
    "\n",
    "for exp_id in experiment_ids:\n",
    "    with open(results_path / pathlib.Path(f\"{exp_id}.json\"), \"rb\") as fp:\n",
    "        data = json.load(fp)\n",
    "\n",
    "    observations = jnp.array(data[\"observations\"])\n",
    "    actions = jnp.array(data[\"actions\"])\n",
    "    \n",
    "    rpm = int(exp_id.split(\"_\")[2])\n",
    "\n",
    "    env, penalty_function = setup_env(rpm)\n",
    "    \n",
    "    _, state = env.reset(env.env_properties)\n",
    "    i_d_normalizer = env.env_properties.physical_normalizations.i_d\n",
    "    i_q_normalizer = env.env_properties.physical_normalizations.i_q\n",
    "    \n",
    "    physical_i_d = i_d_normalizer.denormalize(observations[..., 0])\n",
    "    physical_i_q = i_q_normalizer.denormalize(observations[..., 1])\n",
    "    \n",
    "    print(state.physical_state.omega_el)\n",
    "\n",
    "    print(observations.shape[0])\n",
    "    \n",
    "    plot_constraints_induced_voltage(\n",
    "        env,\n",
    "        physical_i_d,\n",
    "        physical_i_q,\n",
    "        w_el=state.physical_state.omega_el,\n",
    "        saturated=True,\n",
    "        show_torque=False\n",
    "    )\n",
    "    plt.show()\n",
    "    "
   ]
  },
  {
   "cell_type": "markdown",
   "id": "a2020c96-b385-4301-9b0c-a9a06248ec37",
   "metadata": {},
   "source": [
    "### random_walk:"
   ]
  },
  {
   "cell_type": "code",
   "execution_count": null,
   "id": "24dccb03-d08b-4cca-96af-68b323ebb30d",
   "metadata": {
    "scrolled": true
   },
   "outputs": [],
   "source": [
    "results_path = \"/home/hvater@uni-paderborn.de/projects/forks/DMPE/eval/pmsm/results/heuristics/random_walk\"\n",
    "experiment_ids = get_experiment_ids(results_path)\n",
    "experiment_ids = [\"data_\" + exp_id for exp_id in experiment_ids]\n",
    "\n",
    "for exp_id in experiment_ids:\n",
    "    with open(results_path / pathlib.Path(f\"{exp_id}.json\"), \"rb\") as fp:\n",
    "        data = json.load(fp)\n",
    "\n",
    "    observations = jnp.array(data[\"observations\"])\n",
    "    actions = jnp.array(data[\"actions\"])\n",
    "    \n",
    "    rpm = int(exp_id.split(\"_\")[2])\n",
    "\n",
    "    env, penalty_function = setup_env(rpm)\n",
    "    \n",
    "    _, state = env.reset(env.env_properties)\n",
    "    i_d_normalizer = env.env_properties.physical_normalizations.i_d\n",
    "    i_q_normalizer = env.env_properties.physical_normalizations.i_q\n",
    "    \n",
    "    physical_i_d = i_d_normalizer.denormalize(observations[..., 0])\n",
    "    physical_i_q = i_q_normalizer.denormalize(observations[..., 1])\n",
    "    \n",
    "    print(state.physical_state.omega_el)\n",
    "    \n",
    "    plot_constraints_induced_voltage(\n",
    "        env,\n",
    "        physical_i_d,\n",
    "        physical_i_q,\n",
    "        w_el=state.physical_state.omega_el,\n",
    "        saturated=True,\n",
    "        show_torque=False\n",
    "    )\n",
    "    plt.show()\n",
    "    "
   ]
  },
  {
   "cell_type": "markdown",
   "id": "5ef0168d-a822-4935-865e-f190d8b6b9f6",
   "metadata": {},
   "source": [
    "# Detailed:\n",
    "\n",
    "- consideration of feature space distribution:\n",
    "- Gather/select data for qualitative plots"
   ]
  },
  {
   "cell_type": "code",
   "execution_count": null,
   "id": "9d53326e-6871-4368-84cc-0f6b194ce6f5",
   "metadata": {},
   "outputs": [],
   "source": []
  },
  {
   "cell_type": "code",
   "execution_count": null,
   "id": "810270d3-ef8c-4aab-98a4-47498bcc6878",
   "metadata": {},
   "outputs": [],
   "source": []
  }
 ],
 "metadata": {
  "kernelspec": {
   "display_name": "Python 3 (ipykernel)",
   "language": "python",
   "name": "python3"
  },
  "language_info": {
   "codemirror_mode": {
    "name": "ipython",
    "version": 3
   },
   "file_extension": ".py",
   "mimetype": "text/x-python",
   "name": "python",
   "nbconvert_exporter": "python",
   "pygments_lexer": "ipython3",
   "version": "3.11.11"
  }
 },
 "nbformat": 4,
 "nbformat_minor": 5
}
