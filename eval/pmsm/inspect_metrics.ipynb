{
 "cells": [
  {
   "cell_type": "code",
   "execution_count": null,
   "id": "a030dc1a-e00d-4a38-9eb4-1f0ec13340bf",
   "metadata": {},
   "outputs": [],
   "source": [
    "%load_ext autoreload\n",
    "%autoreload 2\n",
    "%reload_ext line_profiler"
   ]
  },
  {
   "cell_type": "code",
   "execution_count": null,
   "id": "c73c9d38-d902-468d-bc2d-0eb333853bdb",
   "metadata": {},
   "outputs": [],
   "source": [
    "import pathlib\n",
    "\n",
    "from functools import partial\n",
    "import os\n",
    "os.environ['CUDA_VISIBLE_DEVICES'] = '1'\n",
    "os.environ[\"XLA_PYTHON_CLIENT_PREALLOCATE\"]=\"false\"\n",
    "\n",
    "import pickle\n",
    "import json\n",
    "import numpy as np\n",
    "import matplotlib.pyplot as plt\n",
    "import matplotlib as mpl\n",
    "from matplotlib import rc\n",
    "\n",
    "import jax\n",
    "import jax.numpy as jnp\n",
    "import jax_dataclasses as jdc\n",
    "from jax.tree_util import tree_flatten, tree_unflatten\n",
    "\n",
    "gpus = jax.devices()\n",
    "jax.config.update(\"jax_default_device\", gpus[0])\n",
    "\n",
    "import diffrax"
   ]
  },
  {
   "cell_type": "code",
   "execution_count": null,
   "id": "9445a085-18fe-4637-9f8d-d36629df0504",
   "metadata": {},
   "outputs": [],
   "source": [
    "import dmpe\n",
    "\n",
    "from dmpe.evaluation.experiment_utils import (\n",
    "    load_experiment_results, get_experiment_ids, get_organized_experiment_ids\n",
    ")\n",
    "from dmpe.evaluation.metrics_utils import default_ae, default_jsd, default_mcudsa, default_ksfc\n",
    "\n",
    "from dmpe.utils.env_utils.pmsm_utils import plot_constraints_induced_voltage\n",
    "from dmpe.utils.density_estimation import build_grid, DensityEstimate"
   ]
  },
  {
   "cell_type": "code",
   "execution_count": null,
   "id": "cf147b82-248b-4c7b-991f-56ed2d3efbdd",
   "metadata": {},
   "outputs": [],
   "source": [
    "import eval_dmpe\n",
    "from eval_dmpe import setup_env"
   ]
  },
  {
   "cell_type": "code",
   "execution_count": null,
   "id": "d4e9a226-2907-462a-9cf8-e714e0586a94",
   "metadata": {
    "scrolled": true
   },
   "outputs": [],
   "source": [
    "full_results_path = \"/home/hvater@uni-paderborn.de/projects/forks/DMPE/eval/pmsm/results/dmpe/NODE\"\n",
    "organized_experiment_ids = get_organized_experiment_ids(full_results_path)\n",
    "organized_experiment_ids"
   ]
  },
  {
   "cell_type": "code",
   "execution_count": null,
   "id": "81de591b-e3e5-48d7-a6b5-dc295da4a58f",
   "metadata": {},
   "outputs": [],
   "source": [
    "full_results_path = \"/home/hvater@uni-paderborn.de/projects/forks/DMPE/eval/pmsm/results/dmpe/NODE\"\n",
    "organized_experiment_ids = get_organized_experiment_ids(full_results_path)\n",
    "\n",
    "params, observations, actions, _ = load_experiment_results(\n",
    "    exp_id=organized_experiment_ids[True][5000][-1],\n",
    "    results_path=full_results_path,\n",
    ")\n",
    "\n",
    "env, penalty_function = setup_env(params[\"rpm\"])\n",
    "\n",
    "_, state = env.reset(env.env_properties)\n",
    "i_d_normalizer = env.env_properties.physical_normalizations.i_d\n",
    "i_q_normalizer = env.env_properties.physical_normalizations.i_q\n",
    "\n",
    "physical_i_d = i_d_normalizer.denormalize(observations[..., 0])\n",
    "physical_i_q = i_q_normalizer.denormalize(observations[..., 1])\n",
    "\n",
    "print(state.physical_state.omega_el)\n",
    "\n",
    "plot_constraints_induced_voltage(\n",
    "    env,\n",
    "    physical_i_d,\n",
    "    physical_i_q,\n",
    "    w_el=state.physical_state.omega_el,\n",
    "    saturated=True,\n",
    "    show_torque=False\n",
    ")"
   ]
  },
  {
   "cell_type": "code",
   "execution_count": null,
   "id": "14a761a4-c554-42de-bbbf-39c915518601",
   "metadata": {},
   "outputs": [],
   "source": [
    "full_results_path = \"/home/hvater@uni-paderborn.de/projects/forks/DMPE/eval/pmsm/results/dmpe/RLS\"\n",
    "organized_experiment_ids = get_organized_experiment_ids(full_results_path)\n",
    "\n",
    "params, observations, actions, _ = load_experiment_results(\n",
    "    exp_id=organized_experiment_ids[True][5000][-1],\n",
    "    results_path=full_results_path,\n",
    ")\n",
    "\n",
    "env, penalty_function = setup_env(params[\"rpm\"])\n",
    "\n",
    "_, state = env.reset(env.env_properties)\n",
    "i_d_normalizer = env.env_properties.physical_normalizations.i_d\n",
    "i_q_normalizer = env.env_properties.physical_normalizations.i_q\n",
    "\n",
    "physical_i_d = i_d_normalizer.denormalize(observations[..., 0])\n",
    "physical_i_q = i_q_normalizer.denormalize(observations[..., 1])\n",
    "\n",
    "print(state.physical_state.omega_el)\n",
    "\n",
    "plot_constraints_induced_voltage(\n",
    "    env,\n",
    "    physical_i_d,\n",
    "    physical_i_q,\n",
    "    w_el=state.physical_state.omega_el,\n",
    "    saturated=True,\n",
    "    show_torque=False\n",
    ")"
   ]
  },
  {
   "cell_type": "code",
   "execution_count": null,
   "id": "7950de70-8943-4886-b186-243dd659455d",
   "metadata": {},
   "outputs": [],
   "source": [
    "def _filter_valid_points(data_points, penalty_function):\n",
    "    \n",
    "    valid_points_bool = jax.vmap(penalty_function, in_axes=0)(data_points) == 0\n",
    "    return data_points[jnp.where(valid_points_bool == True)]\n",
    "\n",
    "filter_valid_points = lambda observations: _filter_valid_points(observations, penalty_function=lambda x: penalty_function(x, None))"
   ]
  },
  {
   "cell_type": "markdown",
   "id": "b0242046-b5a4-4c9f-9093-011d5c6026af",
   "metadata": {},
   "source": [
    "## AE"
   ]
  },
  {
   "cell_type": "code",
   "execution_count": null,
   "id": "52b0bbb4-7fd7-4405-8b4d-a13d42297583",
   "metadata": {},
   "outputs": [],
   "source": [
    "from dmpe.utils.metrics import audze_eglais"
   ]
  },
  {
   "cell_type": "code",
   "execution_count": null,
   "id": "a51a4bdf-413f-49ec-9644-f32bcab9890b",
   "metadata": {},
   "outputs": [],
   "source": [
    "default_ae(observations, actions)"
   ]
  },
  {
   "cell_type": "code",
   "execution_count": null,
   "id": "fd7e712d-7fdd-450a-9268-26d179de9a2b",
   "metadata": {},
   "outputs": [],
   "source": [
    "print(audze_eglais(observations, eps=1e-16))\n",
    "print(audze_eglais(filter_valid_points(observations), eps=1e-16))"
   ]
  },
  {
   "cell_type": "code",
   "execution_count": null,
   "id": "730e693c-bb83-44ad-b148-2b4438498298",
   "metadata": {},
   "outputs": [],
   "source": [
    "full_results_path = \"/home/hvater@uni-paderborn.de/projects/forks/DMPE/eval/pmsm/results/dmpe/NODE\"\n",
    "organized_experiment_ids = get_organized_experiment_ids(full_results_path)\n",
    "\n",
    "params, observations, actions, _ = load_experiment_results(\n",
    "    exp_id=organized_experiment_ids[True][5000][-1],\n",
    "    results_path=full_results_path,\n",
    ")\n",
    "\n",
    "print(audze_eglais(observations, eps=0))\n",
    "print(audze_eglais(observations, eps=1e-16))\n",
    "print(audze_eglais(observations, eps=1e-3))\n",
    "\n",
    "\n",
    "observations_ = jnp.concatenate([observations, observations[-1][None]], axis=0)\n",
    "\n",
    "print(audze_eglais(observations_, eps=0))\n",
    "print(audze_eglais(observations_, eps=1e-16))\n",
    "print(audze_eglais(observations_, eps=1e-3))"
   ]
  },
  {
   "cell_type": "code",
   "execution_count": null,
   "id": "01eedafe-28c9-4a38-922a-f88c65f21e72",
   "metadata": {},
   "outputs": [],
   "source": [
    "full_results_path = \"/home/hvater@uni-paderborn.de/projects/forks/DMPE/eval/pmsm/results/dmpe/RLS\"\n",
    "organized_experiment_ids = get_organized_experiment_ids(full_results_path)\n",
    "\n",
    "params, observations, actions, _ = load_experiment_results(\n",
    "    exp_id=organized_experiment_ids[True][5000][-1],\n",
    "    results_path=full_results_path,\n",
    ")\n",
    "\n",
    "print(audze_eglais(observations, eps=1e-16))\n",
    "print(audze_eglais(observations, eps=1e-3))"
   ]
  },
  {
   "cell_type": "markdown",
   "id": "974ee96d-4f23-4795-84ce-9911db4e3e87",
   "metadata": {},
   "source": [
    "- it is simply a poor metric for data comparison?\n",
    "- it might be a decent optimization metric, I guess?\n",
    "- **I do not see any point in using it in the eval**"
   ]
  },
  {
   "cell_type": "markdown",
   "id": "20268657-dca5-425d-998e-6727fddb960f",
   "metadata": {},
   "source": [
    "## MCUDSA"
   ]
  },
  {
   "cell_type": "code",
   "execution_count": null,
   "id": "e8c191f5-0d6a-4686-b539-db32c996f2f0",
   "metadata": {},
   "outputs": [],
   "source": [
    "from dmpe.utils.metrics import MC_uniform_sampling_distribution_approximation as mcudsa"
   ]
  },
  {
   "cell_type": "code",
   "execution_count": null,
   "id": "693dff1b-4075-4082-bb88-dcb64370e6ca",
   "metadata": {
    "scrolled": true
   },
   "outputs": [],
   "source": [
    "full_results_path = \"/home/hvater@uni-paderborn.de/projects/forks/DMPE/eval/scripts/pmsm/results/dmpe/NODE\"\n",
    "organized_experiment_ids = get_organized_experiment_ids(full_results_path)\n",
    "\n",
    "params, observations, actions, _ = load_experiment_results(\n",
    "    exp_id=organized_experiment_ids[False][5000][-1],\n",
    "    results_path=full_results_path,\n",
    ")\n",
    "\n",
    "print(default_mcudsa(observations, actions, ca=True))\n",
    "\n",
    "for i in range(10, 50):\n",
    "    print(default_mcudsa(observations, actions, points_per_dim=i, ca=False))"
   ]
  },
  {
   "cell_type": "code",
   "execution_count": null,
   "id": "2df3e4d2-8c23-4e4f-8c3e-3666c63924da",
   "metadata": {
    "scrolled": true
   },
   "outputs": [],
   "source": [
    "full_results_path = \"/home/hvater@uni-paderborn.de/projects/forks/DMPE/eval/scripts/pmsm/results/dmpe/RLS\"\n",
    "organized_experiment_ids = get_organized_experiment_ids(full_results_path)\n",
    "\n",
    "params, observations, actions, _ = load_experiment_results(\n",
    "    exp_id=organized_experiment_ids[False][5000][-1],\n",
    "    results_path=full_results_path,\n",
    ")\n",
    "\n",
    "print(default_mcudsa(observations, actions, ca=True))\n",
    "\n",
    "for i in range(10, 50):\n",
    "    print(default_mcudsa(observations, actions, points_per_dim=i, ca=False))"
   ]
  },
  {
   "cell_type": "markdown",
   "id": "585d63fb-5c85-44cc-b6f8-a52a01770837",
   "metadata": {},
   "source": [
    "- seems to actually make a lot of sense"
   ]
  },
  {
   "cell_type": "markdown",
   "id": "dc3d5d6d-f3b4-4da9-beef-239ff82c79f0",
   "metadata": {},
   "source": [
    "## KSFC"
   ]
  },
  {
   "cell_type": "code",
   "execution_count": null,
   "id": "143a205a-cc4c-4de7-9958-4ef13239c346",
   "metadata": {},
   "outputs": [],
   "source": [
    "full_results_path = \"/home/hvater@uni-paderborn.de/projects/forks/DMPE/eval/scripts/pmsm/results/dmpe/NODE\"\n",
    "organized_experiment_ids = get_organized_experiment_ids(full_results_path)\n",
    "\n",
    "params, observations, actions, _ = load_experiment_results(\n",
    "    exp_id=organized_experiment_ids[False][5000][-1],\n",
    "    results_path=full_results_path,\n",
    ")\n",
    "\n",
    "print(default_ksfc(observations, actions, ca=True))\n",
    "print(default_ksfc(observations, actions, ca=False))\n",
    "values = []\n",
    "\n",
    "for i in range(10, 50):\n",
    "    values.append(default_ksfc(observations, actions, points_per_dim=i, variance=0.1, eps=1e-12, ca=False))\n",
    "\n",
    "plt.plot(values)"
   ]
  },
  {
   "cell_type": "code",
   "execution_count": null,
   "id": "80e8f92c-899f-4d41-b85a-de4ba3bef2d5",
   "metadata": {},
   "outputs": [],
   "source": [
    "full_results_path = \"/home/hvater@uni-paderborn.de/projects/forks/DMPE/eval/scripts/pmsm/results/dmpe/RLS\"\n",
    "organized_experiment_ids = get_organized_experiment_ids(full_results_path)\n",
    "\n",
    "params, observations, actions, _ = load_experiment_results(\n",
    "    exp_id=organized_experiment_ids[False][5000][-1],\n",
    "    results_path=full_results_path,\n",
    ")\n",
    "\n",
    "print(default_ksfc(observations, actions, ca=True))\n",
    "print(default_ksfc(observations, actions, ca=False))\n",
    "\n",
    "values = []\n",
    "\n",
    "for i in range(10, 50):\n",
    "    values.append(default_ksfc(observations, actions, points_per_dim=i, variance=0.1, eps=1e-12, ca=False))\n",
    "\n",
    "plt.plot(values)"
   ]
  },
  {
   "cell_type": "code",
   "execution_count": null,
   "id": "daf42282-0439-4b8c-bf02-58f83cea5e6a",
   "metadata": {},
   "outputs": [],
   "source": [
    "from dmpe.utils.density_estimation import gaussian_kernel"
   ]
  },
  {
   "cell_type": "code",
   "execution_count": null,
   "id": "1250b163-08be-49d0-ac47-928df31ee764",
   "metadata": {},
   "outputs": [],
   "source": [
    "h = jnp.array([0.1])\n",
    "x = jnp.linspace(-1, 1, 100)[..., None]\n",
    "\n",
    "y = jnp.exp(-x**2 / (2 * h**2))\n",
    "\n",
    "y_gk = jnp.squeeze(jax.vmap(gaussian_kernel, in_axes=(0, None))(x, h))\n",
    "\n",
    "plt.plot(x, y)\n",
    "plt.plot(x, y_gk)"
   ]
  },
  {
   "cell_type": "markdown",
   "id": "a25eee97-17c6-4bd0-856b-17c60d976dd6",
   "metadata": {},
   "source": [
    "## JSD:\n",
    "\n",
    "- see how it behaves: Where do the large numbers come from?"
   ]
  },
  {
   "cell_type": "code",
   "execution_count": null,
   "id": "a89fc209-b03d-410b-844d-f4e374e3e8f0",
   "metadata": {},
   "outputs": [],
   "source": [
    "from dmpe_params import get_target_distribution"
   ]
  },
  {
   "cell_type": "code",
   "execution_count": null,
   "id": "0be5afb8-4a48-449a-a709-45996a5d51b5",
   "metadata": {},
   "outputs": [],
   "source": [
    "jsd_params = dict(\n",
    "    points_per_dim=22,\n",
    "    dim=4,\n",
    "    grid_extend=1.05,\n",
    "    bandwidth=0.08,\n",
    "    penalty_function=penalty_function\n",
    ")\n",
    "\n",
    "target_distribution = get_target_distribution(\n",
    "    jsd_params[\"points_per_dim\"],\n",
    "    jsd_params[\"bandwidth\"],\n",
    "    jsd_params[\"grid_extend\"],\n",
    "    True,\n",
    "    jsd_params[\"penalty_function\"]\n",
    ")\n",
    "metric = partial(\n",
    "    default_jsd,\n",
    "    points_per_dim=jsd_params[\"points_per_dim\"],\n",
    "    bandwidth=jsd_params[\"bandwidth\"],\n",
    "    target_distribution=target_distribution,\n",
    "    ca=True,\n",
    ")"
   ]
  },
  {
   "cell_type": "code",
   "execution_count": null,
   "id": "010dbbee-9693-477f-880e-ff68f78e82e1",
   "metadata": {},
   "outputs": [],
   "source": [
    "full_results_path = \"/home/hvater@uni-paderborn.de/projects/forks/DMPE/eval/pmsm/results/dmpe/NODE\"\n",
    "organized_experiment_ids = get_organized_experiment_ids(full_results_path)\n",
    "\n",
    "params, observations, actions, _ = load_experiment_results(\n",
    "    exp_id=organized_experiment_ids[True][5000][-1],\n",
    "    results_path=full_results_path,\n",
    ")"
   ]
  },
  {
   "cell_type": "code",
   "execution_count": null,
   "id": "85d0051b-f9b1-46ac-b213-12fd17b138c1",
   "metadata": {},
   "outputs": [],
   "source": [
    "metric(observations, actions)"
   ]
  },
  {
   "cell_type": "code",
   "execution_count": null,
   "id": "f2bc179b-3079-424c-b6dc-0edc81bb5f0b",
   "metadata": {},
   "outputs": [],
   "source": []
  }
 ],
 "metadata": {
  "kernelspec": {
   "display_name": "Python 3 (ipykernel)",
   "language": "python",
   "name": "python3"
  },
  "language_info": {
   "codemirror_mode": {
    "name": "ipython",
    "version": 3
   },
   "file_extension": ".py",
   "mimetype": "text/x-python",
   "name": "python",
   "nbconvert_exporter": "python",
   "pygments_lexer": "ipython3",
   "version": "3.11.11"
  }
 },
 "nbformat": 4,
 "nbformat_minor": 5
}
