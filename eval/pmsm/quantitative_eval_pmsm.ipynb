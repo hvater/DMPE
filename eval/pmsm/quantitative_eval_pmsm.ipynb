{
 "cells": [
  {
   "cell_type": "code",
   "execution_count": null,
   "id": "49b82c6b-5668-448c-87e8-4008506bb530",
   "metadata": {},
   "outputs": [],
   "source": [
    "%load_ext autoreload\n",
    "%autoreload 2\n",
    "%reload_ext line_profiler"
   ]
  },
  {
   "cell_type": "code",
   "execution_count": null,
   "id": "53807c30-0c6f-43c3-8194-7339314b6d12",
   "metadata": {},
   "outputs": [],
   "source": [
    "import pathlib\n",
    "\n",
    "from functools import partial\n",
    "import os\n",
    "os.environ['CUDA_VISIBLE_DEVICES'] = '1'\n",
    "os.environ[\"XLA_PYTHON_CLIENT_PREALLOCATE\"]=\"false\"\n",
    "\n",
    "from copy import deepcopy\n",
    "import pickle\n",
    "import json\n",
    "import numpy as np\n",
    "import matplotlib.pyplot as plt\n",
    "import matplotlib as mpl\n",
    "from matplotlib import rc\n",
    "# rc('font',**{'family':'serif','serif':['Helvetica']})\n",
    "mpl.rcParams['text.usetex'] = True\n",
    "mpl.rcParams.update({'font.size': 10 * 2.54})\n",
    "mpl.rcParams['text.latex.preamble']=r\"\\usepackage{bm}\\usepackage{amsmath}\"\n",
    "\n",
    "import jax\n",
    "import jax.numpy as jnp\n",
    "import jax_dataclasses as jdc\n",
    "from jax.tree_util import tree_flatten, tree_unflatten\n",
    "\n",
    "# jax.config.update('jax_platform_name', 'cpu')\n",
    "\n",
    "# jax.config.update(\"jax_debug_nans\", True)\n",
    "\n",
    "gpus = jax.devices()\n",
    "jax.config.update(\"jax_default_device\", gpus[0])\n",
    "\n",
    "import diffrax"
   ]
  },
  {
   "cell_type": "code",
   "execution_count": null,
   "id": "b4b7f361-a6ec-4a6c-a028-e53d1026c08e",
   "metadata": {},
   "outputs": [],
   "source": [
    "from dmpe.evaluation.experiment_utils import extract_metrics_over_timesteps, extract_metrics_over_timesteps_via_interpolation\n",
    "from dmpe.evaluation.plotting_utils import plot_metrics_by_sequence_length_for_all_algos\n",
    "from dmpe.evaluation.experiment_utils import get_experiment_ids\n",
    "\n",
    "from dmpe.utils.density_estimation import select_bandwidth\n",
    "from dmpe.evaluation.experiment_utils import default_jsd, default_ae, default_mcudsa, default_ksfc"
   ]
  },
  {
   "cell_type": "code",
   "execution_count": null,
   "id": "10b005ae-10f6-4372-b652-b12878a26203",
   "metadata": {},
   "outputs": [],
   "source": [
    "from math import e"
   ]
  },
  {
   "cell_type": "code",
   "execution_count": null,
   "id": "8733549a-5378-42e4-93e8-4572e207b12b",
   "metadata": {},
   "outputs": [],
   "source": [
    "from dmpe.evaluation.experiment_utils import get_organized_experiment_ids\n",
    "from dmpe_params import get_target_distribution\n",
    "from eval_dmpe import setup_env\n",
    "\n",
    "full_results_path = \"/home/hvater@uni-paderborn.de/projects/forks/DMPE/eval/pmsm/results/dmpe/NODE/\"\n",
    "organized_experiment_ids = get_organized_experiment_ids(full_results_path)\n",
    "print(organized_experiment_ids[True][2000.0])"
   ]
  },
  {
   "cell_type": "code",
   "execution_count": null,
   "id": "1d0220a7-ddc6-4de0-82fc-b3184e54c3ab",
   "metadata": {},
   "outputs": [],
   "source": [
    "for rpm in organized_experiment_ids[True]:\n",
    "    print(len(organized_experiment_ids[True][rpm]))"
   ]
  },
  {
   "cell_type": "code",
   "execution_count": null,
   "id": "918d2ac9-040c-4516-a2b8-b3f3277d0595",
   "metadata": {},
   "outputs": [],
   "source": [
    "def extract_results(\n",
    "    lengths,\n",
    "    raw_results_path,\n",
    "    algo_names,\n",
    "    interpolate_to_lengths,\n",
    "    metrics=None,\n",
    "    metric_params=None,\n",
    "    extra_folders=None,\n",
    "    force_consider_actions=False,\n",
    "):\n",
    "\n",
    "    all_results_by_metric = {algo_name: {} for algo_name in algo_names}\n",
    "    \n",
    "    for (algo_name, use_interpolation) in zip(algo_names, interpolate_to_lengths):\n",
    "        full_results_path = raw_results_path / pathlib.Path(algo_name)\n",
    "        full_results_path = full_results_path / pathlib.Path(extra_folders) if extra_folders is not None else full_results_path\n",
    "\n",
    "        print(\"Extract results for\", algo_name, \"\\n at\", full_results_path)\n",
    "\n",
    "        organized_experiment_ids = get_organized_experiment_ids(full_results_path, force_consider_actions=force_consider_actions)\n",
    "\n",
    "        for ca in organized_experiment_ids.keys():\n",
    "\n",
    "\n",
    "            print(\"Momentary experiments consider action distribution:\", ca)\n",
    "\n",
    "            specific_metrics = {}\n",
    "            for metric_name, metric_function in metrics.items():\n",
    "                if metric_name == \"jsd\":\n",
    "                    target_distribution = get_target_distribution(\n",
    "                        metric_params[metric_name][\"points_per_dim\"],\n",
    "                        metric_params[metric_name][\"bandwidth\"],\n",
    "                        metric_params[metric_name][\"grid_extend\"],\n",
    "                        ca,\n",
    "                        metric_params[metric_name][\"penalty_function\"]\n",
    "                    )\n",
    "                    specific_metrics[metric_name] = partial(\n",
    "                        metric_function,\n",
    "                        points_per_dim=metric_params[metric_name][\"points_per_dim\"],\n",
    "                        bandwidth=metric_params[metric_name][\"bandwidth\"],\n",
    "                        target_distribution=target_distribution,\n",
    "                        ca=ca,\n",
    "                    )\n",
    "                elif metric_name == \"mcudsa\" or metric_name == \"kfsc\":\n",
    "                    specific_metrics[metric_name] = partial(\n",
    "                        metric_function, ca=ca, **metric_params[metric_name]\n",
    "                    )\n",
    "                else:\n",
    "                    specific_metrics[metric_name] = metric_function\n",
    "\n",
    "\n",
    "            if ca not in all_results_by_metric[algo_name]:\n",
    "                all_results_by_metric[algo_name][ca] = {}\n",
    "\n",
    "            for rpm in organized_experiment_ids[ca].keys():\n",
    "                print(f\"Momentary experiments run at {int(rpm)} rpm.\")\n",
    "            \n",
    "                if not use_interpolation:\n",
    "                    all_results_by_metric[algo_name][ca][rpm] = extract_metrics_over_timesteps(\n",
    "                        experiment_ids=organized_experiment_ids[ca][rpm],\n",
    "                        results_path=full_results_path,\n",
    "                        lengths=lengths,\n",
    "                        metrics=specific_metrics,\n",
    "                    )\n",
    "                else:\n",
    "                    all_results_by_metric[algo_name][ca][rpm] = extract_metrics_over_timesteps_via_interpolation(\n",
    "                        experiment_ids=organized_experiment_ids[ca][rpm],\n",
    "                        results_path=full_results_path,\n",
    "                        target_lengths=lengths,\n",
    "                        metrics=specific_metrics,\n",
    "                    )\n",
    "                print(\"\\n\")\n",
    "    return all_results_by_metric"
   ]
  },
  {
   "cell_type": "markdown",
   "id": "34129622-89da-40e1-a0da-6095e2417f32",
   "metadata": {},
   "source": [
    "# PMSM:"
   ]
  },
  {
   "cell_type": "code",
   "execution_count": null,
   "id": "d1de0a5a-1651-46bc-959a-43c45bca7acd",
   "metadata": {},
   "outputs": [],
   "source": [
    "full_column_width = 18.2\n",
    "half_column_width = 8.89\n",
    "\n",
    "def plot_metrics_by_sequence_length_for_all_algos(data_per_algo, lengths, algo_names, use_log=False, plot_log=False):\n",
    "    assert len(data_per_algo) == len(algo_names), \"Mismatch in number of algo results and number of algo names\"\n",
    "\n",
    "    metric_keys = list(data_per_algo[0].keys())\n",
    "\n",
    "    metric_keys.remove(\"ae\")\n",
    "\n",
    "\n",
    "\n",
    "    fig, axs = plt.subplots(len(metric_keys), figsize=(full_column_width/3, 8), sharex=True) # figsize=(19, 18)\n",
    "    colors = plt.rcParams[\"axes.prop_cycle\"]()\n",
    "\n",
    "    for algo_name, data in zip(algo_names, data_per_algo):\n",
    "        \n",
    "        c = next(colors)[\"color\"]\n",
    "        if c == '#d62728':\n",
    "            c = next(colors)[\"color\"]\n",
    "        for metric_idx, metric_key in enumerate(metric_keys):\n",
    "            \n",
    "            mean = jnp.nanmean(jnp.log(data[metric_key]), axis=0) if use_log else jnp.nanmean(data[metric_key], axis=0)\n",
    "            std = jnp.nanstd(jnp.log(data[metric_key]), axis=0) if use_log else jnp.nanstd(data[metric_key], axis=0)\n",
    "\n",
    "            axs[metric_idx].plot(\n",
    "                lengths,\n",
    "                mean,  # jnp.log(mean) if use_log else mean,\n",
    "                label=algo_name,\n",
    "                color=c,\n",
    "                #linestyle='dashed' if algo_name==\"$\\mathrm{DMPE}$\" else None,\n",
    "            )\n",
    "            axs[metric_idx].fill_between(\n",
    "                lengths,\n",
    "                mean - std,  # jnp.log(mean - std) if use_log else mean - std,\n",
    "                mean + std,  # jnp.log(mean + std) if use_log else mean + std,\n",
    "                color=c,\n",
    "                alpha=0.1,\n",
    "            )\n",
    "        # axs[metric_idx].set_ylabel((\"log \" if use_log else \"\") + metric_key)\n",
    "\n",
    "    if plot_log:\n",
    "        for ax in axs:\n",
    "            ax.set_yscale('log', base=10)\n",
    "    \n",
    "        #axs[-1].set_yscale('log', base=10) if list(metric_keys)[-1] == \"ksfc\" else None\n",
    "\n",
    "    for idx, metric_key in enumerate(metric_keys):\n",
    "        axs[idx].set_ylabel(f\"$\\mathcal{{L}}_\\mathrm{{{metric_key.upper()}}}$\")\n",
    "    \n",
    "    axs[-1].set_xlabel(\"$k$\")\n",
    "    axs[-1].set_xlim(lengths[0], lengths[-1])\n",
    "    [ax.grid(True, which=\"both\") for ax in axs]\n",
    "    axs[0].legend(prop={'size': 8 * 2.54}, framealpha=0.5)\n",
    "\n",
    "    plt.subplots_adjust(hspace=0.02)\n",
    "    \n",
    "    plt.tight_layout(pad=0.05)\n",
    "\n",
    "    [ax.tick_params(axis=\"y\", direction='in') for ax in axs]\n",
    "    [ax.tick_params(axis=\"x\", direction='in') for ax in axs]\n",
    "    # [ax.yaxis.set_major_locator(plt.MaxNLocator(3)) for ax in axs]\n",
    "\n",
    "    fig.align_ylabels(axs)\n",
    "\n",
    "    return fig"
   ]
  },
  {
   "cell_type": "code",
   "execution_count": null,
   "id": "2c6a3d60-c146-4f18-a6f0-59e0c9192fed",
   "metadata": {},
   "outputs": [],
   "source": [
    "lengths = jnp.linspace(1000, 15000, 15, dtype=jnp.int32)\n",
    "_, penalty_function = setup_env(1000)\n",
    "\n",
    "lengths"
   ]
  },
  {
   "cell_type": "markdown",
   "id": "ccee7653-46bc-4e95-9374-b35cdfae152b",
   "metadata": {
    "jp-MarkdownHeadingCollapsed": true
   },
   "source": [
    "# Extract:"
   ]
  },
  {
   "cell_type": "markdown",
   "id": "52dd8d04-b3f7-4d0e-83f7-d7ccb0f1e82c",
   "metadata": {
    "jp-MarkdownHeadingCollapsed": true
   },
   "source": [
    "## learning DMPE results:"
   ]
  },
  {
   "cell_type": "code",
   "execution_count": null,
   "id": "aee309cb-55dc-44e3-867c-fcecb59fe39a",
   "metadata": {
    "scrolled": true
   },
   "outputs": [],
   "source": [
    "system_name = \"pmsm\"\n",
    "\n",
    "dmpe_pmsm_results_by_metric = extract_results(\n",
    "    lengths=lengths,\n",
    "    raw_results_path=pathlib.Path(\"/home/hvater@uni-paderborn.de/projects/forks/DMPE/eval/pmsm/results/dmpe/\"),\n",
    "    algo_names=[\"NODE\", \"PM\", \"RLS\"],\n",
    "    interpolate_to_lengths=[False, False, False],\n",
    "    extra_folders=None,\n",
    "    metrics={\n",
    "        \"jsd\": default_jsd,\n",
    "        \"ae\": default_ae,\n",
    "        \"mcudsa\": default_mcudsa, # partial(default_mcudsa, points_per_dim=30),\n",
    "        \"ksfc\": default_ksfc, #partial(default_ksfc, points_per_dim=30, variance=0.1, eps=1e-6),\n",
    "    },\n",
    "    metric_params={\n",
    "        \"jsd\": dict(\n",
    "            points_per_dim=22,\n",
    "            dim=4,\n",
    "            grid_extend=1.05,\n",
    "            bandwidth=0.08,\n",
    "            penalty_function=penalty_function\n",
    "        ),\n",
    "        \"ksfc\": dict(points_per_dim=30, variance=0.1, eps=1e-6),\n",
    "        \"mcudsa\": dict(points_per_dim=30),\n",
    "    },   \n",
    ")\n"
   ]
  },
  {
   "cell_type": "code",
   "execution_count": null,
   "id": "fd3a93c4-e77a-4938-b5ef-731c461f49c1",
   "metadata": {},
   "outputs": [],
   "source": [
    "with open(\"results/quantitative_metrics_per_time/dmpe_pmsm_results.pickle\", \"wb\") as handle:\n",
    "    pickle.dump(dmpe_pmsm_results_by_metric, handle, protocol=pickle.HIGHEST_PROTOCOL)"
   ]
  },
  {
   "cell_type": "code",
   "execution_count": null,
   "id": "f7d027fd-a0ff-4cac-90a1-bc415b833754",
   "metadata": {
    "scrolled": true
   },
   "outputs": [],
   "source": [
    "for ca in dmpe_pmsm_results_by_metric[\"RLS\"].keys():\n",
    "    for rpm in dmpe_pmsm_results_by_metric[\"RLS\"][ca].keys():\n",
    "        print(\"Considers_actions:\", ca)\n",
    "        print(\"rpm:\", rpm)\n",
    "        NODE_results = dmpe_pmsm_results_by_metric[\"NODE\"][ca][rpm]\n",
    "        RLS_results = dmpe_pmsm_results_by_metric[\"RLS\"][ca][rpm]\n",
    "        \n",
    "        fig = plot_metrics_by_sequence_length_for_all_algos(\n",
    "            data_per_algo=[NODE_results, RLS_results],\n",
    "            lengths=lengths,\n",
    "            algo_names=[\"$\\mathrm{NODE-DMPE}$\", \"$\\mathrm{RLS-DMPE}$\"],\n",
    "            use_log=False,\n",
    "        );\n",
    "        plt.show()"
   ]
  },
  {
   "cell_type": "markdown",
   "id": "3cf6c162-f296-41bf-8976-78c791a63874",
   "metadata": {
    "jp-MarkdownHeadingCollapsed": true
   },
   "source": [
    "## PM-DMPE:"
   ]
  },
  {
   "cell_type": "code",
   "execution_count": null,
   "id": "6a756b43-6eab-48c0-a42b-0d328823b45e",
   "metadata": {},
   "outputs": [],
   "source": [
    "raise NotImplementedError()"
   ]
  },
  {
   "cell_type": "markdown",
   "id": "07fc9e79-cd32-49c2-b061-8677c922ec38",
   "metadata": {
    "jp-MarkdownHeadingCollapsed": true
   },
   "source": [
    "## iGOATS:"
   ]
  },
  {
   "cell_type": "code",
   "execution_count": null,
   "id": "876096d4-b218-492f-b994-51b8dce7a522",
   "metadata": {},
   "outputs": [],
   "source": [
    "raise NotImplementedError()"
   ]
  },
  {
   "cell_type": "markdown",
   "id": "f095d23d-a4ec-444f-9014-26d4a29c9f43",
   "metadata": {},
   "source": [
    "## Heuristics:"
   ]
  },
  {
   "cell_type": "code",
   "execution_count": null,
   "id": "6f1fd38e-043f-4f38-aa9f-3b27f1356de5",
   "metadata": {},
   "outputs": [],
   "source": [
    "system_name = \"pmsm\"\n",
    "\n",
    "heuristics_pmsm_results_by_metric = extract_results(\n",
    "    lengths=lengths,\n",
    "    raw_results_path=pathlib.Path(\"/home/hvater@uni-paderborn.de/projects/forks/DMPE/eval/pmsm/results/heuristics\"),\n",
    "    algo_names=[\"random_walk\", \"current_plane_sweep\"],\n",
    "    interpolate_to_lengths=[False, False],\n",
    "    extra_folders=None,\n",
    "    metrics={\n",
    "        \"jsd\": default_jsd,\n",
    "         \"ae\": default_ae,\n",
    "        \"mcudsa\": default_mcudsa, # partial(default_mcudsa, points_per_dim=30),\n",
    "        \"ksfc\": default_ksfc, #partial(default_ksfc, points_per_dim=30, variance=0.1, eps=1e-6),\n",
    "    },\n",
    "    metric_params={\n",
    "        \"jsd\": dict(\n",
    "            points_per_dim=22,\n",
    "            dim=4,\n",
    "            grid_extend=1.05,\n",
    "            bandwidth=0.08,\n",
    "            penalty_function=penalty_function\n",
    "        ),\n",
    "        \"ksfc\": dict(points_per_dim=30, variance=0.1, eps=1e-6),\n",
    "        \"mcudsa\": dict(points_per_dim=30),\n",
    "    },\n",
    "    force_consider_actions=True,\n",
    ")\n"
   ]
  },
  {
   "cell_type": "code",
   "execution_count": null,
   "id": "35241ad4-238d-4798-8d42-a803a0afa80d",
   "metadata": {},
   "outputs": [],
   "source": [
    "with open(\"results/quantitative_metrics_per_time/heuristics_pmsm_results.pickle\", \"wb\") as handle:\n",
    "    pickle.dump(heuristics_pmsm_results_by_metric, handle, protocol=pickle.HIGHEST_PROTOCOL)"
   ]
  },
  {
   "cell_type": "code",
   "execution_count": null,
   "id": "920ba3b8-6b3e-480c-883d-e651e60d014e",
   "metadata": {
    "scrolled": true
   },
   "outputs": [],
   "source": [
    "for ca in heuristics_pmsm_results_by_metric[\"random_walk\"].keys():\n",
    "    for rpm in heuristics_pmsm_results_by_metric[\"random_walk\"][ca].keys():\n",
    "        print(\"Considers_actions:\", ca)\n",
    "        print(\"rpm:\", rpm)\n",
    "        current_plane_sweep_results = heuristics_pmsm_results_by_metric[\"current_plane_sweep\"][ca][rpm]\n",
    "        random_walk_results = heuristics_pmsm_results_by_metric[\"random_walk\"][ca][rpm]\n",
    "        \n",
    "        fig = plot_metrics_by_sequence_length_for_all_algos(\n",
    "            data_per_algo=[current_plane_sweep_results, random_walk_results],\n",
    "            lengths=lengths,\n",
    "            algo_names=[\"$\\mathrm{PIsweep}$\", \"$\\mathrm{random walk}$\"],\n",
    "            use_log=False,\n",
    "        );\n",
    "        plt.show()"
   ]
  },
  {
   "cell_type": "markdown",
   "id": "2b7b40e4-4146-4d7d-b8ee-9dabfd6c9441",
   "metadata": {},
   "source": [
    "# Plot:"
   ]
  },
  {
   "cell_type": "markdown",
   "id": "01430891-33af-4a7c-a63f-43d5b24cad0d",
   "metadata": {},
   "source": [
    "## all together:"
   ]
  },
  {
   "cell_type": "code",
   "execution_count": null,
   "id": "a66dc813-4808-4471-b2ee-2d84102fdf83",
   "metadata": {},
   "outputs": [],
   "source": [
    "# load:\n",
    "\n",
    "with open(\"results/quantitative_metrics_per_time/dmpe_pmsm_results.pickle\", 'rb') as handle:\n",
    "    dmpe_pmsm_results_by_metric = pickle.load(handle)\n",
    "\n",
    "with open(\"results/quantitative_metrics_per_time/heuristics_pmsm_results.pickle\", 'rb') as handle:\n",
    "    heuristics_pmsm_results_by_metric = pickle.load(handle)\n"
   ]
  },
  {
   "cell_type": "code",
   "execution_count": null,
   "id": "a52c94ff-67ab-4333-bf65-07b0b38e73e6",
   "metadata": {
    "scrolled": true
   },
   "outputs": [],
   "source": [
    "for rpm in heuristics_pmsm_results_by_metric[\"random_walk\"][True].keys():\n",
    "    print(\"Considers_actions:\", True)\n",
    "    print(\"rpm:\", rpm)\n",
    "    \n",
    "    current_plane_sweep_results = heuristics_pmsm_results_by_metric[\"current_plane_sweep\"][True][rpm]\n",
    "    random_walk_results = heuristics_pmsm_results_by_metric[\"random_walk\"][True][rpm]\n",
    "\n",
    "    NODE_results = dmpe_pmsm_results_by_metric[\"NODE\"][True][rpm]\n",
    "    RLS_results = dmpe_pmsm_results_by_metric[\"RLS\"][True][rpm]\n",
    "\n",
    "    fig = plot_metrics_by_sequence_length_for_all_algos(\n",
    "        data_per_algo=[current_plane_sweep_results, random_walk_results, NODE_results, RLS_results],\n",
    "        lengths=lengths,\n",
    "        algo_names=[\"$\\mathrm{PI-sweep}$\", \"$\\mathrm{random-walk}$\", \"$\\mathrm{NODE-DMPE}$\", \"$\\mathrm{RLS-DMPE}$\"],\n",
    "        use_log=False,\n",
    "        plot_log=True,\n",
    "    );\n",
    "    plt.savefig(f\"results/quantitative_metrics_per_time/{rpm}_all_algos_all_metrics.pdf\")\n",
    "    plt.savefig(f\"results/quantitative_metrics_per_time/{rpm}_all_algos_all_metrics.png\", dpi=200)\n",
    "    plt.show()"
   ]
  },
  {
   "cell_type": "code",
   "execution_count": null,
   "id": "c3d97229-6177-44d0-b8df-521ab2beec35",
   "metadata": {
    "scrolled": true
   },
   "outputs": [],
   "source": [
    "for rpm in heuristics_pmsm_results_by_metric[\"random_walk\"][True].keys():\n",
    "    print(\"Considers_actions:\", True)\n",
    "    print(\"rpm:\", rpm)\n",
    "    \n",
    "    current_plane_sweep_results = heuristics_pmsm_results_by_metric[\"current_plane_sweep\"][True][rpm]\n",
    "    random_walk_results = heuristics_pmsm_results_by_metric[\"random_walk\"][True][rpm]\n",
    "\n",
    "    NODE_results = deepcopy(dmpe_pmsm_results_by_metric[\"NODE\"][True][rpm])\n",
    "\n",
    "    # exclude crashed runs:\n",
    "    if rpm == 7000:\n",
    "        for key in NODE_results.keys():\n",
    "            NODE_results[key] = jnp.concatenate([NODE_results[key][:5],  NODE_results[key][7:]], axis=0)\n",
    "    elif rpm == 9000:\n",
    "        for key in NODE_results.keys():\n",
    "            NODE_results[key] =  jnp.concatenate([NODE_results[key][:2], NODE_results[key][3:4], NODE_results[key][7:]], axis=0)\n",
    "\n",
    "    print(len(NODE_results[\"jsd\"]))\n",
    "    \n",
    "    RLS_results = dmpe_pmsm_results_by_metric[\"RLS\"][True][rpm]\n",
    "\n",
    "    fig = plot_metrics_by_sequence_length_for_all_algos(\n",
    "        data_per_algo=[current_plane_sweep_results, random_walk_results, NODE_results, RLS_results],\n",
    "        lengths=lengths,\n",
    "        algo_names=[\"$\\mathrm{PI-sweep}$\", \"$\\mathrm{random-walk}$\", \"$\\mathrm{NODE-DMPE}$\", \"$\\mathrm{RLS-DMPE}$\"],\n",
    "        use_log=False,\n",
    "        plot_log=True,\n",
    "    );\n",
    "    plt.savefig(f\"results/quantitative_metrics_per_time/{rpm}_all_algos_all_metrics_Excluding_crashes.pdf\")\n",
    "    plt.savefig(f\"results/quantitative_metrics_per_time/{rpm}_all_algos_all_metrics_Excluding_crashes.png\", dpi=200)\n",
    "    plt.show()"
   ]
  },
  {
   "cell_type": "markdown",
   "id": "1c5052e2-cb12-432d-b9a8-3ee353bd9477",
   "metadata": {},
   "source": [
    "## same figure:"
   ]
  },
  {
   "cell_type": "code",
   "execution_count": null,
   "id": "5b37c09e-b5d0-4ccb-8be7-ad6b4bbfadf9",
   "metadata": {},
   "outputs": [],
   "source": [
    "def plot_metrics_by_sequence_length_for_all_algos_for_all_rpm(data_per_algo_with_rpm, lengths, algo_names, use_log=False, plot_log=False):\n",
    "    assert len(data_per_algo_with_rpm) == len(algo_names), \"Mismatch in number of algo results and number of algo names\"\n",
    "\n",
    "    rpms = list(data_per_algo_with_rpm[0].keys())\n",
    "    metric_keys = list(data_per_algo_with_rpm[0][rpms[0]].keys())\n",
    "    #metric_keys.remove(\"ae\")\n",
    "    \n",
    "    fig, axs = plt.subplots(len(metric_keys), len(rpms), figsize=(full_column_width, 10), sharex=True, sharey=\"row\") # figsize=(19, 18)\n",
    "\n",
    "    for rpm_idx, rpm in enumerate(rpms):\n",
    "\n",
    "        data_per_algo = [element[rpm] for element in data_per_algo_with_rpm]\n",
    "        colors = plt.rcParams[\"axes.prop_cycle\"]()\n",
    "\n",
    "        for algo_name, data in zip(algo_names, data_per_algo):\n",
    "            \n",
    "            c = next(colors)[\"color\"]\n",
    "            if c == '#d62728':\n",
    "                c = next(colors)[\"color\"]\n",
    "            for metric_idx, metric_key in enumerate(metric_keys):\n",
    "                \n",
    "                mean = jnp.nanmean(jnp.log(data[metric_key]), axis=0) if use_log else jnp.nanmean(data[metric_key], axis=0)\n",
    "                std = jnp.nanstd(jnp.log(data[metric_key]), axis=0) if use_log else jnp.nanstd(data[metric_key], axis=0)\n",
    "    \n",
    "                axs[metric_idx, rpm_idx].plot(\n",
    "                    lengths * 1e-4,\n",
    "                    mean,  # jnp.log(mean) if use_log else mean,\n",
    "                    label=algo_name,\n",
    "                    color=c,\n",
    "                    #linestyle='dashed' if algo_name==\"$\\mathrm{DMPE}$\" else None,\n",
    "                )\n",
    "                axs[metric_idx, rpm_idx].fill_between(\n",
    "                    lengths * 1e-4,\n",
    "                    mean - std,  # jnp.log(mean - std) if use_log else mean - std,\n",
    "                    mean + std,  # jnp.log(mean + std) if use_log else mean + std,\n",
    "                    color=c,\n",
    "                    alpha=0.1,\n",
    "                )\n",
    "            # axs[metric_idx].set_ylabel((\"log \" if use_log else \"\") + metric_key)\n",
    "\n",
    "    if plot_log:\n",
    "        for ax_ in axs:\n",
    "            for ax in ax_:\n",
    "                ax.set_yscale('log', base=10)\n",
    "    \n",
    "        #axs[-1].set_yscale('log', base=10) if list(metric_keys)[-1] == \"ksfc\" else None\n",
    "\n",
    "    for idx, metric_key in enumerate(metric_keys):\n",
    "        axs[idx, 0].set_ylabel(f\"$\\mathcal{{L}}_\\mathrm{{{metric_key.upper()}}}$\")\n",
    "\n",
    "    for ax in axs[-1]:\n",
    "        ax.set_xlabel(\"$t$ $\\mathrm{in}$ $s$\")\n",
    "        ax.set_xlim(lengths[0] * 1e-4, lengths[-1] * 1e-4)\n",
    "\n",
    "    for ax_ in axs:\n",
    "        for ax in ax_:\n",
    "            ax.grid(True, which=\"both\", alpha=0.3)\n",
    "            ax.tick_params(axis=\"y\", direction='in')\n",
    "            ax.tick_params(axis=\"x\", direction='in') \n",
    "    \n",
    "    axs[0, -1].legend(prop={'size': 7 * 2.54}, framealpha=0.2)\n",
    "    axs[2, 0].set_yticks((0.1, 1))\n",
    "\n",
    "    for ax, col in zip(axs[0], [\"$0$ $\\mathrm{rpm}$\", \"$3.000$ $\\mathrm{rpm}$\", \"$5.000$ $\\mathrm{rpm}$\", \"$7.000$ $\\mathrm{rpm}$\", \"$9.000$ $\\mathrm{rpm}$\",]):\n",
    "        ax.set_title(col)\n",
    "\n",
    "    # plt.subplots_adjust(hspace=0.1, wspace=0.0)\n",
    "    \n",
    "    plt.tight_layout(pad=0.1, w_pad=0.1)\n",
    "    fig.align_ylabels(axs)\n",
    "\n",
    "    return fig"
   ]
  },
  {
   "cell_type": "code",
   "execution_count": null,
   "id": "55295e62-6318-4dd7-a3f8-8c502088a97b",
   "metadata": {},
   "outputs": [],
   "source": [
    "current_plane_sweep_results = heuristics_pmsm_results_by_metric[\"current_plane_sweep\"][True]\n",
    "random_walk_results = heuristics_pmsm_results_by_metric[\"random_walk\"][True]\n",
    "\n",
    "NODE_results = deepcopy(dmpe_pmsm_results_by_metric[\"NODE\"][True])\n",
    "RLS_results = dmpe_pmsm_results_by_metric[\"RLS\"][True]\n",
    "\n",
    "\n",
    "for rpm in NODE_results.keys():\n",
    "    # exclude crashed runs:    \n",
    "    if rpm == 7000:\n",
    "        for key in NODE_results[rpm].keys():\n",
    "            NODE_results[rpm][key] = jnp.concatenate([NODE_results[rpm][key][:5],  NODE_results[rpm][key][7:]], axis=0)\n",
    "    elif rpm == 9000:\n",
    "        for key in NODE_results[rpm].keys():\n",
    "            NODE_results[rpm][key] =  jnp.concatenate([NODE_results[rpm][key][:2], NODE_results[rpm][key][3:4], NODE_results[rpm][key][7:]], axis=0)\n",
    "\n",
    "    print(len(NODE_results[rpm][\"jsd\"]))\n",
    "\n",
    "plot_metrics_by_sequence_length_for_all_algos_for_all_rpm(        \n",
    "    data_per_algo_with_rpm=[current_plane_sweep_results, random_walk_results, NODE_results, RLS_results],\n",
    "    lengths=lengths,\n",
    "    algo_names=[\"$\\mathrm{PI-sweep}$\", \"$\\mathrm{random-walk}$\", \"$\\mathrm{NODE-DMPE}$\", \"$\\mathrm{RLS-DMPE}$\"],\n",
    "    use_log=False,\n",
    "    plot_log=True,\n",
    ");\n",
    "\n",
    "plt.savefig(\"results/quantitative_metrics_per_time/all_metrics_all_rpm_all_algos.pdf\")"
   ]
  },
  {
   "cell_type": "code",
   "execution_count": null,
   "id": "531f2ce4-7b87-48ed-b247-1898c21e7c0b",
   "metadata": {},
   "outputs": [],
   "source": []
  },
  {
   "cell_type": "markdown",
   "id": "aef17ef2-d3bf-4e6e-bb35-57de1817af7b",
   "metadata": {},
   "source": [
    "## stuff"
   ]
  },
  {
   "cell_type": "code",
   "execution_count": null,
   "id": "e802249a-9fed-464a-a824-07144f083f1b",
   "metadata": {},
   "outputs": [],
   "source": [
    "for ca in all_pmsm_results_by_metric[\"PM\"].keys():\n",
    "    for rpm in all_pmsm_results_by_metric[\"PM\"][ca].keys():\n",
    "        print(\"Considers_actions:\", ca)\n",
    "        print(\"rpm:\", rpm)\n",
    "        NODE_results = all_pmsm_results_by_metric[\"NODE\"][ca][rpm]\n",
    "        RLS_results = all_pmsm_results_by_metric[\"RLS\"][ca][rpm]\n",
    "        PM_results = all_pmsm_results_by_metric[\"PM\"][ca][rpm]\n",
    "        \n",
    "        # print(NODE_results.keys())\n",
    "        \n",
    "        fig = plot_metrics_by_sequence_length_for_all_algos(\n",
    "            data_per_algo=[NODE_results, RLS_results, PM_results],\n",
    "            lengths=lengths,\n",
    "            algo_names=[\"$\\mathrm{NODE-DMPE}$\", \"$\\mathrm{RLS-DMPE}$\", \"$\\mathrm{PM-DMPE}$\"],\n",
    "            use_log=False,\n",
    "        );\n",
    "        plt.show()\n",
    "        \n",
    "# plt.savefig(f\"metrics_per_sequence_length_{system_name}.pdf\")\n"
   ]
  },
  {
   "cell_type": "code",
   "execution_count": null,
   "id": "e46b5923-b9e8-4e29-bb0e-e905025b76b8",
   "metadata": {},
   "outputs": [],
   "source": [
    "dmpe_results_by_metric = all_pmsm_results_by_metric[\"dmpe\"]\n",
    "igoats_results_by_metric = all_pmsm_results_by_metric[\"igoats\"][\"interp\"]\n",
    "pm_dmpe_results_by_metric = all_pmsm_results_by_metric[\"perfect_model_dmpe\"]\n",
    "dmpe_results_by_metric.keys()"
   ]
  },
  {
   "cell_type": "code",
   "execution_count": null,
   "id": "adfbaa5e-7e55-4436-b871-f866dcf3b0c6",
   "metadata": {},
   "outputs": [],
   "source": [
    "plot_metrics_by_sequence_length_for_all_algos(\n",
    "    data_per_algo=[pm_dmpe_results_by_metric, dmpe_results_by_metric, igoats_results_by_metric],\n",
    "    lengths=lengths,\n",
    "    algo_names=[\"$\\mathrm{PM-DMPE}$\", \"$\\mathrm{DMPE}$\", \"$\\mathrm{iGOATS}$\"],\n",
    "    use_log=False,\n",
    ");\n",
    "plt.savefig(f\"metrics_per_sequence_length_{system_name}.pdf\")"
   ]
  },
  {
   "cell_type": "code",
   "execution_count": null,
   "id": "40e5c116-254f-430d-8261-1ef239e05d32",
   "metadata": {},
   "outputs": [],
   "source": []
  }
 ],
 "metadata": {
  "kernelspec": {
   "display_name": "Python 3 (ipykernel)",
   "language": "python",
   "name": "python3"
  },
  "language_info": {
   "codemirror_mode": {
    "name": "ipython",
    "version": 3
   },
   "file_extension": ".py",
   "mimetype": "text/x-python",
   "name": "python",
   "nbconvert_exporter": "python",
   "pygments_lexer": "ipython3",
   "version": "3.11.11"
  }
 },
 "nbformat": 4,
 "nbformat_minor": 5
}
